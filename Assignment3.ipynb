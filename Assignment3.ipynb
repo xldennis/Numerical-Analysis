{
 "cells": [
  {
   "cell_type": "markdown",
   "metadata": {},
   "source": [
    "<h1 align=center>Assignment 3</h1>\n",
    "\n",
    "## Due Friday, October 9, by 11:59:59 p.m. \n",
    "\n",
    "Let _a,b,c,d_ be the last 4 non-zero digits of your banner enumber _in non-descending order_ $0 \\lt a \\le b \\le c \\le d$. For example, if your Enumber is E99943040, then __a=3, b=4, c=4,__ and __d=9__. \n",
    "\n",
    "Remember to start by importing the future!!"
   ]
  },
  {
   "cell_type": "code",
   "execution_count": 7,
   "metadata": {
    "collapsed": false
   },
   "outputs": [
    {
     "name": "stdout",
     "output_type": "stream",
     "text": [
      "Populating the interactive namespace from numpy and matplotlib\n"
     ]
    }
   ],
   "source": [
    "%pylab inline\n",
    "from __future__ import division\n",
    "\n",
    "set_printoptions( precision = 6, suppress=True)"
   ]
  },
  {
   "cell_type": "code",
   "execution_count": 2,
   "metadata": {
    "collapsed": false
   },
   "outputs": [],
   "source": [
    "a = 2; b = 4; c = 4; d = 6"
   ]
  },
  {
   "cell_type": "markdown",
   "metadata": {},
   "source": [
    "In short, this entire assignment is about using Newton's methods and its variations to solve equations or find zero's of functions.  Not surprisingly, it is very much like the homework you looked at for this chapter.  \n",
    "\n",
    "Below is the \"minimal\" code example for Newton's method, and note that it stops once the error is below $10^{-6}$.  You'll have to calculate and code derivatives by hand, but otherwise, it does the same thing as the more sophisticated version in the aforementioned notebook. \n"
   ]
  },
  {
   "cell_type": "code",
   "execution_count": 3,
   "metadata": {
    "collapsed": false
   },
   "outputs": [
    {
     "name": "stdout",
     "output_type": "stream",
     "text": [
      "     xn           xp           |xn-xp|        f(xn)\n",
      "    1.632911     2.000000     0.367089     8.976577358\n",
      "    1.373086     1.632911     0.259826     2.507679812\n",
      "    1.223578     1.373086     0.149507     0.519000090\n",
      "    1.172732     1.223578     0.050846     0.045433012\n",
      "    1.167360     1.172732     0.005372     0.000463331\n",
      "    1.167304     1.167360     0.000056     0.000000050\n",
      "    1.167304     1.167304     0.000000     0.000000000\n"
     ]
    },
    {
     "data": {
      "text/plain": [
       "1.1673039782614187"
      ]
     },
     "execution_count": 3,
     "metadata": {},
     "output_type": "execute_result"
    },
    {
     "data": {
      "image/png": "[encoded data removed]",
      "text/plain": [
       "<matplotlib.figure.Figure at 0x105cfba50>"
      ]
     },
     "metadata": {},
     "output_type": "display_data"
    }
   ],
   "source": [
    "def f(x):\n",
    "    return x**5 - x - 1\n",
    "\n",
    "def fprime(x):\n",
    "    return 5*x**4 - 1\n",
    "\n",
    "xdomain = linspace(0,2,100)\n",
    "plot(xdomain, f(xdomain),xdomain,0*xdomain)\n",
    "\n",
    "xn = 2   #  this is the n=0 initial value.  Must be sufficiently close to the answer.\n",
    "xp = xn  #  this is the previous value.  Should be close to xn\n",
    "print('{:^12s} {:^12s} {:>12s} {:>12s}'.format('xn','xp','|xn-xp|','f(xn)' ) ) \n",
    "\n",
    "for n in range(1000):\n",
    "    xp = xn\n",
    "    xn = xn - f(xn) / fprime(xn)\n",
    "    \n",
    "    print('{:12.6f} {:12.6f} {:12.6f} {:15.9f}'.format(xn,xp,abs(xn-xp), f(xn))  ) \n",
    "    \n",
    "    if( abs(xn-xp) < 10e-6):\n",
    "        break\n",
    "xn  "
   ]
  },
  {
   "cell_type": "markdown",
   "metadata": {},
   "source": [
    "As you can see, it also contains a simple plot command and print statements so as to generate a \"loop table\" so you can see what is going on within the loop.  In general, you should be able to modify this simple code structure to produce what you need to answer the questions below. Use any or all as you like (in particular, if you don't understand what the print statements are doing, then omit them).  \n",
    "\n",
    "You may use a minimal coding approach, such as above, or you may use the sympy symbolic Python in \"Mathematics with Algorithms\" (less chance of making an error if you understand what you are doing).  Or any combination or anything else in either Matlab or Python that solves the problems given below: \n",
    "\n",
    "Let's get started: \n",
    "\n",
    "### Do each in the cells below and upload your notebook once completed\n",
    "\n",
    "__1.__ (5 points) Use Newton's method to estimate the zero of the function \n",
    "$$  f(x) = dx^4 - 4dx - c$$\n",
    "that is closest to 1, to within an error of $10^{-6}$. "
   ]
  },
  {
   "cell_type": "markdown",
   "metadata": {
    "collapsed": false
   },
   "source": [
    "newton: x(n+1) = x(n) - f(x(n))/g and let g be f prime x (derivative)"
   ]
  },
  {
   "cell_type": "markdown",
   "metadata": {
    "collapsed": false
   },
   "source": [
    "but what if f is not derivable. we can let g be the slope of two points (x and x_previous(actually it's the current x because x is always updated))"
   ]
  },
  {
   "cell_type": "code",
   "execution_count": 8,
   "metadata": {
    "collapsed": false,
    "scrolled": true
   },
   "outputs": [
    {
     "name": "stdout",
     "output_type": "stream",
     "text": [
      "     xn           xp           |xn-xp|        f(xn)\n",
      " 3056.250070     1.000100  3055.249970 523488078912759.250000000\n",
      " 2292.187553  3056.250070   764.062518 165634899959893.468750000\n",
      " 1719.140665  2292.187553   573.046888 52407917558987.203125000\n",
      " 1289.355499  1719.140665   429.785166 16582192660312.167968750\n",
      "  967.016625  1289.355499   322.338874 5246709392799.536132812\n",
      "  725.262469   967.016625   241.754155 1660091641094.698242188\n",
      "  543.946853   725.262469   181.315616 525263368774.271789551\n",
      "  407.960143   543.946853   135.986711 166196611245.337036133\n",
      "  305.970111   407.960143   101.990031 52585645378.410133362\n",
      "  229.477592   305.970111    76.492520 16638425996.424783707\n",
      "  172.108208   229.477592    57.369384 5264501328.978698730\n",
      "  129.081181   172.108208    43.027027 1665720638.520989418\n",
      "   96.810931   129.081181    32.270250 527044056.694394886\n",
      "   72.608279    96.810931    24.202653 166759760.235950291\n",
      "   54.456352    72.608279    18.151927 52763625.129691757\n",
      "   40.842518    54.456352    13.613834 16694586.558676790\n",
      "   30.632340    40.842518    10.210177 5282155.612506357\n",
      "   22.975060    30.632340     7.657280 1671219.850083667\n",
      "   17.232730    22.975060     5.742330 528718.743555224\n",
      "   12.927106    17.232730     4.305624 167240.404897177\n",
      "    9.699897    12.927106     3.227209 52878.512243087\n",
      "    7.283085     9.699897     2.416811 16702.777717444\n",
      "    5.476923     7.283085     1.806163  5263.359655086\n",
      "    4.133869     5.476923     1.343054  1648.963962545\n",
      "    3.147313     4.133869     0.986556   509.187485741\n",
      "    2.444232     3.147313     0.703081   151.489830335\n",
      "    1.980194     2.444232     0.464038    40.728711908\n",
      "    1.729328     1.980194     0.250866     8.157332249\n",
      "    1.647852     1.729328     0.081475     0.692491816\n",
      "    1.639548     1.647852     0.008304     0.006718540\n",
      "    1.639466     1.639548     0.000082     0.000000653\n",
      "    1.639466     1.639466     0.000000     0.000000000\n"
     ]
    },
    {
     "data": {
      "text/plain": [
       "1.6394659766863915"
      ]
     },
     "execution_count": 8,
     "metadata": {},
     "output_type": "execute_result"
    },
    {
     "data": {
      "image/png": "[encoded data removed]",
      "text/plain": [
       "<matplotlib.figure.Figure at 0x108bcb8d0>"
      ]
     },
     "metadata": {},
     "output_type": "display_data"
    }
   ],
   "source": [
    "def f(x):\n",
    "    return d*x**4-4*d*x - c\n",
    "\n",
    "def fprime(x): #f is differentiable\n",
    "    return 4*d*x**3 - 4*d\n",
    "\n",
    "xdomain = linspace(0,2,100)\n",
    "plot(xdomain, f(xdomain),xdomain,0*xdomain)\n",
    "\n",
    "xn = 1.0001   #  this is the n=0 initial value.  Must be sufficiently close to the answer.\n",
    "xp = xn  #  this is the previous value.  Should be close to xn\n",
    "print('{:^12s} {:^12s} {:>12s} {:>12s}'.format('xn','xp','|xn-xp|','f(xn)' ) ) \n",
    "\n",
    "for n in range(1000):\n",
    "    xp = xn\n",
    "    xn = xn - f(xn) / fprime(xn)\n",
    "    \n",
    "    print('{:12.6f} {:12.6f} {:12.6f} {:15.9f}'.format(xn,xp,abs(xn-xp), f(xn))  ) \n",
    "    \n",
    "    if( abs(xn-xp) < 10e-6):\n",
    "        break\n",
    "xn  "
   ]
  },
  {
   "cell_type": "markdown",
   "metadata": {
    "collapsed": false
   },
   "source": [
    "The solution is $x_n = 1.6394659766863915$ "
   ]
  },
  {
   "cell_type": "code",
   "execution_count": null,
   "metadata": {
    "collapsed": true
   },
   "outputs": [],
   "source": []
  },
  {
   "cell_type": "markdown",
   "metadata": {},
   "source": [
    "__2.__ (5 points) Use a secant method approach to estimate the zero of the function \n",
    "$$  f(x) = d\\;x^4 - 4dx - c $$\n",
    "that is closest to 1, to within an error of $10^{-6}$. "
   ]
  },
  {
   "cell_type": "code",
   "execution_count": 6,
   "metadata": {
    "collapsed": false
   },
   "outputs": [
    {
     "name": "stdout",
     "output_type": "stream",
     "text": [
      "     xn           xp           |xn-xp|        f(xn)\n",
      "    6.720229     1.000000     5.720229 12072.067587689\n",
      "    1.010406     6.720229     5.709823   -21.996074997\n",
      "    1.020790     1.010406     0.010385   -21.984222756\n",
      "   20.283006     1.020790    19.262216 1015010.575289342\n",
      "    1.021207    20.283006    19.261798   -21.983578656\n",
      "    1.021625     1.021207     0.000417   -21.982921520\n",
      "   14.977139     1.021625    13.955514 301539.033280088\n",
      "    1.022642    14.977139    13.954497   -21.981264175\n",
      "    1.023659     1.022642     0.001017   -21.979529165\n",
      "   13.909363     1.023659    12.885703 224246.870142351\n",
      "    1.024922    13.909363    12.884441   -21.977266418\n",
      "    1.026185     1.024922     0.001263   -21.974883538\n",
      "   12.669987     1.026185    11.643802 154308.440375244\n",
      "    1.027843    12.669987    11.642144   -21.971570955\n",
      "    1.029500     1.027843     0.001657   -21.968050348\n",
      "   11.371786     1.029500    10.342286 100061.187543098\n",
      "    1.031770    11.371786    10.340016   -21.962888076\n",
      "    1.034039     1.031770     0.002269   -21.957333424\n",
      "   10.003625     1.034039     8.969586 59842.957935924\n",
      "    1.037329    10.003625     8.966296   -21.948575458\n",
      "    1.040616     1.037329     0.003287   -21.938986615\n",
      "    8.561995     1.040616     7.521379 32034.675674328\n",
      "    1.045764     8.561995     7.516231   -21.922277319\n",
      "    1.050904     1.045764     0.005140   -21.903510314\n",
      "    7.050018     1.050904     5.999114 14648.980001312\n",
      "    1.059861     7.050018     5.990157   -21.865776506\n",
      "    1.068788     1.059861     0.008928   -21.821706975\n",
      "    5.489562     1.068788     4.420773  5313.064886657\n",
      "    1.086871     5.489562     4.402691   -21.712247108\n",
      "    1.104790     1.086871     0.017919   -21.576347392\n",
      "    3.949684     1.104790     2.844894  1361.367720428\n",
      "    1.149175     3.949684     2.800508   -21.116241674\n",
      "    1.191950     1.149175     0.042775   -20.495697311\n",
      "    2.604759     1.191950     1.412808   209.684324735\n",
      "    1.317750     2.604759     1.287009   -17.534140329\n",
      "    1.417067     1.317750     0.099317   -13.815342888\n",
      "    1.786029     1.417067     0.368962    14.188008003\n",
      "    1.599092     1.786029     0.186936    -3.145755326\n",
      "    1.633018     1.599092     0.033925    -0.523176915\n",
      "    1.639786     1.633018     0.006768     0.026147842\n",
      "    1.639464     1.639786     0.000322    -0.000200420\n",
      "    1.639466     1.639464     0.000002    -0.000000076\n"
     ]
    },
    {
     "data": {
      "text/plain": [
       "1.6394659757591286"
      ]
     },
     "execution_count": 6,
     "metadata": {},
     "output_type": "execute_result"
    },
    {
     "data": {
      "image/png": "[encoded data removed]",
      "text/plain": [
       "<matplotlib.figure.Figure at 0x108bb8150>"
      ]
     },
     "metadata": {},
     "output_type": "display_data"
    }
   ],
   "source": [
    "def f(x):\n",
    "    return d*x**4-4*d*x - c\n",
    "\n",
    "xdomain = linspace(0,2,100)\n",
    "plot(xdomain, f(xdomain),xdomain,0*xdomain)\n",
    "\n",
    "x0 = 1.1\n",
    "x1 = 1\n",
    "xp = x0\n",
    "xn = x1\n",
    "print('{:^12s} {:^12s} {:>12s} {:>12s}'.format('xn','xp','|xn-xp|','f(xn)' ) ) \n",
    "\n",
    "for n in range(1000):\n",
    "    temp = xn\n",
    "    xn = xn - f(xn)*(xn-xp) / (f(xn)-f(xp))\n",
    "    xp = temp\n",
    "    \n",
    "    print('{:12.6f} {:12.6f} {:12.6f} {:15.9f}'.format(xn,xp,abs(xn-xp), f(xn))  ) \n",
    "    \n",
    "    if( abs(xn-xp) < 10e-6):\n",
    "        break\n",
    "xn  "
   ]
  },
  {
   "cell_type": "markdown",
   "metadata": {
    "collapsed": false
   },
   "source": [
    "The solution is $x_n = 1.6394659766857607$"
   ]
  },
  {
   "cell_type": "code",
   "execution_count": null,
   "metadata": {
    "collapsed": false
   },
   "outputs": [],
   "source": []
  },
  {
   "cell_type": "markdown",
   "metadata": {},
   "source": [
    "__3.__ (5 points) Use either Newton's method or a secant method to estimate a point $c$ at which the function\n",
    "$$  f(x) = d\\;x^4 - 4d x - c $$\n",
    "satisfies the Mean Value Theorem over the interval $[-a,b]$, to within an error of $10^{-6}$. "
   ]
  },
  {
   "cell_type": "code",
   "execution_count": 40,
   "metadata": {
    "collapsed": false
   },
   "outputs": [
    {
     "name": "stdout",
     "output_type": "stream",
     "text": [
      "     xn           xp           |xn-xp|       fprime - slope\n",
      "    4.000000     1.000000     3.000000       1296.000000000\n",
      "    2.875000     4.000000     1.125000        330.328125000\n",
      "    2.319943     2.875000     0.555057         59.670055252\n",
      "    2.165962     2.319943     0.153982          3.872860980\n",
      "    2.154496     2.165962     0.011466          0.020465016\n",
      "    2.154435     2.154496     0.000061          0.000000582\n",
      "    2.154435     2.154435     0.000000          0.000000000\n"
     ]
    },
    {
     "data": {
      "text/plain": [
       "[<matplotlib.lines.Line2D at 0x109fdc7d0>]"
      ]
     },
     "execution_count": 40,
     "metadata": {},
     "output_type": "execute_result"
    },
    {
     "data": {
      "image/png": "[encoded data removed]",
      "text/plain": [
       "<matplotlib.figure.Figure at 0x108ebe110>"
      ]
     },
     "metadata": {},
     "output_type": "display_data"
    }
   ],
   "source": [
    "def f(x):\n",
    "    return d*x**4-4*d*x - c\n",
    "\n",
    "def fprime(x): #f is differentiable\n",
    "    return 4*d*x**3 - 4*d\n",
    "\n",
    "def g(x):\n",
    "    return fprime(x) - (f(b)-f(-a))/(b+a) #we wanna find the root of g(x)\n",
    "\n",
    "def gprime(x):\n",
    "    return 12*d*x**2\n",
    "\n",
    "\n",
    "xn = 1   #  this is the n=0 initial value.  Must be sufficiently close to the answer.\n",
    "xp = xn  #  this is the previous value.  Should be close to xn\n",
    "print('{:^12s} {:^12s} {:>12s} {:>20s}'.format('xn','xp','|xn-xp|','fprime - slope' ) ) \n",
    "\n",
    "for n in range(1000):\n",
    "    xp = xn\n",
    "    xn = xn - g(xn) / gprime(xn)\n",
    "    \n",
    "    print('{:12.6f} {:12.6f} {:12.6f} {:20.9f}'.format(xn,xp,abs(xn-xp), g(xn))  ) \n",
    "    \n",
    "    if( abs(xn-xp) < 10e-6):\n",
    "        break\n",
    "xn  \n",
    "\n",
    "xdomain = linspace(-a,b,100)\n",
    "plt.ylim(ymax = 2000, ymin = -2000)\n",
    "tan = f(xn)+fprime(xn)*(xdomain-xn)\n",
    "plot(xdomain, f(xdomain))\n",
    "plot(xn,f(xn),'om',xdomain,tan,'--r')\n",
    "plot([-a, b], [f(-a), f(b)], '--g')"
   ]
  },
  {
   "cell_type": "markdown",
   "metadata": {
    "collapsed": false
   },
   "source": [
    "The solution is $x_n = 2.154435$"
   ]
  },
  {
   "cell_type": "code",
   "execution_count": null,
   "metadata": {
    "collapsed": false
   },
   "outputs": [],
   "source": []
  },
  {
   "cell_type": "markdown",
   "metadata": {},
   "source": [
    "__4.__ (5 points) Compute the characteristic polynomial of the matrix \n",
    "$$A = \\begin{bmatrix}\n",
    "        a & b & 0 \\\\\n",
    "        b & -a & d \\\\\n",
    "        0 & d & 0 \n",
    "      \\end{bmatrix}\n",
    "$$\n",
    "and then estimate one of its eigenvalues using Newton's Method."
   ]
  },
  {
   "cell_type": "code",
   "execution_count": 11,
   "metadata": {
    "collapsed": false
   },
   "outputs": [
    {
     "data": {
      "text/plain": [
       "array([  1.,  -0., -56.,  72.])"
      ]
     },
     "execution_count": 11,
     "metadata": {},
     "output_type": "execute_result"
    }
   ],
   "source": [
    "A = matrix([[a, b, 0],\n",
    "            [b,-a, d],\n",
    "            [0, d, 0]])\n",
    "poly(A) #p(u) = 1*u^3 + 0*u^2 - 56*u + 72"
   ]
  },
  {
   "cell_type": "code",
   "execution_count": 50,
   "metadata": {
    "collapsed": false
   },
   "outputs": [
    {
     "name": "stdout",
     "output_type": "stream",
     "text": [
      "     xn           xp           |xn-xp|        p(xn)\n",
      "    1.285714     0.000000     1.285714     2.125364431\n",
      "    1.327355     1.285714     0.041640     0.006760218\n",
      "    1.327488     1.327355     0.000133     0.000000071\n",
      "    1.327488     1.327488     0.000000     0.000000000\n"
     ]
    },
    {
     "data": {
      "text/plain": [
       "1.3274880735748122"
      ]
     },
     "execution_count": 50,
     "metadata": {},
     "output_type": "execute_result"
    },
    {
     "data": {
      "image/png": "[encoded data removed]",
      "text/plain": [
       "<matplotlib.figure.Figure at 0x108fa3110>"
      ]
     },
     "metadata": {},
     "output_type": "display_data"
    }
   ],
   "source": [
    "def p(u):\n",
    "    return 1*u**3 - 56*u + 72\n",
    "def prime(u):\n",
    "    return 3*u**2 - 56\n",
    "\n",
    "udomain = linspace(1,3,100)\n",
    "plot(udomain, p(udomain),udomain,0*udomain)\n",
    "\n",
    "\n",
    "xn = 0   #  this is the n=0 initial value.  Must be sufficiently close to the answer.\n",
    "xp = xn  #  this is the previous value.  Should be close to xn\n",
    "print('{:^12s} {:^12s} {:>12s} {:>12s}'.format('xn','xp','|xn-xp|','p(xn)' ) ) \n",
    "\n",
    "for n in range(1000):\n",
    "    xp = xn\n",
    "    xn = xn - p(xn) / prime(xn)\n",
    "    \n",
    "    print('{:12.6f} {:12.6f} {:12.6f} {:15.9f}'.format(xn,xp,abs(xn-xp), p(xn))  ) \n",
    "    \n",
    "    if( abs(xn-xp) < 10e-6):\n",
    "        break\n",
    "xn  #this is the eigenvalue of matrix A; converge quickly; works even for complex value"
   ]
  },
  {
   "cell_type": "markdown",
   "metadata": {
    "collapsed": true
   },
   "source": [
    "The solution is $x_n = 1.3274880735748122$ and that is the eigen-value"
   ]
  },
  {
   "cell_type": "markdown",
   "metadata": {},
   "source": [
    "To verify this is exactly eigen-value of matrix A, we use the numpy and scipy function:"
   ]
  },
  {
   "cell_type": "code",
   "execution_count": 52,
   "metadata": {
    "collapsed": false
   },
   "outputs": [
    {
     "data": {
      "text/plain": [
       "1.3274880735748122"
      ]
     },
     "execution_count": 52,
     "metadata": {},
     "output_type": "execute_result"
    }
   ],
   "source": [
    "from numpy import linalg as LA\n",
    "w = LA.eigvals(A)\n",
    "w[1] #which is the numerical solution above"
   ]
  },
  {
   "cell_type": "code",
   "execution_count": null,
   "metadata": {
    "collapsed": true
   },
   "outputs": [],
   "source": []
  },
  {
   "cell_type": "markdown",
   "metadata": {},
   "source": [
    "__5.__ ( 10 points) Use either Newton's method or a secant method to estimate the point in $[0,1]$ at which a maximum of \n",
    "$$  f(x) = x^d(1-x^c) + b $$\n",
    "occurs over the interval $[0,1]$, to within an error of $10^{-6}$.  __CAUTION:__ You may want to plot the function first.  Your choice of $x_0$ may require some thought. "
   ]
  },
  {
   "cell_type": "code",
   "execution_count": 47,
   "metadata": {
    "collapsed": false
   },
   "outputs": [
    {
     "name": "stdout",
     "output_type": "stream",
     "text": [
      "     xn           xp           |xn-xp|        g(xn)\n",
      "    0.933333     1.000000     0.066667     4.159417398\n",
      "    0.894622     0.933333     0.038711     4.184275065\n",
      "    0.881500     0.894622     0.013122     4.185889238\n",
      "    0.880126     0.881500     0.001374     4.185903199\n",
      "    0.880112     0.880126     0.000014     4.185903201\n",
      "    0.880112     0.880112     0.000000     4.185903201\n"
     ]
    },
    {
     "data": {
      "text/plain": [
       "[<matplotlib.lines.Line2D at 0x10a9b59d0>,\n",
       " <matplotlib.lines.Line2D at 0x10a9c2250>]"
      ]
     },
     "execution_count": 47,
     "metadata": {},
     "output_type": "execute_result"
    },
    {
     "data": {
      "image/png": "[encoded data removed]",
      "text/plain": [
       "<matplotlib.figure.Figure at 0x10a837410>"
      ]
     },
     "metadata": {},
     "output_type": "display_data"
    }
   ],
   "source": [
    "\n",
    "def f(x): \n",
    "    return x**d - x**(d+c) + b\n",
    "\n",
    "def g(x): #derivative of f(x)\n",
    "    return d*x**(d-1)-(d+c)*x**(d+c-1)\n",
    "\n",
    "def gprime(x): \n",
    "    return d*(d-1)*x**(d-2)-(d+c)*(d+c-1)*x**(d+c-2)\n",
    "\n",
    "\n",
    "\n",
    "xn = 1   #  this is the n=0 initial value.  Must be sufficiently close to the answer.\n",
    "xp = xn  #  this is the previous value.  Should be close to xn\n",
    "print('{:^12s} {:^12s} {:>12s} {:>12s}'.format('xn','xp','|xn-xp|','g(xn)' ) ) \n",
    "\n",
    "for n in range(1000):\n",
    "    xp = xn\n",
    "    xn = xn - g(xn) / gprime(xn)\n",
    "    \n",
    "    print('{:12.6f} {:12.6f} {:12.6f} {:15.9f}'.format(xn,xp,abs(xn-xp), f(xn))  ) \n",
    "    \n",
    "    if( abs(xn-xp) < 10e-6):\n",
    "        break\n",
    "xn  \n",
    "\n",
    "xdomain = linspace(0,1,100)\n",
    "plt.ylim(ymax = 5, ymin = 3)\n",
    "plot(xdomain, f(xdomain))\n",
    "plot(xn,f(xn),'om',[0, 1], [f(xn),f(xn)], '--g')"
   ]
  },
  {
   "cell_type": "markdown",
   "metadata": {
    "collapsed": false
   },
   "source": [
    "The solution is $x_n = 0.8801117367933934$ at which $f(x)$ reaches the maximum."
   ]
  },
  {
   "cell_type": "code",
   "execution_count": null,
   "metadata": {
    "collapsed": false
   },
   "outputs": [],
   "source": []
  },
  {
   "cell_type": "markdown",
   "metadata": {},
   "source": [
    "###Problems 6 - 7 use the following: \n",
    "Let __dd__ denote the 2 digit number formed by two repetitions of the largest of the last 4 non-zero digits in your enumber, and let __da__ denote the 2 digit number formed by the largest and smallest of the last 4 non-zero digits in your enumber. (Note: It will be important that __da__ be _strictly less than_  __dd__.  If this is not true, please contact me). \n",
    "\n",
    "We are going to consider the function \n",
    "$$  p(x) = {(da)}^2 \\; x^2 + 2\\cos\\left(dd\\;x\\right) $$\n",
    "which is a small perturbation of a parabola.  Although it appears to have a _minimum_ at the origin, it in fact has a maximum at the origin and two minima nearby. \n",
    "\n",
    "\n",
    "__6.__ ( 5 points) Define the function $p(x)$ and plot it over the intervals $[-1,1]$, $[-0.1,0.1]$, and $[-0.02,0.02]$. "
   ]
  },
  {
   "cell_type": "code",
   "execution_count": 8,
   "metadata": {
    "collapsed": false
   },
   "outputs": [
    {
     "data": {
      "text/plain": [
       "[<matplotlib.lines.Line2D at 0x108668d90>]"
      ]
     },
     "execution_count": 8,
     "metadata": {},
     "output_type": "execute_result"
    },
    {
     "data": {
      "image/png": "[encoded data removed]",
      "text/plain": [
       "<matplotlib.figure.Figure at 0x108535890>"
      ]
     },
     "metadata": {},
     "output_type": "display_data"
    }
   ],
   "source": [
    "def p(x): \n",
    "    return (62*x)**2 + 2* cos(66*x)\n",
    "\n",
    "xdomain = linspace(-1,1,1000)\n",
    "# plt.ylim(ymax = 5, ymin = 3)\n",
    "plot(xdomain, p(xdomain))"
   ]
  },
  {
   "cell_type": "code",
   "execution_count": 10,
   "metadata": {
    "collapsed": false
   },
   "outputs": [
    {
     "data": {
      "text/plain": [
       "[<matplotlib.lines.Line2D at 0x1088a5250>,\n",
       " <matplotlib.lines.Line2D at 0x108b03750>]"
      ]
     },
     "execution_count": 10,
     "metadata": {},
     "output_type": "execute_result"
    },
    {
     "data": {
      "image/png": "[encoded data removed]",
      "text/plain": [
       "<matplotlib.figure.Figure at 0x1088a51d0>"
      ]
     },
     "metadata": {},
     "output_type": "display_data"
    }
   ],
   "source": [
    "def p(x): \n",
    "    return (62*x)**2 + 2* cos(66*x)\n",
    "\n",
    "xdomain = linspace(-0.1,0.1,100)\n",
    "plt.xlim(xmax = 0.1, xmin = -0.1)\n",
    "#plt.ylim(ymax = 4.5, ymin = 3.5)\n",
    "plot(xdomain, p(xdomain),xdomain,0*xdomain)"
   ]
  },
  {
   "cell_type": "code",
   "execution_count": 12,
   "metadata": {
    "collapsed": false
   },
   "outputs": [
    {
     "data": {
      "text/plain": [
       "[<matplotlib.lines.Line2D at 0x108e5eb10>]"
      ]
     },
     "execution_count": 12,
     "metadata": {},
     "output_type": "execute_result"
    },
    {
     "data": {
      "image/png": "[encoded data removed]",
      "text/plain": [
       "<matplotlib.figure.Figure at 0x108d5aa90>"
      ]
     },
     "metadata": {},
     "output_type": "display_data"
    }
   ],
   "source": [
    "def p(x): \n",
    "    return (62*x)**2 + 2* cos(66*x)\n",
    "\n",
    "xdomain = linspace(-0.02,0.02,100)\n",
    "#plt.xlim(xmax = 0.02, xmin = -0.02)\n",
    "#plt.ylim(ymax = 4.5, ymin = 3.5)\n",
    "plot(xdomain, p(xdomain))"
   ]
  },
  {
   "cell_type": "code",
   "execution_count": null,
   "metadata": {
    "collapsed": true
   },
   "outputs": [],
   "source": []
  },
  {
   "cell_type": "markdown",
   "metadata": {},
   "source": [
    "__7.__ (5 points) Apply Newton's method to $p'(x)$ to find the location of at least one extremum that does not occur at 0. "
   ]
  },
  {
   "cell_type": "code",
   "execution_count": 50,
   "metadata": {
    "collapsed": false
   },
   "outputs": [
    {
     "name": "stdout",
     "output_type": "stream",
     "text": [
      "     xn           xp           |xn-xp|       pPrime(xn)\n",
      "    0.530918     1.000000     0.469082       4143.010821249\n",
      "    0.261946     0.530918     0.268972       2145.834086372\n",
      "   -0.020262     0.261946     0.282208        -27.354408814\n",
      "   -0.015439    -0.020262     0.004823         -6.287279816\n",
      "   -0.013424    -0.015439     0.002015         -0.965149268\n",
      "   -0.012981    -0.013424     0.000443         -0.043395646\n",
      "   -0.012959    -0.012981     0.000022         -0.000104058\n",
      "   -0.012959    -0.012959     0.000000         -0.000000001\n"
     ]
    },
    {
     "data": {
      "text/plain": [
       "-0.012959015790111642"
      ]
     },
     "execution_count": 50,
     "metadata": {},
     "output_type": "execute_result"
    }
   ],
   "source": [
    "def pPrime(x): \n",
    "    return (62**2)*2*x - 2*66 * sin(66*x)\n",
    "def pDoublePrime(x): \n",
    "    return (62**2)*2 - 2*66 * 66* cos(66*x)\n",
    "\n",
    "xn = 1   #  this is the n=0 initial value.  Must be sufficiently close to the answer.\n",
    "xp = xn  #  this is the previous value.  Should be close to xn\n",
    "print('{:^12s} {:^12s} {:>12s} {:>16s}'.format('xn','xp','|xn-xp|','pPrime(xn)' ) ) \n",
    "\n",
    "for n in range(1000):\n",
    "    xp = xn\n",
    "    xn = xn - pPrime(xn) / pDoublePrime(xn)\n",
    "    \n",
    "    print('{:12.6f} {:12.6f} {:12.6f} {:20.9f}'.format(xn,xp,abs(xn-xp), pPrime(xn))  ) \n",
    "    \n",
    "    if( abs(xn-xp) < 10e-6):\n",
    "        break\n",
    "xn  "
   ]
  },
  {
   "cell_type": "markdown",
   "metadata": {},
   "source": [
    "$x_n = -0.012959015790111642$ is one of the extremum"
   ]
  },
  {
   "cell_type": "code",
   "execution_count": null,
   "metadata": {
    "collapsed": true
   },
   "outputs": [],
   "source": []
  },
  {
   "cell_type": "markdown",
   "metadata": {},
   "source": [
    "### Newton's Method for Fixed Points\n",
    "\n",
    "__8.__ (10 points) The following method will converge to a fixed point of a function $f(x)$, although not necessarily quickly \n",
    "\n",
    "$$ x_{n+1} = \\frac{ a\\cdot x_n \\cdot f'\\left(x_n\\right) - b\\cdot f\\left(x_n\\right) } {a\\cdot f'\\left(x_n\\right) -  b } $$\n",
    "\n",
    "For _a_ and _b_ your Enumber digits, write a program which applies the method above to the fixed point of $f(x)=\\cos(x)$.  Use an initial value of $x_0 = 0.5$.  "
   ]
  },
  {
   "cell_type": "code",
   "execution_count": 52,
   "metadata": {
    "collapsed": false
   },
   "outputs": [
    {
     "name": "stdout",
     "output_type": "stream",
     "text": [
      "     xn           xp           |xn-xp|   |xn-f(xn)|\n",
      "    0.804573     0.500000     0.304573     0.111153374\n",
      "    0.722858     0.804573     0.081714     0.027059728\n",
      "    0.743192     0.722858     0.020334     0.006879872\n",
      "    0.738052     0.743192     0.005141     0.001729453\n",
      "    0.739346     0.738052     0.001294     0.000435982\n",
      "    0.739020     0.739346     0.000326     0.000109829\n",
      "    0.739102     0.739020     0.000082     0.000027672\n",
      "    0.739081     0.739102     0.000021     0.000006972\n"
     ]
    },
    {
     "data": {
      "text/plain": [
       "0.7390809674205232"
      ]
     },
     "execution_count": 52,
     "metadata": {},
     "output_type": "execute_result"
    }
   ],
   "source": [
    "def f(x): \n",
    "    return cos(x)\n",
    "def fprime(x): \n",
    "    return -sin(x)\n",
    "\n",
    "xn = 0.5   #  this is the n=0 initial value.  Must be sufficiently close to the answer.\n",
    "xp = xn  #  this is the previous value.  Should be close to xn\n",
    "print('{:^12s} {:^12s} {:>12s} {:>12s}'.format('xn','xp','|xn-xp|','|xn-f(xn)|' ) ) \n",
    "\n",
    "for n in range(1000):\n",
    "    xp = xn\n",
    "    xn = (a*xn*fprime(xn) - b*f(xn)) / (a*fprime(xn)-b)\n",
    "    \n",
    "    print('{:12.6f} {:12.6f} {:12.6f} {:15.9f}'.format(xn,xp,abs(xn-xp), abs(xn-f(xn))) ) \n",
    "    \n",
    "    if( abs(xn-f(xn)) < 10e-6):\n",
    "        break\n",
    "xn  "
   ]
  },
  {
   "cell_type": "markdown",
   "metadata": {
    "collapsed": false
   },
   "source": [
    "the fixed point of $cos(x)$ is $x_n = 0.7390809674205232$"
   ]
  },
  {
   "cell_type": "code",
   "execution_count": 54,
   "metadata": {
    "collapsed": false
   },
   "outputs": [
    {
     "data": {
      "text/plain": [
       "[<matplotlib.lines.Line2D at 0x10a1428d0>]"
      ]
     },
     "execution_count": 54,
     "metadata": {},
     "output_type": "execute_result"
    },
    {
     "data": {
      "image/png": "[encoded data removed]",
      "text/plain": [
       "<matplotlib.figure.Figure at 0x10a837a10>"
      ]
     },
     "metadata": {},
     "output_type": "display_data"
    }
   ],
   "source": [
    "xdomain = linspace(-10,10,100)\n",
    "# plt.ylim(ymax = 2000, ymin = -2000)\n",
    "plot(xdomain, f(xdomain))\n",
    "plot(xdomain,xdomain,'r')\n",
    "plot(xn,f(xn),'om')"
   ]
  },
  {
   "cell_type": "code",
   "execution_count": null,
   "metadata": {
    "collapsed": false
   },
   "outputs": [],
   "source": []
  },
  {
   "cell_type": "markdown",
   "metadata": {},
   "source": [
    "__LEAVE ALL RESULTS AND WORK IN THE NOTEBOOK. TURN IN THIS NOTEBOOK VIA THE DROPBOX BY 11:59:59 on Friday, Oct. 9.  __\n"
   ]
  },
  {
   "cell_type": "code",
   "execution_count": null,
   "metadata": {
    "collapsed": true
   },
   "outputs": [],
   "source": []
  }
 ],
 "metadata": {
  "kernelspec": {
   "display_name": "Python 2",
   "language": "python",
   "name": "python2"
  },
  "language_info": {
   "codemirror_mode": {
    "name": "ipython",
    "version": 2
   },
   "file_extension": ".py",
   "mimetype": "text/x-python",
   "name": "python",
   "nbconvert_exporter": "python",
   "pygments_lexer": "ipython2",
   "version": "2.7.10"
  }
 },
 "nbformat": 4,
 "nbformat_minor": 0
}
