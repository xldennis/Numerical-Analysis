{
 "cells": [
  {
   "cell_type": "raw",
   "metadata": {},
   "source": [
    "<h1 align=\"center\" ><i style=\"font-size:larger\"> Assignment 6 </i> </h1>\n",
    "<h2 align=\"center\"> Differential Equations </h2>\n",
    "<p>&nbsp;</p>\n",
    "__DUE:__  Tuesday, Nov. 24, by 11:59:59 p.m. \n",
    "\n",
    "The Scipy library in Python has one of the best differential equation approximation libraries in the scientific computing community.  In this assignment, we explore how it works and how to use it in several different applications.  \n",
    "\n",
    "First, let's set up the notebook for plotting and division. "
   ]
  },
  {
   "cell_type": "code",
   "execution_count": 1,
   "metadata": {
    "collapsed": false
   },
   "outputs": [
    {
     "name": "stdout",
     "output_type": "stream",
     "text": [
      "Populating the interactive namespace from numpy and matplotlib\n"
     ]
    }
   ],
   "source": [
    "%pylab inline\n",
    "\n",
    "from __future__ import division"
   ]
  },
  {
   "cell_type": "markdown",
   "metadata": {},
   "source": [
    "In what follows, assume that $a,b,c,d$ are the last 4 non-zero\n",
    "digits of your banner enumber _in non-descending order (constant or increasing)._  That is, _ __0 < a &le; b &le; c &le; d __ _.\n",
    "\n",
    "Thus, if your enumber is E12345403,  then \n",
    "\n",
    "a = 3,  b = 4,  c = 4, d = 5\n",
    "\n",
    "Next, we import __odeint__ from __scipy.integrate__."
   ]
  },
  {
   "cell_type": "code",
   "execution_count": 8,
   "metadata": {
    "collapsed": false
   },
   "outputs": [],
   "source": [
    "from scipy.integrate import odeint"
   ]
  },
  {
   "cell_type": "markdown",
   "metadata": {},
   "source": [
    "__ 1.  Well-conditioning (5 points):__ Show that $y=x^{r}$ for any $r>0$ is a solution to \n",
    "\\begin{equation*}\n",
    "xyy^{\\prime \\prime }+yy^{\\prime }=x\\left( y^{\\prime }\\right) ^{2},y\\left(\n",
    "0\\right) =0, y\\left( 1\\right) =1\n",
    "\\end{equation*}\n",
    "Use it to explain why this problem is ill-conditioned."
   ]
  },
  {
   "cell_type": "markdown",
   "metadata": {
    "collapsed": false
   },
   "source": [
    "__SOLUTION:__\n",
    "\n",
    "A well-conditioning equation is that a small perturbation in the function or in the initial condition $y_0$ generates a solution only slightly far away from the theoretical solution. \n",
    "\n",
    "The absolute error is computed by differencing true value and approximate value. Suppose $y=x^r$ is a solution, then $\\frac{f(x+\\Delta x)-f(x)}{f(x)} \\approx f'(x)\\Delta x = rx^{r-1}\\Delta x$. This implies that for large positive number x, a small error occuring in the computation of x will introduce large error in computing the function. Therefore, the problem is ill-conditioned. "
   ]
  },
  {
   "cell_type": "code",
   "execution_count": null,
   "metadata": {
    "collapsed": false
   },
   "outputs": [],
   "source": []
  },
  {
   "cell_type": "code",
   "execution_count": null,
   "metadata": {
    "collapsed": true
   },
   "outputs": [],
   "source": []
  },
  {
   "cell_type": "markdown",
   "metadata": {},
   "source": [
    "__2. ODEINT in practice (5 points): __ Produce a numerical solution to \n",
    "\n",
    "$$ \\frac{dy}{dt} = at-by $$  \n",
    "\n",
    "for $y(0) = 0$,  $y(0) = c$, and $y(0) = d$ and for the range of $t$ defined by the __linspace__ command below. Plot the result."
   ]
  },
  {
   "cell_type": "code",
   "execution_count": 63,
   "metadata": {
    "collapsed": true
   },
   "outputs": [],
   "source": [
    "a = 2; b = 4; c= 4; d= 6"
   ]
  },
  {
   "cell_type": "code",
   "execution_count": 28,
   "metadata": {
    "collapsed": true
   },
   "outputs": [],
   "source": [
    "def f(y,t):\n",
    "    return a*t-b*y"
   ]
  },
  {
   "cell_type": "code",
   "execution_count": 29,
   "metadata": {
    "collapsed": false
   },
   "outputs": [],
   "source": [
    "t = linspace(0,2,100)"
   ]
  },
  {
   "cell_type": "code",
   "execution_count": 30,
   "metadata": {
    "collapsed": false
   },
   "outputs": [
    {
     "data": {
      "text/plain": [
       "<matplotlib.text.Text at 0x1087eb710>"
      ]
     },
     "execution_count": 30,
     "metadata": {},
     "output_type": "execute_result"
    },
    {
     "data": {
      "image/png": "[encoded data removed]",
      "text/plain": [
       "<matplotlib.figure.Figure at 0x108db8d50>"
      ]
     },
     "metadata": {},
     "output_type": "display_data"
    }
   ],
   "source": [
    "sol = odeint(func=f,y0=0,t=t)#y(0)=0\n",
    "plot(t,sol[:,0]) \n",
    "plt.title('initial condition: y(0)=0')"
   ]
  },
  {
   "cell_type": "code",
   "execution_count": 31,
   "metadata": {
    "collapsed": false
   },
   "outputs": [
    {
     "name": "stdout",
     "output_type": "stream",
     "text": [
      "numerical solution is: \n",
      "[  0.00000000e+00   3.97357947e-04   1.54799470e-03   3.39343566e-03\n",
      "   5.87975489e-03   8.95719785e-03   1.25798758e-02   1.67054621e-02\n",
      "   2.12949165e-02   2.63122290e-02   3.17241855e-02   3.75001499e-02\n",
      "   4.36118646e-02   5.00332655e-02   5.67403113e-02   6.37108283e-02\n",
      "   7.09243624e-02   7.83620492e-02   8.60064887e-02   9.38416292e-02\n",
      "   1.01852669e-01   1.10025951e-01   1.18348881e-01   1.26809843e-01\n",
      "   1.35398120e-01   1.44103830e-01   1.52917856e-01   1.61831790e-01\n",
      "   1.70837876e-01   1.79928959e-01   1.89098442e-01   1.98340239e-01\n",
      "   2.07648737e-01   2.17018757e-01   2.26445523e-01   2.35924630e-01\n",
      "   2.45452016e-01   2.55023931e-01   2.64636919e-01   2.74287793e-01\n",
      "   2.83973610e-01   2.93691659e-01   3.03439436e-01   3.13214635e-01\n",
      "   3.23015126e-01   3.32838946e-01   3.42684285e-01   3.52549470e-01\n",
      "   3.62432962e-01   3.72333340e-01   3.82249294e-01   3.92179613e-01\n",
      "   4.02123183e-01   4.12078975e-01   4.22046040e-01   4.32023503e-01\n",
      "   4.42010558e-01   4.52006458e-01   4.62010518e-01   4.72022105e-01\n",
      "   4.82040633e-01   4.92065564e-01   5.02096401e-01   5.12132686e-01\n",
      "   5.22173995e-01   5.32219939e-01   5.42270157e-01   5.52324319e-01\n",
      "   5.62382117e-01   5.72443270e-01   5.82507517e-01   5.92574618e-01\n",
      "   6.02644351e-01   6.12716512e-01   6.22790913e-01   6.32867379e-01\n",
      "   6.42945751e-01   6.53025880e-01   6.63107630e-01   6.73190875e-01\n",
      "   6.83275499e-01   6.93361395e-01   7.03448465e-01   7.13536618e-01\n",
      "   7.23625768e-01   7.33715839e-01   7.43806760e-01   7.53898463e-01\n",
      "   7.63990889e-01   7.74083981e-01   7.84177687e-01   7.94271961e-01\n",
      "   8.04366757e-01   8.14462036e-01   8.24557760e-01   8.34653894e-01\n",
      "   8.44750407e-01   8.54847269e-01   8.64944453e-01   8.75041934e-01]\n"
     ]
    }
   ],
   "source": [
    "print \"numerical solution is: \\n\", sol[:,0]"
   ]
  },
  {
   "cell_type": "code",
   "execution_count": 32,
   "metadata": {
    "collapsed": false
   },
   "outputs": [
    {
     "name": "stdout",
     "output_type": "stream",
     "text": [
      "numeric solution is y = \n"
     ]
    },
    {
     "data": {
      "image/png": "[encoded data removed]",
      "text/plain": [
       "<matplotlib.figure.Figure at 0x1087f60d0>"
      ]
     },
     "metadata": {},
     "output_type": "display_data"
    }
   ],
   "source": [
    "sol = odeint(func=f,y0=c,t=t)#y(0)=c\n",
    "plot(t,sol[:,0]) \n",
    "plt.title('initial condition: y(0)=4')\n",
    "print \"numeric solution is y = \""
   ]
  },
  {
   "cell_type": "code",
   "execution_count": 33,
   "metadata": {
    "collapsed": false
   },
   "outputs": [
    {
     "name": "stdout",
     "output_type": "stream",
     "text": [
      "numerical solution is: \n",
      "[ 4.          3.68988019  3.40461883  3.1422862   2.9011025   2.67942582\n",
      "  2.47574188  2.28865392  2.1168736   1.95921259  1.81457489  1.68194941\n",
      "  1.56040362  1.44907756  1.34717775  1.25397251  1.16878686  1.09099825\n",
      "  1.02003244  0.9553598   0.89649178  0.84297777  0.79440215  0.75038156\n",
      "  0.71056239  0.6746185   0.64224903  0.61317652  0.58714503  0.56391847\n",
      "  0.54327911  0.52502611  0.50897421  0.49495254  0.4828035   0.47238171\n",
      "  0.4635531   0.45619397  0.45019027  0.44543676  0.4418364   0.43929967\n",
      "  0.437744    0.43709323  0.43727711  0.43823085  0.43989469  0.44221351\n",
      "  0.44513644  0.44861661  0.45261075  0.45707896  0.46198444  0.46729324\n",
      "  0.47297406  0.47899802  0.48533847  0.49197086  0.49887251  0.50602253\n",
      "  0.51340163  0.52099203  0.52877732  0.53674239  0.54487326  0.55315708\n",
      "  0.56158196  0.57013696  0.57881198  0.58759769  0.59648551  0.60546751\n",
      "  0.61453638  0.62368537  0.63290826  0.64219933  0.65155327  0.6609652\n",
      "  0.67043063  0.67994539  0.68950567  0.69910792  0.70874889  0.71842558\n",
      "  0.7281352   0.73787521  0.74764324  0.75743712  0.76725484  0.77709455\n",
      "  0.78695455  0.79683326  0.80672922  0.81664111  0.82656767  0.83650777\n",
      "  0.84646037  0.85642449  0.86639924  0.87638378]\n"
     ]
    }
   ],
   "source": [
    "print \"numerical solution is: \\n\", sol[:,0]"
   ]
  },
  {
   "cell_type": "code",
   "execution_count": 34,
   "metadata": {
    "collapsed": false
   },
   "outputs": [
    {
     "data": {
      "text/plain": [
       "<matplotlib.text.Text at 0x1089d8d10>"
      ]
     },
     "execution_count": 34,
     "metadata": {},
     "output_type": "execute_result"
    },
    {
     "data": {
      "image/png": "[encoded data removed]",
      "text/plain": [
       "<matplotlib.figure.Figure at 0x109009890>"
      ]
     },
     "metadata": {},
     "output_type": "display_data"
    }
   ],
   "source": [
    "sol = odeint(func=f,y0=d,t=t)#y(0)=d\n",
    "plot(t,sol[:,0]) \n",
    "plt.title('initial condition: y(0)=6')"
   ]
  },
  {
   "cell_type": "code",
   "execution_count": 35,
   "metadata": {
    "collapsed": false
   },
   "outputs": [
    {
     "name": "stdout",
     "output_type": "stream",
     "text": [
      "numerical solution is: \n",
      "[ 6.          5.5346216   5.10615424  4.71173258  4.34871389  4.01466012\n",
      "  3.70732288  3.42462814  3.16466293  2.92566278  2.70600025  2.50417401\n",
      "  2.3187995   2.1485997   1.99239647  1.84910335  1.71771811  1.59731634\n",
      "  1.48704541  1.38611888  1.29381132  1.20945367  1.13242878  1.06216742\n",
      "  0.99814453  0.93987583  0.88691462  0.83884889  0.79529861  0.75591323\n",
      "  0.72036946  0.68836905  0.65963695  0.63391943  0.61098249  0.59061026\n",
      "  0.57260364  0.556779    0.54296695  0.53101125  0.52076781  0.51210368\n",
      "  0.50489629  0.49903253  0.49440811  0.49092682  0.4884999   0.48704553\n",
      "  0.48648819  0.48675824  0.48779147  0.48952863  0.49191506  0.49490037\n",
      "  0.49843807  0.50248527  0.50700243  0.51195306  0.5173035   0.52302274\n",
      "  0.52908212  0.53545526  0.54211778  0.54904723  0.55622289  0.56362565\n",
      "  0.57123786  0.57904328  0.5870269   0.5951749   0.60347451  0.61191395\n",
      "  0.62048239  0.6291698   0.63796694  0.6468653   0.65585702  0.66493486\n",
      "  0.67409212  0.68332265  0.69262075  0.70198118  0.71139911  0.72087005\n",
      "  0.73038992  0.73995489  0.74956148  0.75920644  0.76888682  0.77859984\n",
      "  0.78834298  0.79811391  0.80791046  0.81773064  0.82757263  0.83743472\n",
      "  0.84731536  0.8572131   0.86712663  0.87705471]\n"
     ]
    }
   ],
   "source": [
    "print \"numerical solution is: \\n\", sol[:,0]"
   ]
  },
  {
   "cell_type": "markdown",
   "metadata": {},
   "source": [
    "The general solution to this ODE is $\\lambda e^{-4t}+\\frac{t}{2}-\\frac{1}{8}$"
   ]
  },
  {
   "cell_type": "code",
   "execution_count": null,
   "metadata": {
    "collapsed": true
   },
   "outputs": [],
   "source": []
  },
  {
   "cell_type": "markdown",
   "metadata": {},
   "source": [
    "__3. ODEINT in practice (5 points): __ Produce a numerical solution to the system of equations  \n",
    "\n",
    "\\begin{align}\n",
    "   \\frac{dx}{dt} &= -0.1x - ay  \\\\ \n",
    "   \\frac{dy}{dt} &=  bx - 0.1y\n",
    "\\end{align} \n",
    "\n",
    "for $(x(0),y(0)) = (c,d)$ and for the range of $t$ defined by the __linspace__ command below.  Plot the result."
   ]
  },
  {
   "cell_type": "code",
   "execution_count": 36,
   "metadata": {
    "collapsed": true
   },
   "outputs": [],
   "source": [
    "def f(xy,t):\n",
    "    x = xy[0]\n",
    "    y = xy[1]\n",
    "    return (-0.1*x-a*y,b*x-0.1*y)"
   ]
  },
  {
   "cell_type": "code",
   "execution_count": 37,
   "metadata": {
    "collapsed": true
   },
   "outputs": [],
   "source": [
    "t = linspace(0,20,1000)"
   ]
  },
  {
   "cell_type": "code",
   "execution_count": 38,
   "metadata": {
    "collapsed": false
   },
   "outputs": [
    {
     "data": {
      "text/plain": [
       "[<matplotlib.lines.Line2D at 0x108eb1f90>]"
      ]
     },
     "execution_count": 38,
     "metadata": {},
     "output_type": "execute_result"
    },
    {
     "data": {
      "image/png": "[encoded data removed]",
      "text/plain": [
       "<matplotlib.figure.Figure at 0x10887ca50>"
      ]
     },
     "metadata": {},
     "output_type": "display_data"
    }
   ],
   "source": [
    "sol = odeint(f, (c,d),  t  )\n",
    "plot(t,sol[:,0])"
   ]
  },
  {
   "cell_type": "code",
   "execution_count": 39,
   "metadata": {
    "collapsed": false
   },
   "outputs": [
    {
     "name": "stdout",
     "output_type": "stream",
     "text": [
      "numerical solution is: \n",
      "[  4.00000000e+00   3.74597003e+00   3.48095631e+00   3.20585160e+00\n",
      "   2.92157739e+00   2.62908092e+00   2.32933199e+00   2.02331965e+00\n",
      "   1.71204915e+00   1.39653855e+00   1.07781543e+00   7.56913522e-01\n",
      "   4.34869440e-01   1.12719308e-01  -2.08504575e-01  -5.27776978e-01\n",
      "  -8.44083027e-01  -1.15642140e+00  -1.46380749e+00  -1.76527648e+00\n",
      "  -2.05988636e+00  -2.34672089e+00  -2.62489234e+00  -2.89354431e+00\n",
      "  -3.15185432e+00  -3.39903629e+00  -3.63434292e+00  -3.85706796e+00\n",
      "  -4.06654824e+00  -4.26216570e+00  -4.44334917e+00  -4.60957597e+00\n",
      "  -4.76037339e+00  -4.89532008e+00  -5.01404711e+00  -5.11623901e+00\n",
      "  -5.20163451e+00  -5.27002719e+00  -5.32126593e+00  -5.35525514e+00\n",
      "  -5.37195490e+00  -5.37138079e+00  -5.35360368e+00  -5.31874926e+00\n",
      "  -5.26699741e+00  -5.19858141e+00  -5.11378701e+00  -5.01295127e+00\n",
      "  -4.89646127e+00  -4.76475270e+00  -4.61830826e+00  -4.45765592e+00\n",
      "  -4.28336704e+00  -4.09605438e+00  -3.89636999e+00  -3.68500291e+00\n",
      "  -3.46267686e+00  -3.23014778e+00  -2.98820127e+00  -2.73764994e+00\n",
      "  -2.47933073e+00  -2.21410213e+00  -1.94284131e+00  -1.66644123e+00\n",
      "  -1.38580780e+00  -1.10185683e+00  -8.15511126e-01  -5.27697460e-01\n",
      "  -2.39343610e-01   4.86246305e-02   3.35286396e-01   6.19728691e-01\n",
      "   9.01049276e-01   1.17835952e+00   1.45078717e+00   1.71747913e+00\n",
      "   1.97760406e+00   2.23035499e+00   2.47495178e+00   2.71064354e+00\n",
      "   2.93671089e+00   3.15246819e+00   3.35726551e+00   3.55049066e+00\n",
      "   3.73157097e+00   3.89997492e+00   4.05521376e+00   4.19684284e+00\n",
      "   4.32446289e+00   4.43772110e+00   4.53631208e+00   4.61997864e+00\n",
      "   4.68851243e+00   4.74175439e+00   4.77959508e+00   4.80197483e+00\n",
      "   4.80888375e+00   4.80036153e+00   4.77649712e+00   4.73742827e+00\n",
      "   4.68334089e+00   4.61446824e+00   4.53109000e+00   4.43353122e+00\n",
      "   4.32216106e+00   4.19739144e+00   4.05967555e+00   3.90950626e+00\n",
      "   3.74741434e+00   3.57396664e+00   3.38976412e+00   3.19543977e+00\n",
      "   2.99165650e+00   2.77910485e+00   2.55850068e+00   2.33058281e+00\n",
      "   2.09611052e+00   1.85586103e+00   1.61062699e+00   1.36121384e+00\n",
      "   1.10843718e+00   8.53120133e-01   5.96090669e-01   3.38178934e-01\n",
      "   8.02145784e-02  -1.76975891e-01  -4.32571748e-01  -6.85760657e-01\n",
      "  -9.35741234e-01  -1.18172558e+00  -1.42294173e+00  -1.65863611e+00\n",
      "  -1.88807580e+00  -2.11055087e+00  -2.32537654e+00  -2.53189526e+00\n",
      "  -2.72947871e+00  -2.91752971e+00  -3.09548399e+00  -3.26281190e+00\n",
      "  -3.41901991e+00  -3.56365210e+00  -3.69629147e+00  -3.81656106e+00\n",
      "  -3.92412507e+00  -4.01868973e+00  -4.10000407e+00  -4.16786059e+00\n",
      "  -4.22209571e+00  -4.26259013e+00  -4.28926906e+00  -4.30210225e+00\n",
      "  -4.30110390e+00  -4.28633251e+00  -4.25789041e+00  -4.21592333e+00\n",
      "  -4.16061976e+00  -4.09221012e+00  -4.01096592e+00  -3.91719868e+00\n",
      "  -3.81125879e+00  -3.69353424e+00  -3.56444920e+00  -3.42446255e+00\n",
      "  -3.27406626e+00  -3.11378364e+00  -2.94416761e+00  -2.76579878e+00\n",
      "  -2.57928347e+00  -2.38525166e+00  -2.18435490e+00  -1.97726413e+00\n",
      "  -1.76466743e+00  -1.54726780e+00  -1.32578077e+00  -1.10093214e+00\n",
      "  -8.73455558e-01  -6.44090173e-01  -4.13578219e-01  -1.82662642e-01\n",
      "   4.79152934e-02   2.77418359e-01   5.05115721e-01   7.30285248e-01\n",
      "   9.52215790e-01   1.17020942e+00   1.38358359e+00   1.59167331e+00\n",
      "   1.79383315e+00   1.98943925e+00   2.17789126e+00   2.35861412e+00\n",
      "   2.53105982e+00   2.69470909e+00   2.84907288e+00   2.99369385e+00\n",
      "   3.12814769e+00   3.25204434e+00   3.36502915e+00   3.46678379e+00\n",
      "   3.55702725e+00   3.63551644e+00   3.70204691e+00   3.75645334e+00\n",
      "   3.79860990e+00   3.82843052e+00   3.84586897e+00   3.85091887e+00\n",
      "   3.84361356e+00   3.82402579e+00   3.79226741e+00   3.74848876e+00\n",
      "   3.69287810e+00   3.62566086e+00   3.54709871e+00   3.45748863e+00\n",
      "   3.35716182e+00   3.24648245e+00   3.12584640e+00   2.99567988e+00\n",
      "   2.85643792e+00   2.70860279e+00   2.55268238e+00   2.38920841e+00\n",
      "   2.21873472e+00   2.04183532e+00   1.85910252e+00   1.67114495e+00\n",
      "   1.47858554e+00   1.28205948e+00   1.08221212e+00   8.79696873e-01\n",
      "   6.75173080e-01   4.69303890e-01   2.62754105e-01   5.61880534e-02\n",
      "  -1.49732539e-01  -3.54350658e-01  -5.57016089e-01  -7.57087467e-01\n",
      "  -9.53934302e-01  -1.14693895e+00  -1.33549854e+00  -1.51902686e+00\n",
      "  -1.69695614e+00  -1.86873883e+00  -2.03384923e+00  -2.19178515e+00\n",
      "  -2.34206936e+00  -2.48425105e+00  -2.61790717e+00  -2.74264367e+00\n",
      "  -2.85809665e+00  -2.96393339e+00  -3.05985331e+00  -3.14558879e+00\n",
      "  -3.22090591e+00  -3.28560504e+00  -3.33952137e+00  -3.38252530e+00\n",
      "  -3.41452267e+00  -3.43545499e+00  -3.44529941e+00  -3.44406871e+00\n",
      "  -3.43181108e+00  -3.40860986e+00  -3.37458310e+00  -3.32988303e+00\n",
      "  -3.27469550e+00  -3.20923919e+00  -3.13376479e+00  -3.04855409e+00\n",
      "  -2.95391894e+00  -2.85020014e+00  -2.73776620e+00  -2.61701209e+00\n",
      "  -2.48835786e+00  -2.35224716e+00  -2.20914579e+00  -2.05954004e+00\n",
      "  -1.90393511e+00  -1.74285341e+00  -1.57683278e+00  -1.40642475e+00\n",
      "  -1.23219270e+00  -1.05470998e+00  -8.74558109e-01  -6.92324785e-01\n",
      "  -5.08602059e-01  -3.23984363e-01  -1.39066617e-01   4.55576520e-02\n",
      "   2.29298229e-01   4.11570111e-01   5.91795314e-01   7.69404732e-01\n",
      "   9.43839911e-01   1.11455479e+00   1.28101742e+00   1.44271158e+00\n",
      "   1.59913840e+00   1.74981788e+00   1.89429032e+00   2.03211778e+00\n",
      "   2.16288531e+00   2.28620227e+00   2.40170342e+00   2.50905004e+00\n",
      "   2.60793085e+00   2.69806296e+00   2.77919263e+00   2.85109596e+00\n",
      "   2.91357950e+00   2.96648074e+00   3.00966853e+00   3.04304335e+00\n",
      "   3.06653750e+00   3.08011522e+00   3.08377263e+00   3.07753767e+00\n",
      "   3.06146983e+00   3.03565988e+00   3.00022941e+00   2.95533037e+00\n",
      "   2.90114439e+00   2.83788217e+00   2.76578260e+00   2.68511195e+00\n",
      "   2.59616287e+00   2.49925335e+00   2.39472561e+00   2.28294492e+00\n",
      "   2.16429832e+00   2.03919327e+00   1.90805631e+00   1.77133161e+00\n",
      "   1.62947942e+00   1.48297463e+00   1.33230509e+00   1.17797007e+00\n",
      "   1.02047856e+00   8.60347648e-01   6.98100807e-01   5.34266187e-01\n",
      "   3.69374929e-01   2.03959413e-01   3.85515737e-02  -1.26318785e-01\n",
      "  -2.90125701e-01  -4.52348737e-01  -6.12474589e-01  -7.69998735e-01\n",
      "  -9.24427000e-01  -1.07527710e+00  -1.22208013e+00  -1.36438204e+00\n",
      "  -1.50174501e+00  -1.63374877e+00  -1.75999192e+00  -1.88009310e+00\n",
      "  -1.99369214e+00  -2.10045117e+00  -2.20005554e+00  -2.29221481e+00\n",
      "  -2.37666352e+00  -2.45316198e+00  -2.52149693e+00  -2.58148210e+00\n",
      "  -2.63295872e+00  -2.67579589e+00  -2.70989093e+00  -2.73516957e+00\n",
      "  -2.75158606e+00  -2.75912322e+00  -2.75779241e+00  -2.74763331e+00\n",
      "  -2.72871375e+00  -2.70112933e+00  -2.66500304e+00  -2.62048473e+00\n",
      "  -2.56775053e+00  -2.50700218e+00  -2.43846630e+00  -2.36239354e+00\n",
      "  -2.27905768e+00  -2.18875469e+00  -2.09180165e+00  -1.98853570e+00\n",
      "  -1.87931284e+00  -1.76450674e+00  -1.64450743e+00  -1.51972005e+00\n",
      "  -1.39056344e+00  -1.25746878e+00  -1.12087810e+00  -9.81242917e-01\n",
      "  -8.39022650e-01  -6.94683189e-01  -5.48695339e-01  -4.01533307e-01\n",
      "  -2.53673168e-01  -1.05591323e-01   4.22370057e-02   1.89339332e-01\n",
      "   3.35247360e-01   4.79498491e-01   6.21637294e-01   7.61216919e-01\n",
      "   8.97800501e-01   1.03096251e+00   1.16029008e+00   1.28538429e+00\n",
      "   1.40586135e+00   1.52135382e+00   1.63151166e+00   1.73600335e+00\n",
      "   1.83451683e+00   1.92676042e+00   2.01246373e+00   2.09137836e+00\n",
      "   2.16327867e+00   2.22796238e+00   2.28525113e+00   2.33499097e+00\n",
      "   2.37705274e+00   2.41133240e+00   2.43775124e+00   2.45625605e+00\n",
      "   2.46681917e+00   2.46943852e+00   2.46413743e+00   2.45096455e+00\n",
      "   2.42999351e+00   2.40132266e+00   2.36507461e+00   2.32139573e+00\n",
      "   2.27045563e+00   2.21244650e+00   2.14758240e+00   2.07609847e+00\n",
      "   1.99825016e+00   1.91431225e+00   1.82457794e+00   1.72935783e+00\n",
      "   1.62897884e+00   1.52378311e+00   1.41412685e+00   1.30037913e+00\n",
      "   1.18292065e+00   1.06214247e+00   9.38444724e-01   8.12235307e-01\n",
      "   6.83928516e-01   5.53943722e-01   4.22703984e-01   2.90634701e-01\n",
      "   1.58162221e-01   2.57124870e-02  -1.06290342e-01  -2.37425221e-01\n",
      "  -3.67275583e-01  -4.95430623e-01  -6.21486624e-01  -7.45048191e-01\n",
      "  -8.65729517e-01  -9.83155554e-01  -1.09696317e+00  -1.20680228e+00\n",
      "  -1.31233692e+00  -1.41324624e+00  -1.50922549e+00  -1.59998695e+00\n",
      "  -1.68526074e+00  -1.76479565e+00  -1.83835984e+00  -1.90574155e+00\n",
      "  -1.96674964e+00  -2.02121416e+00  -2.06898680e+00  -2.10994129e+00\n",
      "  -2.14397369e+00  -2.17100263e+00  -2.19096954e+00  -2.20383868e+00\n",
      "  -2.20959718e+00  -2.20825502e+00  -2.19984486e+00  -2.18442190e+00\n",
      "  -2.16206356e+00  -2.13286916e+00  -2.09695955e+00  -2.05447656e+00\n",
      "  -2.00558256e+00  -1.95045978e+00  -1.88930967e+00  -1.82235218e+00\n",
      "  -1.74982501e+00  -1.67198271e+00  -1.58909588e+00  -1.50145016e+00\n",
      "  -1.40934531e+00  -1.31309419e+00  -1.21302166e+00  -1.10946353e+00\n",
      "  -1.00276546e+00  -8.93281747e-01  -7.81374227e-01  -6.67411042e-01\n",
      "  -5.51765442e-01  -4.34814572e-01  -3.16938263e-01  -1.98517790e-01\n",
      "  -7.99346408e-02   3.84306915e-02   1.56199936e-01   2.72998244e-01\n",
      "   3.88455373e-01   5.02206858e-01   6.13895152e-01   7.23170747e-01\n",
      "   8.29693258e-01   9.33132480e-01   1.03316940e+00   1.12949719e+00\n",
      "   1.22182212e+00   1.30986444e+00   1.39335926e+00   1.47205732e+00\n",
      "   1.54572568e+00   1.61414849e+00   1.67712754e+00   1.73448284e+00\n",
      "   1.78605316e+00   1.83169642e+00   1.87129012e+00   1.90473158e+00\n",
      "   1.93193829e+00   1.95284801e+00   1.96741892e+00   1.97562969e+00\n",
      "   1.97747943e+00   1.97298763e+00   1.96219401e+00   1.94515835e+00\n",
      "   1.92196013e+00   1.89269831e+00   1.85749084e+00   1.81647425e+00\n",
      "   1.76980314e+00   1.71764959e+00   1.66020257e+00   1.59766725e+00\n",
      "   1.53026427e+00   1.45822897e+00   1.38181061e+00   1.30127148e+00\n",
      "   1.21688602e+00   1.12893992e+00   1.03772909e+00   9.43558742e-01\n",
      "   8.46742349e-01   7.47600598e-01   6.46460347e-01   5.43653549e-01\n",
      "   4.39516169e-01   3.34387089e-01   2.28607017e-01   1.22517380e-01\n",
      "   1.64592378e-02  -8.92278183e-02  -1.94206739e-01  -2.98144093e-01\n",
      "  -4.00711115e-01  -5.01584746e-01  -6.00448638e-01  -6.96994149e-01\n",
      "  -7.90921293e-01  -8.81939670e-01  -9.69769356e-01  -1.05414177e+00\n",
      "  -1.13480048e+00  -1.21150195e+00  -1.28401630e+00  -1.35212800e+00\n",
      "  -1.41563647e+00  -1.47435667e+00  -1.52811965e+00  -1.57677302e+00\n",
      "  -1.62018133e+00  -1.65822651e+00  -1.69080814e+00  -1.71784366e+00\n",
      "  -1.73926866e+00  -1.75503692e+00  -1.76512053e+00  -1.76950993e+00\n",
      "  -1.76821378e+00  -1.76125898e+00  -1.74869041e+00  -1.73057076e+00\n",
      "  -1.70698025e+00  -1.67801630e+00  -1.64379318e+00  -1.60444150e+00\n",
      "  -1.56010783e+00  -1.51095406e+00  -1.45715691e+00  -1.39890725e+00\n",
      "  -1.33640947e+00  -1.26988071e+00  -1.19955019e+00  -1.12565839e+00\n",
      "  -1.04845622e+00  -9.68204191e-01  -8.85171557e-01  -7.99635386e-01\n",
      "  -7.11879672e-01  -6.22194377e-01  -5.30874486e-01  -4.38219043e-01\n",
      "  -3.44530174e-01  -2.50112107e-01  -1.55270190e-01  -6.03099099e-02\n",
      "   3.44640909e-02   1.28748982e-01   2.22244709e-01   3.14654947e-01\n",
      "   4.05688029e-01   4.95057866e-01   5.82484842e-01   6.67696678e-01\n",
      "   7.50429280e-01   8.30427551e-01   9.07446172e-01   9.81250348e-01\n",
      "   1.05161652e+00   1.11833303e+00   1.18120076e+00   1.24003372e+00\n",
      "   1.29465957e+00   1.34492017e+00   1.39067195e+00   1.43178639e+00\n",
      "   1.46815033e+00   1.49966626e+00   1.52625260e+00   1.54784391e+00\n",
      "   1.56439098e+00   1.57586095e+00   1.58223739e+00   1.58352022e+00\n",
      "   1.57972568e+00   1.57088622e+00   1.55705030e+00   1.53828223e+00\n",
      "   1.51466181e+00   1.48628410e+00   1.45325902e+00   1.41571090e+00\n",
      "   1.37377811e+00   1.32761247e+00   1.27737878e+00   1.22325420e+00\n",
      "   1.16542764e+00   1.10409913e+00   1.03947910e+00   9.71787691e-01\n",
      "   9.01254005e-01   8.28115328e-01   7.52616341e-01   6.75008313e-01\n",
      "   5.95548257e-01   5.14498100e-01   4.32123808e-01   3.48694530e-01\n",
      "   2.64481717e-01   1.79758246e-01   9.47975410e-02   9.87269251e-03\n",
      "  -7.47444273e-02  -1.58784005e-01  -2.41979151e-01  -3.24066756e-01\n",
      "  -4.04788310e-01  -4.83890703e-01  -5.61127034e-01  -6.36257358e-01\n",
      "  -7.09049438e-01  -7.79279454e-01  -8.46732690e-01  -9.11204178e-01\n",
      "  -9.72499321e-01  -1.03043448e+00  -1.08483749e+00  -1.13554823e+00\n",
      "  -1.18241900e+00  -1.22531503e+00  -1.26411478e+00  -1.29871035e+00\n",
      "  -1.32900773e+00  -1.35492703e+00  -1.37640275e+00  -1.39338382e+00\n",
      "  -1.40583384e+00  -1.41373102e+00  -1.41706827e+00  -1.41585311e+00\n",
      "  -1.41010762e+00  -1.39986832e+00  -1.38518596e+00  -1.36612532e+00\n",
      "  -1.34276496e+00  -1.31519688e+00  -1.28352619e+00  -1.24787075e+00\n",
      "  -1.20836068e+00  -1.16513794e+00  -1.11835581e+00  -1.06817838e+00\n",
      "  -1.01477992e+00  -9.58344358e-01  -8.99064602e-01  -8.37141896e-01\n",
      "  -7.72785148e-01  -7.06210229e-01  -6.37639252e-01  -5.67299836e-01\n",
      "  -4.95424354e-01  -4.22249172e-01  -3.48013873e-01  -2.72960484e-01\n",
      "  -1.97332676e-01  -1.21374990e-01  -4.53320483e-02   3.05522304e-02\n",
      "   1.06035414e-01   1.80877319e-01   2.54840781e-01   3.27692392e-01\n",
      "   3.99203244e-01   4.69149634e-01   5.37313765e-01   6.03484420e-01\n",
      "   6.67457611e-01   7.29037204e-01   7.88035516e-01   8.44273881e-01\n",
      "   8.97583189e-01   9.47804387e-01   9.94788950e-01   1.03839931e+00\n",
      "   1.07850927e+00   1.11500432e+00   1.14778203e+00   1.17675225e+00\n",
      "   1.20183740e+00   1.22297265e+00   1.24010609e+00   1.25319884e+00\n",
      "   1.26222509e+00   1.26717218e+00   1.26804057e+00   1.26484378e+00\n",
      "   1.25760829e+00   1.24637342e+00   1.23119113e+00   1.21212582e+00\n",
      "   1.18925410e+00   1.16266441e+00   1.13245680e+00   1.09874248e+00\n",
      "   1.06164345e+00   1.02129208e+00   9.77830607e-01   9.31410676e-01\n",
      "   8.82192798e-01   8.30345807e-01   7.76046281e-01   7.19477950e-01\n",
      "   6.60831080e-01   6.00301824e-01   5.38091595e-01   4.74406372e-01\n",
      "   4.09456046e-01   3.43453715e-01   2.76614998e-01   2.09157334e-01\n",
      "   1.41299266e-01   7.32597621e-02   5.25747805e-03  -6.24899058e-02\n",
      "  -1.29766410e-01  -1.96358415e-01  -2.62055356e-01  -3.26650372e-01\n",
      "  -3.89940957e-01  -4.51729600e-01  -5.11824379e-01  -5.70039576e-01\n",
      "  -6.26196226e-01  -6.80122680e-01  -7.31655114e-01  -7.80638030e-01\n",
      "  -8.26924717e-01  -8.70377684e-01  -9.10869073e-01  -9.48281013e-01\n",
      "  -9.82505980e-01  -1.01344708e+00  -1.04101832e+00  -1.06514486e+00\n",
      "  -1.08576318e+00  -1.10282126e+00  -1.11627868e+00  -1.12610673e+00\n",
      "  -1.13228842e+00  -1.13481853e+00  -1.13370355e+00  -1.12896160e+00\n",
      "  -1.12062239e+00  -1.10872698e+00  -1.09332770e+00  -1.07448786e+00\n",
      "  -1.05228158e+00  -1.02679342e+00  -9.98118153e-01  -9.66360356e-01\n",
      "  -9.31634072e-01  -8.94062398e-01  -8.53777053e-01  -8.10917918e-01\n",
      "  -7.65632564e-01  -7.18075740e-01  -6.68408854e-01  -6.16799429e-01\n",
      "  -5.63420539e-01  -5.08450236e-01  -4.52070955e-01  -3.94468920e-01\n",
      "  -3.35833525e-01  -2.76356711e-01  -2.16232356e-01  -1.55655634e-01\n",
      "  -9.48223889e-02  -3.39285028e-02   2.68307275e-02   8.72612220e-02\n",
      "   1.47170726e-01   2.06369422e-01   2.64670530e-01   3.21890890e-01\n",
      "   3.77851535e-01   4.32378249e-01   4.85302106e-01   5.36459988e-01\n",
      "   5.85695085e-01   6.32857375e-01   6.77804073e-01   7.20400061e-01\n",
      "   7.60518291e-01   7.98040162e-01   8.32855859e-01   8.64864678e-01\n",
      "   8.93975305e-01   9.20106076e-01   9.43185199e-01   9.63150942e-01\n",
      "   9.79951792e-01   9.93546581e-01   1.00390458e+00   1.01100553e+00\n",
      "   1.01483972e+00   1.01540790e+00   1.01272133e+00   1.00680160e+00\n",
      "   9.97680590e-01   9.85400319e-01   9.70012744e-01   9.51579569e-01\n",
      "   9.30172009e-01   9.05870520e-01   8.78764509e-01   8.48952005e-01\n",
      "   8.16539319e-01   7.81640663e-01   7.44377756e-01   7.04879403e-01\n",
      "   6.63281058e-01   6.19724357e-01   5.74356643e-01   5.27330472e-01\n",
      "   4.78803104e-01   4.28935977e-01   3.77894176e-01   3.25845890e-01\n",
      "   2.72961857e-01   2.19414814e-01   1.65378928e-01   1.11029237e-01\n",
      "   5.65410885e-02   2.08956631e-03  -5.21510664e-02  -1.06007908e-01\n",
      "  -1.59309978e-01  -2.11888763e-01  -2.63578733e-01  -3.14217869e-01\n",
      "  -3.63648167e-01  -4.11716124e-01  -4.58273216e-01  -5.03176351e-01\n",
      "  -5.46288309e-01  -5.87478153e-01  -6.26621626e-01  -6.63601525e-01\n",
      "  -6.98308041e-01  -7.30639091e-01  -7.60500606e-01  -7.87806803e-01\n",
      "  -8.12480429e-01  -8.34452970e-01  -8.53664836e-01  -8.70065523e-01\n",
      "  -8.83613731e-01  -8.94277458e-01  -9.02034076e-01  -9.06870358e-01\n",
      "  -9.08782476e-01  -9.07775997e-01  -9.03865804e-01  -8.97076024e-01\n",
      "  -8.87439917e-01  -8.74999719e-01  -8.59806482e-01  -8.41919877e-01\n",
      "  -8.21407958e-01  -7.98346917e-01  -7.72820810e-01  -7.44921252e-01\n",
      "  -7.14747089e-01  -6.82404067e-01  -6.48004451e-01  -6.11666643e-01\n",
      "  -5.73514785e-01  -5.33678334e-01  -4.92291622e-01  -4.49493411e-01\n",
      "  -4.05426430e-01  -3.60236904e-01  -3.14074064e-01  -2.67089667e-01\n",
      "  -2.19437494e-01  -1.71272850e-01  -1.22752060e-01  -7.40319664e-02\n",
      "  -2.52694260e-02   2.33791990e-02   7.17585422e-02   1.19714711e-01\n",
      "   1.67095783e-01   2.13752289e-01   2.59537678e-01   3.04308771e-01\n",
      "   3.47926216e-01   3.90254907e-01   4.31164411e-01   4.70529359e-01\n",
      "   5.08229833e-01   5.44151725e-01   5.78187076e-01   6.10234408e-01\n",
      "   6.40199011e-01   6.67993228e-01   6.93536702e-01   7.16756607e-01\n",
      "   7.37587855e-01   7.55973264e-01   7.71863713e-01   7.85218276e-01\n",
      "   7.96004310e-01   8.04197526e-01   8.09782045e-01   8.12750403e-01\n",
      "   8.13103542e-01   8.10850785e-01   8.06009761e-01   7.98606316e-01\n",
      "   7.88674406e-01   7.76255951e-01   7.61400658e-01   7.44165855e-01\n",
      "   7.24616254e-01   7.02823722e-01   6.78867029e-01   6.52831562e-01\n",
      "   6.24809018e-01   5.94897100e-01   5.63199172e-01   5.29823900e-01]\n"
     ]
    }
   ],
   "source": [
    "print \"numerical solution is: \\n\", sol[:,0]"
   ]
  },
  {
   "cell_type": "code",
   "execution_count": null,
   "metadata": {
    "collapsed": true
   },
   "outputs": [],
   "source": []
  },
  {
   "cell_type": "code",
   "execution_count": null,
   "metadata": {
    "collapsed": true
   },
   "outputs": [],
   "source": []
  },
  {
   "cell_type": "markdown",
   "metadata": {},
   "source": [
    "__4. ODEINT in practice (5 points): __ Produce a numerical solution to the system of equations  \n",
    "\n",
    "\\begin{align}\n",
    "   \\frac{dx}{dt} &=  y  \\\\ \n",
    "   \\frac{dy}{dt} &=  -dx - ay\n",
    "\\end{align} \n",
    "\n",
    "for $(x(0),y(0)) = (b,c)$ and for the range of $t$ defined by the __linspace__ command below. Plot the result."
   ]
  },
  {
   "cell_type": "code",
   "execution_count": 40,
   "metadata": {
    "collapsed": true
   },
   "outputs": [],
   "source": [
    "def f(xy,t):\n",
    "    x = xy[0]\n",
    "    y = xy[1]\n",
    "    return (y,-d*x-a*y)"
   ]
  },
  {
   "cell_type": "code",
   "execution_count": 41,
   "metadata": {
    "collapsed": true
   },
   "outputs": [],
   "source": [
    "t = linspace(0,20,1000)"
   ]
  },
  {
   "cell_type": "code",
   "execution_count": 42,
   "metadata": {
    "collapsed": false
   },
   "outputs": [
    {
     "data": {
      "text/plain": [
       "[<matplotlib.lines.Line2D at 0x109030e10>]"
      ]
     },
     "execution_count": 42,
     "metadata": {},
     "output_type": "execute_result"
    },
    {
     "data": {
      "image/png": "[encoded data removed]",
      "text/plain": [
       "<matplotlib.figure.Figure at 0x1082f7ed0>"
      ]
     },
     "metadata": {},
     "output_type": "display_data"
    }
   ],
   "source": [
    "sol = odeint(f, (b,c),  t  )\n",
    "plot(t,sol[:,0])"
   ]
  },
  {
   "cell_type": "code",
   "execution_count": 43,
   "metadata": {
    "collapsed": false
   },
   "outputs": [
    {
     "name": "stdout",
     "output_type": "stream",
     "text": [
      "numerical solution is: \n",
      "[  4.00000000e+00   4.07372148e+00   4.13494841e+00   4.18402690e+00\n",
      "   4.22131805e+00   4.24719667e+00   4.26204968e+00   4.26627481e+00\n",
      "   4.26027923e+00   4.24447823e+00   4.21929390e+00   4.18515389e+00\n",
      "   4.14249016e+00   4.09173782e+00   4.03333393e+00   3.96771647e+00\n",
      "   3.89532321e+00   3.81659072e+00   3.73195336e+00   3.64184237e+00\n",
      "   3.54668496e+00   3.44690347e+00   3.34291455e+00   3.23512843e+00\n",
      "   3.12394816e+00   3.00976902e+00   2.89297779e+00   2.77395226e+00\n",
      "   2.65306063e+00   2.53066108e+00   2.40710126e+00   2.28271792e+00\n",
      "   2.15783651e+00   2.03277094e+00   1.90782318e+00   1.78328310e+00\n",
      "   1.65942820e+00   1.53652351e+00   1.41482139e+00   1.29456146e+00\n",
      "   1.17597057e+00   1.05926269e+00   9.44638989e-01   8.32287803e-01\n",
      "   7.22384730e-01   6.15092713e-01   5.10562135e-01   4.08930973e-01\n",
      "   3.10324959e-01   2.14857749e-01   1.22631155e-01   3.37353434e-02\n",
      "  -5.17509031e-02  -1.33759927e-01  -2.12234931e-01  -2.87129662e-01\n",
      "  -3.58408136e-01  -4.26044292e-01  -4.90021681e-01  -5.50333127e-01\n",
      "  -6.06980362e-01  -6.59973704e-01  -7.09331664e-01  -7.55080595e-01\n",
      "  -7.97254328e-01  -8.35893794e-01  -8.71046641e-01  -9.02766866e-01\n",
      "  -9.31114439e-01  -9.56154923e-01  -9.77959100e-01  -9.96602605e-01\n",
      "  -1.01216555e+00  -1.02473217e+00  -1.03439044e+00  -1.04123176e+00\n",
      "  -1.04535056e+00  -1.04684398e+00  -1.04581157e+00  -1.04235488e+00\n",
      "  -1.03657721e+00  -1.02858327e+00  -1.01847890e+00  -1.00637074e+00\n",
      "  -9.92365963e-01  -9.76572031e-01  -9.59096383e-01  -9.40046214e-01\n",
      "  -9.19528220e-01  -8.97648368e-01  -8.74511678e-01  -8.50222009e-01\n",
      "  -8.24881861e-01  -7.98592187e-01  -7.71452213e-01  -7.43559280e-01\n",
      "  -7.15008674e-01  -6.85893503e-01  -6.56304540e-01  -6.26330121e-01\n",
      "  -5.96056016e-01  -5.65565342e-01  -5.34938449e-01  -5.04252870e-01\n",
      "  -4.73583240e-01  -4.43001207e-01  -4.12575415e-01  -3.82371436e-01\n",
      "  -3.52451752e-01  -3.22875719e-01  -2.93699554e-01  -2.64976326e-01\n",
      "  -2.36755953e-01  -2.09085211e-01  -1.82007740e-01  -1.55564072e-01\n",
      "  -1.29791654e-01  -1.04724883e-01  -8.03951395e-02  -5.68308365e-02\n",
      "  -3.40574705e-02  -1.20976680e-02   9.02874521e-03   2.93046875e-02\n",
      "   4.87157539e-02   6.72501388e-02   8.48985710e-02   1.01654229e-01\n",
      "   1.17512660e-01   1.32471708e-01   1.46531414e-01   1.59693941e-01\n",
      "   1.71963482e-01   1.83346165e-01   1.93849975e-01   2.03484650e-01\n",
      "   2.12261594e-01   2.20193789e-01   2.27295694e-01   2.33583159e-01\n",
      "   2.39073333e-01   2.43784567e-01   2.47736333e-01   2.50949125e-01\n",
      "   2.53444372e-01   2.55244357e-01   2.56372127e-01   2.56851410e-01\n",
      "   2.56706527e-01   2.55962316e-01   2.54644058e-01   2.52777388e-01\n",
      "   2.50388230e-01   2.47502723e-01   2.44147149e-01   2.40347865e-01\n",
      "   2.36131241e-01   2.31523595e-01   2.26551134e-01   2.21239895e-01\n",
      "   2.15615693e-01   2.09704067e-01   2.03530230e-01   1.97119025e-01\n",
      "   1.90494878e-01   1.83681759e-01   1.76703142e-01   1.69581971e-01\n",
      "   1.62340623e-01   1.55000883e-01   1.47583910e-01   1.40110216e-01\n",
      "   1.32599642e-01   1.25071336e-01   1.17543738e-01   1.10034560e-01\n",
      "   1.02560778e-01   9.51386165e-02   8.77835423e-02   8.05102570e-02\n",
      "   7.33326920e-02   6.62640072e-02   5.93165885e-02   5.25020500e-02\n",
      "   4.58312377e-02   3.93142317e-02   3.29603548e-02   2.67781800e-02\n",
      "   2.07755377e-02   1.49595288e-02   9.33653601e-03   3.91223514e-03\n",
      "  -1.30838737e-03  -6.32102186e-03  -1.11220181e-02  -1.57083668e-02\n",
      "  -2.00776841e-02  -2.42281905e-02  -2.81586912e-02  -3.18685581e-02\n",
      "  -3.53577080e-02  -3.86265804e-02  -4.16761163e-02  -4.45077375e-02\n",
      "  -4.71233233e-02  -4.95251884e-02  -5.17160603e-02  -5.36990569e-02\n",
      "  -5.54776633e-02  -5.70557100e-02  -5.84373494e-02  -5.96270341e-02\n",
      "  -6.06294943e-02  -6.14497158e-02  -6.20929179e-02  -6.25645328e-02\n",
      "  -6.28701834e-02  -6.30156634e-02  -6.30069165e-02  -6.28500165e-02\n",
      "  -6.25511480e-02  -6.21165876e-02  -6.15526853e-02  -6.08658465e-02\n",
      "  -6.00625152e-02  -5.91491570e-02  -5.81322428e-02  -5.70182340e-02\n",
      "  -5.58135667e-02  -5.45246388e-02  -5.31577952e-02  -5.17193149e-02\n",
      "  -5.02153996e-02  -4.86521622e-02  -4.70356153e-02  -4.53716618e-02\n",
      "  -4.36660839e-02  -4.19245345e-02  -4.01525302e-02  -3.83554434e-02\n",
      "  -3.65384935e-02  -3.47067422e-02  -3.28650874e-02  -3.10182589e-02\n",
      "  -2.91708118e-02  -2.73271246e-02  -2.54913951e-02  -2.36676375e-02\n",
      "  -2.18596800e-02  -2.00711636e-02  -1.83055405e-02  -1.65660736e-02\n",
      "  -1.48558356e-02  -1.31777101e-02  -1.15343919e-02  -9.92838791e-03\n",
      "  -8.36201845e-03  -6.83741964e-03  -5.35654531e-03  -3.92116939e-03\n",
      "  -2.53288903e-03  -1.19312777e-03   9.68610695e-05   1.33599079e-03\n",
      "   2.52333717e-03   3.65813428e-03   4.73977010e-03   5.76778195e-03\n",
      "   6.74185165e-03   7.66180067e-03   8.52758502e-03   9.33929010e-03\n",
      "   1.00971254e-02   1.08014193e-02   1.14526133e-02   1.20512566e-02\n",
      "   1.25980011e-02   1.30935951e-02   1.35388781e-02   1.39347754e-02\n",
      "   1.42822922e-02   1.45825085e-02   1.48365731e-02   1.50456987e-02\n",
      "   1.52111562e-02   1.53342696e-02   1.54164107e-02   1.54589939e-02\n",
      "   1.54634717e-02   1.54313291e-02   1.53640792e-02   1.52632582e-02\n",
      "   1.51304215e-02   1.49671387e-02   1.47749897e-02   1.45555602e-02\n",
      "   1.43104382e-02   1.40412098e-02   1.37494556e-02   1.34367474e-02\n",
      "   1.31046446e-02   1.27546912e-02   1.23884125e-02   1.20073125e-02\n",
      "   1.16128712e-02   1.12065418e-02   1.07897486e-02   1.03638846e-02\n",
      "   9.93030946e-03   9.49034779e-03   9.04528709e-03   8.59637638e-03\n",
      "   8.14482489e-03   7.69180031e-03   7.23842839e-03   6.78579102e-03\n",
      "   6.33492642e-03   5.88682749e-03   5.44244269e-03   5.00267350e-03\n",
      "   4.56837374e-03   4.14035230e-03   3.71937320e-03   3.30615147e-03\n",
      "   2.90135501e-03   2.50560891e-03   2.11949083e-03   1.74353161e-03\n",
      "   1.37821857e-03   1.02399619e-03   6.81263453e-04   3.50376033e-04\n",
      "   3.16501440e-05  -2.74640229e-04  -5.68262017e-04  -8.49020920e-04\n",
      "  -1.11675876e-03  -1.37135606e-03  -1.61272932e-03  -1.84082810e-03\n",
      "  -2.05563574e-03  -2.25716772e-03  -2.44547020e-03  -2.62061907e-03\n",
      "  -2.78271773e-03  -2.93189557e-03  -3.06830738e-03  -3.19213390e-03\n",
      "  -3.30357725e-03  -3.40286043e-03  -3.49022650e-03  -3.56593781e-03\n",
      "  -3.63027332e-03  -3.68352767e-03  -3.72601024e-03  -3.75804395e-03\n",
      "  -3.77996337e-03  -3.79211366e-03  -3.79484965e-03  -3.78853454e-03\n",
      "  -3.77353842e-03  -3.75023709e-03  -3.71901176e-03  -3.68024692e-03\n",
      "  -3.63432986e-03  -3.58164942e-03  -3.52259524e-03  -3.45755674e-03\n",
      "  -3.38692214e-03  -3.31107754e-03  -3.23040607e-03  -3.14528741e-03\n",
      "  -3.05609666e-03  -2.96320389e-03  -2.86697332e-03  -2.76776272e-03\n",
      "  -2.66592295e-03  -2.56179712e-03  -2.45572047e-03  -2.34801948e-03\n",
      "  -2.23901181e-03  -2.12900564e-03  -2.01829936e-03  -1.90718147e-03\n",
      "  -1.79592989e-03  -1.68481218e-03  -1.57408491e-03  -1.46399370e-03\n",
      "  -1.35477314e-03  -1.24664636e-03  -1.13982535e-03  -1.03451058e-03\n",
      "  -9.30891144e-04  -8.29144747e-04  -7.29437638e-04  -6.31924951e-04\n",
      "  -5.36750273e-04  -4.44045865e-04  -3.53933535e-04  -2.66523958e-04\n",
      "  -1.81916842e-04  -1.00201710e-04  -2.14577594e-05   5.42462007e-05\n",
      "   1.26851108e-04   1.96307292e-04   2.62574726e-04   3.25622503e-04\n",
      "   3.85428226e-04   4.41978219e-04   4.95267103e-04   5.45297196e-04\n",
      "   5.92078450e-04   6.35628210e-04   6.75970586e-04   7.13136319e-04\n",
      "   7.47162557e-04   7.78092438e-04   8.05974743e-04   8.30863488e-04\n",
      "   8.52817558e-04   8.71900351e-04   8.88179350e-04   9.01725703e-04\n",
      "   9.12614653e-04   9.20925484e-04   9.26739793e-04   9.30141768e-04\n",
      "   9.31217839e-04   9.30056637e-04   9.26749075e-04   9.21387212e-04\n",
      "   9.14064275e-04   9.04874379e-04   8.93912355e-04   8.81273812e-04\n",
      "   8.67054370e-04   8.51349569e-04   8.34254648e-04   8.15864368e-04\n",
      "   7.96273046e-04   7.75574024e-04   7.53859549e-04   7.31220610e-04\n",
      "   7.07746780e-04   6.83526215e-04   6.58645328e-04   6.33188670e-04\n",
      "   6.07238818e-04   5.80876262e-04   5.54179348e-04   5.27224134e-04\n",
      "   5.00084292e-04   4.72831045e-04   4.45533094e-04   4.18256520e-04\n",
      "   3.91064752e-04   3.64018544e-04   3.37175927e-04   3.10592185e-04\n",
      "   2.84319799e-04   2.58408440e-04   2.32905010e-04   2.07853630e-04\n",
      "   1.83295654e-04   1.59269610e-04   1.35811160e-04   1.12953310e-04\n",
      "   9.07263702e-05   6.91580009e-05   4.82732109e-05   2.80943104e-05\n",
      "   8.64114762e-06  -1.00688926e-05  -2.80208234e-05  -4.52020883e-05\n",
      "  -6.16023911e-05  -7.72138836e-05  -9.20306998e-05  -1.06049065e-04\n",
      "  -1.19267213e-04  -1.31685413e-04  -1.43305842e-04  -1.54132443e-04\n",
      "  -1.64170849e-04  -1.73428333e-04  -1.81913732e-04  -1.89637346e-04\n",
      "  -1.96610871e-04  -2.02847316e-04  -2.08360911e-04  -2.13167033e-04\n",
      "  -2.17282119e-04  -2.20723602e-04  -2.23509789e-04  -2.25659792e-04\n",
      "  -2.27193522e-04  -2.28131655e-04  -2.28495171e-04  -2.28305716e-04\n",
      "  -2.27585697e-04  -2.26357721e-04  -2.24644244e-04  -2.22468520e-04\n",
      "  -2.19854116e-04  -2.16824060e-04  -2.13401790e-04  -2.09611040e-04\n",
      "  -2.05475132e-04  -2.01017136e-04  -1.96260362e-04  -1.91227863e-04\n",
      "  -1.85941809e-04  -1.80424660e-04  -1.74698781e-04  -1.68786393e-04\n",
      "  -1.62708516e-04  -1.56485443e-04  -1.50137652e-04  -1.43685259e-04\n",
      "  -1.37147909e-04  -1.30543864e-04  -1.23891197e-04  -1.17207618e-04\n",
      "  -1.10510329e-04  -1.03815719e-04  -9.71391082e-05  -9.04955531e-05\n",
      "  -8.38995078e-05  -7.73649703e-05  -7.09043697e-05  -6.45302952e-05\n",
      "  -5.82543498e-05  -5.20874986e-05  -4.60400404e-05  -4.01215380e-05\n",
      "  -3.43408994e-05  -2.87063353e-05  -2.32253397e-05  -1.79046759e-05\n",
      "  -1.27505477e-05  -7.76884472e-06  -2.96453244e-06   1.65811061e-06\n",
      "   6.09548232e-06   1.03446602e-05   1.44030244e-05   1.82681649e-05\n",
      "   2.19385486e-05   2.54131782e-05   2.86915784e-05   3.17737836e-05\n",
      "   3.46601854e-05   3.73515876e-05   3.98492996e-05   4.21550515e-05\n",
      "   4.42709775e-05   4.61995964e-05   4.79436633e-05   4.95062702e-05\n",
      "   5.08908591e-05   5.21011628e-05   5.31411864e-05   5.40151837e-05\n",
      "   5.47275932e-05   5.52830721e-05   5.56864722e-05   5.59428112e-05\n",
      "   5.60572529e-05   5.60350956e-05   5.58817927e-05   5.56028671e-05\n",
      "   5.52039105e-05   5.46905688e-05   5.40685230e-05   5.33434701e-05\n",
      "   5.25211275e-05   5.16073570e-05   5.06079295e-05   4.95285579e-05\n",
      "   4.83749018e-05   4.71525510e-05   4.58670074e-05   4.45237017e-05\n",
      "   4.31282316e-05   4.16859852e-05   4.02021924e-05   3.86819574e-05\n",
      "   3.71302452e-05   3.55518682e-05   3.39515003e-05   3.23339471e-05\n",
      "   3.07037613e-05   2.90652776e-05   2.74226620e-05   2.57799022e-05\n",
      "   2.41407981e-05   2.25089730e-05   2.08881454e-05   1.92817777e-05\n",
      "   1.76930859e-05   1.61251011e-05   1.45806643e-05   1.30624202e-05\n",
      "   1.15725902e-05   1.01142958e-05   8.68939640e-06   7.29996378e-06\n",
      "   5.94788253e-06   4.63485007e-06   3.36237673e-06   2.13179004e-06\n",
      "   9.44372825e-07  -1.98710840e-07  -1.29646673e-06  -2.34807811e-06\n",
      "  -3.35287703e-06  -4.31033583e-06  -5.22004566e-06  -6.08174196e-06\n",
      "  -6.89529495e-06  -7.66065985e-06  -8.37792748e-06  -9.04719376e-06\n",
      "  -9.66907080e-06  -1.02436628e-05  -1.07715858e-05  -1.12534870e-05\n",
      "  -1.16899921e-05  -1.20817289e-05  -1.24296255e-05  -1.27346720e-05\n",
      "  -1.29977212e-05  -1.32196718e-05  -1.34017963e-05  -1.35452339e-05\n",
      "  -1.36510665e-05  -1.37206126e-05  -1.37549093e-05  -1.37555300e-05\n",
      "  -1.37236607e-05  -1.36605943e-05  -1.35676757e-05  -1.34462698e-05\n",
      "  -1.32977912e-05  -1.31237051e-05  -1.29255263e-05  -1.27048199e-05\n",
      "  -1.24630210e-05  -1.22011710e-05  -1.19206629e-05  -1.16229294e-05\n",
      "  -1.13094185e-05  -1.09815938e-05  -1.06409342e-05  -1.02889034e-05\n",
      "  -9.92650321e-06  -9.55487373e-06  -9.17526177e-06  -8.78889770e-06\n",
      "  -8.39699547e-06  -8.00075262e-06  -7.60135025e-06  -7.19982387e-06\n",
      "  -6.79707087e-06  -6.39409071e-06  -5.99185242e-06  -5.59129372e-06\n",
      "  -5.19332098e-06  -4.79880928e-06  -4.40872218e-06  -4.02337059e-06\n",
      "  -3.64370649e-06  -3.27038750e-06  -2.90403712e-06  -2.54524371e-06\n",
      "  -2.19455935e-06  -1.85249874e-06  -1.51953387e-06  -1.19609643e-06\n",
      "  -8.82578985e-07  -5.79331793e-07  -2.86661635e-07  -4.83069932e-09\n",
      "   2.65944552e-07   5.25494521e-07   7.73657034e-07   1.01021318e-06\n",
      "   1.23505679e-06   1.44812482e-06   1.64939192e-06   1.83887062e-06\n",
      "   2.01661144e-06   2.18270309e-06   2.33726361e-06   2.48030386e-06\n",
      "   2.61190186e-06   2.73219524e-06   2.84134304e-06   2.93952468e-06\n",
      "   3.02693894e-06   3.10380295e-06   3.17035118e-06   3.22683008e-06\n",
      "   3.27349698e-06   3.31062708e-06   3.33850799e-06   3.35743862e-06\n",
      "   3.36772812e-06   3.36969475e-06   3.36366488e-06   3.34996977e-06\n",
      "   3.32893417e-06   3.30089285e-06   3.26618455e-06   3.22514920e-06\n",
      "   3.17812674e-06   3.12545595e-06   3.06747327e-06   3.00421727e-06\n",
      "   2.93677355e-06   2.86500498e-06   2.78927134e-06   2.70992250e-06\n",
      "   2.62729844e-06   2.54172921e-06   2.45353499e-06   2.36302605e-06\n",
      "   2.27050466e-06   2.17626860e-06   2.08060318e-06   1.98378420e-06\n",
      "   1.88607821e-06   1.78774307e-06   1.68904046e-06   1.59022280e-06\n",
      "   1.49153105e-06   1.39319847e-06   1.29545070e-06   1.19849786e-06\n",
      "   1.10252604e-06   1.00772239e-06   9.14264643e-07   8.22320664e-07\n",
      "   7.32048357e-07   6.43594702e-07   5.57096909e-07   4.72682421e-07\n",
      "   3.90468679e-07   3.10563116e-07   2.33248406e-07   1.58129351e-07\n",
      "   8.56490872e-08   1.58457126e-08  -5.12426725e-08  -1.15578910e-07\n",
      "  -1.77135164e-07  -2.35879374e-07  -2.91777509e-07  -3.44795536e-07\n",
      "  -3.94899424e-07  -4.42081444e-07  -4.86399332e-07  -5.27857616e-07\n",
      "  -5.66456694e-07  -6.02196963e-07  -6.35078832e-07  -6.65158721e-07\n",
      "  -6.92513090e-07  -7.17176564e-07  -7.39183769e-07  -7.58569330e-07\n",
      "  -7.75527357e-07  -7.89756012e-07  -8.01617006e-07  -8.11153179e-07\n",
      "  -8.18411874e-07  -8.23444937e-07  -8.26312013e-07  -8.27087598e-07\n",
      "  -8.25841928e-07  -8.22648998e-07  -8.17587576e-07  -8.10741204e-07\n",
      "  -8.02198198e-07  -7.92051644e-07  -7.80399407e-07  -7.67344119e-07\n",
      "  -7.52993191e-07  -7.37458804e-07  -7.20857913e-07  -7.03289110e-07\n",
      "  -6.84706647e-07  -6.65166193e-07  -6.44751415e-07  -6.23547289e-07\n",
      "  -6.01640106e-07  -5.79117467e-07  -5.56068289e-07  -5.32582796e-07\n",
      "  -5.08752527e-07  -4.84670334e-07  -4.60430380e-07  -4.36128139e-07\n",
      "  -4.11852547e-07  -3.87575010e-07  -3.63320833e-07  -3.39149602e-07\n",
      "  -3.15119466e-07  -2.91287141e-07  -2.67707906e-07  -2.44435605e-07\n",
      "  -2.21522646e-07  -1.99020003e-07  -1.76977213e-07  -1.55442379e-07\n",
      "  -1.34462168e-07  -1.14081038e-07  -9.42956461e-08  -7.51086044e-08\n",
      "  -5.65432003e-08  -3.86200957e-08  -2.13573261e-08  -4.77030062e-09\n",
      "   1.11281976e-08   2.63280119e-08   4.08216116e-08   5.46040923e-08\n",
      "   6.76731761e-08   8.00292110e-08   9.16751714e-08   1.00531483e-07\n",
      "   1.11342203e-07   1.21294910e-07   1.30421640e-07   1.38754431e-07\n",
      "   1.46325318e-07   1.53166339e-07   1.59309529e-07   1.64786926e-07\n",
      "   1.69630566e-07   1.73872485e-07   1.77544720e-07   1.80679308e-07\n",
      "   1.83287548e-07   1.85355240e-07   1.86900824e-07   1.87943600e-07\n",
      "   1.88502866e-07   1.88597923e-07   1.88248070e-07   1.87472605e-07\n",
      "   1.86290829e-07   1.84721491e-07   1.82782669e-07   1.80493302e-07\n",
      "   1.77872353e-07   1.74938784e-07   1.71711558e-07   1.68209637e-07\n",
      "   1.64451984e-07   1.60457561e-07   1.56243287e-07   1.51823579e-07\n",
      "   1.47216064e-07   1.42438451e-07   1.37508451e-07   1.32443772e-07\n",
      "   1.27262126e-07   1.21981221e-07   1.16618768e-07   1.12612196e-07\n",
      "   1.06664442e-07   1.00787400e-07   9.49810680e-08   8.92454469e-08\n",
      "   8.35805367e-08   7.79863373e-08   7.24628486e-08   6.70100708e-08\n",
      "   6.16364083e-08   5.63576331e-08   5.11741098e-08   4.60858385e-08\n",
      "   4.10928192e-08   3.61950518e-08   3.13925363e-08   2.66852728e-08\n",
      "   2.20732612e-08   1.75607086e-08   1.31864419e-08   8.95988898e-09\n",
      "   4.88104987e-09   9.49924567e-10  -2.83348692e-09  -6.46918460e-09\n",
      "  -9.95716847e-09  -1.32974385e-08  -1.64899948e-08  -1.96357023e-08\n",
      "  -2.24850727e-08  -2.51846609e-08  -2.77334186e-08  -3.01302977e-08\n",
      "  -3.23742499e-08  -3.44642270e-08  -3.63991810e-08  -3.81780635e-08\n",
      "  -3.98032682e-08  -4.12919150e-08  -4.26475468e-08  -4.38714103e-08\n",
      "  -4.49647519e-08  -4.59288179e-08  -4.67648550e-08  -4.74741095e-08\n",
      "  -4.80578279e-08  -4.85172567e-08  -4.88536424e-08  -4.90682315e-08\n",
      "  -4.91622703e-08  -4.91370054e-08  -4.89936833e-08  -4.87335504e-08\n",
      "  -4.83578531e-08  -4.78678380e-08  -4.72647515e-08  -4.65498401e-08\n",
      "  -4.58342920e-08  -4.50581563e-08  -4.41991947e-08  -4.32600115e-08\n",
      "  -4.22432106e-08  -4.11513964e-08  -3.99871729e-08  -3.87531444e-08\n",
      "  -3.74519149e-08  -3.60860887e-08  -3.46582698e-08  -3.31710625e-08\n",
      "  -3.16270708e-08  -3.00288990e-08  -2.83791513e-08  -2.66804316e-08\n",
      "  -2.49353443e-08  -2.32987504e-08  -2.16475165e-08  -1.99856297e-08\n",
      "  -1.83171782e-08  -1.66462502e-08  -1.49769336e-08  -1.33133168e-08\n",
      "  -1.16594879e-08  -1.00195351e-08  -8.39754641e-09  -6.79761010e-09\n",
      "  -5.22381430e-09  -3.68024716e-09  -2.17099684e-09  -7.00151507e-10\n",
      "   7.28200693e-10   2.12855293e-09   3.56443730e-09   4.96334020e-09\n",
      "   6.32216108e-09   7.63779938e-09   8.90715456e-09   1.01271260e-08\n",
      "   1.12946133e-08   1.24065158e-08   1.34597329e-08   1.44511641e-08\n",
      "   1.53777089e-08   1.62362667e-08   1.70237369e-08   1.77370190e-08\n",
      "   1.83730125e-08   1.89286167e-08   1.94658501e-08   2.00373828e-08\n",
      "   2.05501159e-08   2.10026464e-08   2.13935715e-08   2.17214883e-08\n",
      "   2.19849937e-08   2.21826851e-08   2.23131593e-08   2.23750136e-08\n",
      "   2.23668451e-08   2.22872507e-08   2.21348277e-08   2.19081732e-08\n",
      "   2.16058841e-08   2.12265577e-08   2.07687910e-08   2.04263330e-08\n",
      "   2.01726209e-08   1.98816924e-08   1.95540335e-08   1.91901302e-08]\n"
     ]
    }
   ],
   "source": [
    "print \"numerical solution is: \\n\", sol[:,0]"
   ]
  },
  {
   "cell_type": "code",
   "execution_count": null,
   "metadata": {
    "collapsed": true
   },
   "outputs": [],
   "source": []
  },
  {
   "cell_type": "markdown",
   "metadata": {},
   "source": [
    "__5.   ODEINT in practice (5 points):__ Find and plot a numerical\n",
    "solution to \n",
    "\\begin{equation*}\n",
    "x'' = -a^2 x,  \\qquad x(0) =b, x'(0) = 0,\n",
    "\\end{equation*}\n",
    "for the range of $t$ defined by the __linspace__ command below. Plot $x$ as a function of $t$. "
   ]
  },
  {
   "cell_type": "markdown",
   "metadata": {},
   "source": [
    "It can be rewritten as the following differential equations,\n",
    "$$x' = \\frac{dx}{dt} \\ and \\ \\frac{dx'}{dt} = -a^2x$$"
   ]
  },
  {
   "cell_type": "code",
   "execution_count": 46,
   "metadata": {
    "collapsed": true
   },
   "outputs": [],
   "source": [
    "def f(x,t): # return derivatives of the array x, x[1] is the first order derivative\n",
    "    return array([x[1], -a**2*x[0]])"
   ]
  },
  {
   "cell_type": "code",
   "execution_count": 54,
   "metadata": {
    "collapsed": false
   },
   "outputs": [
    {
     "data": {
      "text/plain": [
       "[<matplotlib.lines.Line2D at 0x10921e510>]"
      ]
     },
     "execution_count": 54,
     "metadata": {},
     "output_type": "execute_result"
    },
    {
     "data": {
      "image/png": "[encoded data removed]",
      "text/plain": [
       "<matplotlib.figure.Figure at 0x108327150>"
      ]
     },
     "metadata": {},
     "output_type": "display_data"
    }
   ],
   "source": [
    "t = linspace(0,2*pi,100)\n",
    "x_init = array([b,0])\n",
    "sol = odeint(f, x_init,  t  )\n",
    "plot(t,sol[:,0])"
   ]
  },
  {
   "cell_type": "code",
   "execution_count": 58,
   "metadata": {
    "collapsed": false
   },
   "outputs": [
    {
     "name": "stdout",
     "output_type": "stream",
     "text": [
      "numerical solution for x: \n",
      "[ 4.          3.96781925  3.87179481  3.71347171  3.49539745  3.22108094\n",
      "  2.89493604  2.52221054  2.10890174  1.66165993  1.18768143  0.69459268\n",
      "  0.19032766 -0.3169998  -0.81922661 -1.30827176 -1.77626633 -2.21568011\n",
      " -2.61944276 -2.9810576  -3.2947061  -3.55534156 -3.75877026 -3.90171893\n",
      " -3.98188748 -3.99798597 -3.94975536 -3.83797172 -3.66443367 -3.43193351\n",
      " -3.14421225 -2.80589944 -2.42243867 -1.99999995 -1.54538048 -1.06589526\n",
      " -0.56925939 -0.06346394  0.4433527   0.94303562  1.42754475  1.88908414\n",
      "  2.32022746  2.71403746  3.06417758  3.36501393  3.61170596  3.80028429\n",
      "  3.92771462  3.99194655  3.99194657  3.92771468  3.80028438  3.61170609\n",
      "  3.36501409  3.06417775  2.71403765  2.32022766  1.88908435  1.42754498\n",
      "  0.94303587  0.44335297 -0.06346364 -0.56925913 -1.06589501 -1.54538024\n",
      " -1.99999973 -2.42243847 -2.80589927 -3.14421209 -3.4319334  -3.66443362\n",
      " -3.83797172 -3.94975541 -3.99798607 -3.98188763 -3.90171912 -3.75877049\n",
      " -3.55534184 -3.2947064  -2.98105791 -2.61944307 -2.2156804  -1.77626662\n",
      " -1.30827203 -0.8192269  -0.31700009  0.19032737  0.69459239  1.18768117\n",
      "  1.66165971  2.10890152  2.52221031  2.89493581  3.22108072  3.49539724\n",
      "  3.7134715   3.87179461  3.96781909  3.99999989]\n",
      "solution is x(t) = 4cos(2t)\n"
     ]
    }
   ],
   "source": [
    "print \"numerical solution for x: \\n\", sol[:,0]\n",
    "print \"solution is x(t) = 4cos(2t)\""
   ]
  },
  {
   "cell_type": "code",
   "execution_count": 59,
   "metadata": {
    "collapsed": false
   },
   "outputs": [
    {
     "name": "stdout",
     "output_type": "stream",
     "text": [
      "numerical solution for x': \n",
      "[  0.00000000e+00  -1.01273961e+00  -2.00918388e+00  -2.97329962e+00\n",
      "  -3.88957382e+00  -4.74326331e+00  -5.52063190e+00  -6.20917144e+00\n",
      "  -6.79780308e+00  -7.27705551e+00  -7.63921748e+00  -7.87846157e+00\n",
      "  -7.99093825e+00  -7.97483775e+00  -7.83041912e+00  -7.56000612e+00\n",
      "  -7.16794979e+00  -6.66055847e+00  -6.04599627e+00  -5.33415173e+00\n",
      "  -4.53647872e+00  -3.66581205e+00  -2.73616107e+00  -1.76248424e+00\n",
      "  -7.60448379e-01   2.53823379e-01   1.26401103e+00   2.25386027e+00\n",
      "   3.20744405e+00   4.10941886e+00   4.94527158e+00   5.70155303e+00\n",
      "   6.36609435e+00   6.92820284e+00   7.37883394e+00   7.71073685e+00\n",
      "   7.91857112e+00   7.99899261e+00   7.95070734e+00   7.77449220e+00\n",
      "   7.47318257e+00   7.05162664e+00   6.51660739e+00   5.87673349e+00\n",
      "   5.14230075e+00   4.32512648e+00   3.43835930e+00   2.49626763e+00\n",
      "   1.51401007e+00   5.07391522e-01  -5.07391149e-01  -1.51400971e+00\n",
      "  -2.49626729e+00  -3.43835901e+00  -4.32512624e+00  -5.14230057e+00\n",
      "  -5.87673335e+00  -6.51660730e+00  -7.05162658e+00  -7.47318254e+00\n",
      "  -7.77449222e+00  -7.95070741e+00  -7.99899275e+00  -7.91857132e+00\n",
      "  -7.71073712e+00  -7.37883427e+00  -6.92820322e+00  -6.36609478e+00\n",
      "  -5.70155352e+00  -4.94527214e+00  -4.10941945e+00  -3.20744465e+00\n",
      "  -2.25386087e+00  -1.26401163e+00  -2.53823969e-01   7.60447821e-01\n",
      "   1.76248372e+00   2.73616061e+00   3.66581164e+00   4.53647839e+00\n",
      "   5.33415151e+00   6.04599611e+00   6.66055835e+00   7.16794971e+00\n",
      "   7.56000604e+00   7.83041915e+00   7.97483787e+00   7.99093845e+00\n",
      "   7.87846183e+00   7.63921782e+00   7.27705594e+00   6.79780351e+00\n",
      "   6.20917190e+00   5.52063237e+00   4.74326379e+00   3.88957432e+00\n",
      "   2.97330015e+00   2.00918446e+00   1.01274024e+00   6.51673249e-07]\n",
      "solution is x'(t) = -8sin(2t)\n"
     ]
    }
   ],
   "source": [
    "print \"numerical solution for x': \\n\", sol[:,1]\n",
    "print \"solution is x'(t) = -8sin(2t)\""
   ]
  },
  {
   "cell_type": "code",
   "execution_count": null,
   "metadata": {
    "collapsed": true
   },
   "outputs": [],
   "source": []
  },
  {
   "cell_type": "markdown",
   "metadata": {},
   "source": [
    "__6. Van der Pol oscillator (10 points):__ Extend the Van der Pol equation \n",
    "\\begin{equation*}\n",
    "\\frac{d^2x}{dt^2} -a\\left(1-x^2\\right)\\frac{dx}{dt} + x = 0 \n",
    "\\end{equation*}\n",
    "with $x(0) = c, x'(0)=d$ to a system by defining \n",
    "$$\\frac{dx}{dt} = y$$\n",
    "Use __odeint__ to calculate a numerical solution for $0 \\le t \\le 100$ in steps of size 0.1.  Use this to produce 2 plots:  \n",
    "\n",
    "  a.  __Phase space:__  As a _closed_ curve in the $xy$-plane. TO do so, only plot the last 500 points of the solution. \n",
    "\n",
    "  b.  __Signal:__  Plot $x$ as a function of $t$  for $50 \\le t \\le 100$  (i.e., for the last 500 points of each).  \n",
    "\n",
    "Use the range of $t$ defined by the __linspace__ command below."
   ]
  },
  {
   "cell_type": "markdown",
   "metadata": {},
   "source": [
    "It can be rewritten as the following differential equations,\n",
    "$$y = \\frac{dx}{dt} \\ and \\ \\frac{dx'}{dt} = x + a(1-x^2)y$$"
   ]
  },
  {
   "cell_type": "code",
   "execution_count": 85,
   "metadata": {
    "collapsed": true
   },
   "outputs": [],
   "source": [
    "def f(X,t):\n",
    "    x = X[0]\n",
    "    y = X[1]\n",
    "    dxdt = y\n",
    "    dydt = x+a*(1-x**2)*y\n",
    "    return [dxdt,dydt]"
   ]
  },
  {
   "cell_type": "code",
   "execution_count": 86,
   "metadata": {
    "collapsed": true
   },
   "outputs": [],
   "source": [
    "t = linspace(0,100,1000)\n",
    "x_init = array([c,d])\n",
    "sol = odeint(f, x_init,  t  )"
   ]
  },
  {
   "cell_type": "code",
   "execution_count": 87,
   "metadata": {
    "collapsed": false
   },
   "outputs": [
    {
     "data": {
      "text/plain": [
       "<matplotlib.text.Text at 0x108b68810>"
      ]
     },
     "execution_count": 87,
     "metadata": {},
     "output_type": "execute_result"
    },
    {
     "data": {
      "image/png": "[encoded data removed]",
      "text/plain": [
       "<matplotlib.figure.Figure at 0x10a02ac90>"
      ]
     },
     "metadata": {},
     "output_type": "display_data"
    }
   ],
   "source": [
    "plot(sol[-500:,0],sol[-500:,1])\n",
    "plt.title('x-y plot')"
   ]
  },
  {
   "cell_type": "code",
   "execution_count": 88,
   "metadata": {
    "collapsed": false
   },
   "outputs": [
    {
     "data": {
      "text/plain": [
       "<matplotlib.text.Text at 0x10a29e8d0>"
      ]
     },
     "execution_count": 88,
     "metadata": {},
     "output_type": "execute_result"
    },
    {
     "data": {
      "image/png": "[encoded data removed]",
      "text/plain": [
       "<matplotlib.figure.Figure at 0x108949990>"
      ]
     },
     "metadata": {},
     "output_type": "display_data"
    }
   ],
   "source": [
    "t_new = t[(t>=50) & (t<=100)]\n",
    "plot(t_new, sol[-500:,0])\n",
    "plt.title('t-x plot')"
   ]
  },
  {
   "cell_type": "code",
   "execution_count": null,
   "metadata": {
    "collapsed": true
   },
   "outputs": [],
   "source": []
  },
  {
   "cell_type": "code",
   "execution_count": null,
   "metadata": {
    "collapsed": true
   },
   "outputs": [],
   "source": []
  },
  {
   "cell_type": "markdown",
   "metadata": {},
   "source": [
    "__7. A Chaotic Signal (10 points):__ Use __odeint__ to calculate a numerical solution to  \n",
    "\\begin{equation*}\n",
    "\\frac{d^3x}{dt^3} = -0.7 \\frac{d^2x}{dt^2} - \\frac{dx}{dt} + x - x^3 \n",
    "\\end{equation*}\n",
    "with initial conditions \n",
    "$$x(0) = 0, x'(0) = 1, x''(0) = 0.$$\n",
    "Then repeat for another solution with initial conditions \n",
    "$$x(0) = 0, x'(0) = 1.01, x''(0) = 0.$$\n",
    "Plot both solutions as functions of $t$.  Use the range of $t$ defined by the __linspace__ command below."
   ]
  },
  {
   "cell_type": "markdown",
   "metadata": {},
   "source": [
    "It can be rewritten as the following differential equations,\n",
    "$$y = \\frac{dx}{dt}, \\ z = \\frac{dx'}{dt} \\ and \\ \\frac{dx''}{dt} = -0.7z-y+x-x^3$$"
   ]
  },
  {
   "cell_type": "code",
   "execution_count": 89,
   "metadata": {
    "collapsed": true
   },
   "outputs": [],
   "source": [
    "def f(X,t):\n",
    "    x = X[0]\n",
    "    y = X[1]\n",
    "    z = X[2]\n",
    "    dzdt = -0.7*z-y+x-x**3\n",
    "    dydt = z\n",
    "    dxdt = y\n",
    "    return [dxdt,dydt,dzdt]"
   ]
  },
  {
   "cell_type": "code",
   "execution_count": 92,
   "metadata": {
    "collapsed": false
   },
   "outputs": [
    {
     "data": {
      "text/plain": [
       "<matplotlib.text.Text at 0x10a4c3ad0>"
      ]
     },
     "execution_count": 92,
     "metadata": {},
     "output_type": "execute_result"
    },
    {
     "data": {
      "image/png": "[encoded data removed]",
      "text/plain": [
       "<matplotlib.figure.Figure at 0x10a2e8510>"
      ]
     },
     "metadata": {},
     "output_type": "display_data"
    }
   ],
   "source": [
    "t = linspace(0,200,1000)\n",
    "x_init_1 = array([0,1,0])\n",
    "sol = odeint(f, x_init_1,  t  )\n",
    "plot(t,sol[:,0])\n",
    "plt.title('first set of initial value x-t plot')"
   ]
  },
  {
   "cell_type": "code",
   "execution_count": 93,
   "metadata": {
    "collapsed": false
   },
   "outputs": [
    {
     "data": {
      "text/plain": [
       "[<matplotlib.lines.Line2D at 0x10a684f90>]"
      ]
     },
     "execution_count": 93,
     "metadata": {},
     "output_type": "execute_result"
    },
    {
     "data": {
      "image/png": "[encoded data removed]",
      "text/plain": [
       "<matplotlib.figure.Figure at 0x10a535dd0>"
      ]
     },
     "metadata": {},
     "output_type": "display_data"
    }
   ],
   "source": [
    "x_init_2 = array([0,1.01,0])\n",
    "sol = odeint(f, x_init_2,  t  )\n",
    "plot(t,sol[:,0])"
   ]
  },
  {
   "cell_type": "code",
   "execution_count": null,
   "metadata": {
    "collapsed": true
   },
   "outputs": [],
   "source": []
  },
  {
   "cell_type": "code",
   "execution_count": null,
   "metadata": {
    "collapsed": true
   },
   "outputs": [],
   "source": []
  },
  {
   "cell_type": "code",
   "execution_count": null,
   "metadata": {
    "collapsed": true
   },
   "outputs": [],
   "source": []
  },
  {
   "cell_type": "code",
   "execution_count": null,
   "metadata": {
    "collapsed": true
   },
   "outputs": [],
   "source": []
  },
  {
   "cell_type": "markdown",
   "metadata": {},
   "source": [
    "__8.  Verlet Integration (5 pts):__ Many applications (e.g., mechanics) begin with a\n",
    "second order differential equation of the form \n",
    "\\begin{equation*}\n",
    "y^{\\prime \\prime }=F\\left( y\\right) ,   y\\left( 0\\right) =y_{0}, \\\n",
    "y^{\\prime }\\left( 0\\right) =v_{0}\n",
    "\\end{equation*}\n",
    "(notice: $y^{\\prime }$ and $t$ do not appear explicitly). Notice that \n",
    "\\begin{equation*}\n",
    "y\\left( t+h\\right) =y\\left( t\\right) +y^{\\prime }\\left( t\\right) h+y^{\\prime\n",
    "\\prime }\\left( t\\right) \\frac{h^{2}}{2}+y^{\\prime \\prime \\prime }\\left(\n",
    "c\\right) \\frac{h^{3}}{6}\n",
    "\\end{equation*}\n",
    "implies both the following:   \n",
    "\\begin{eqnarray*}\n",
    "y\\left( t+2h\\right)  &=&y\\left( t\\right) +y^{\\prime }\\left( t\\right)\n",
    "2h+F\\left( y\\right) \\frac{4h^{2}}{2}+y^{\\prime \\prime \\prime }\\left(\n",
    "c\\right) \\frac{8h^{3}}{6} \\\\\n",
    "2y\\left( t+h\\right)  &=&2y\\left( t\\right) +y^{\\prime }\\left( t\\right)\n",
    "2h+F\\left( y\\right) \\frac{2h^{2}}{2}+y^{\\prime \\prime \\prime }\\left(\n",
    "c\\right) \\frac{2h^{3}}{6}\n",
    "\\end{eqnarray*}\n",
    "What term does $y\\left( t+2h\\right) -2y\\left( t+h\\right) $ eliminate.  Why does this lead to a \n",
    "__ _second_ __ order method, and why it is a better approach than letting \n",
    "$z^{\\prime }=y$ and considering a _system_ of first order ODE's (i.e.,\n",
    "what is the order of Euler's method for a system?). "
   ]
  },
  {
   "cell_type": "markdown",
   "metadata": {
    "collapsed": false
   },
   "source": [
    "__SOLUTION:__\n",
    "\n",
    "$y\\left( t+2h\\right) -2y\\left( t+h\\right) = -y\\left( t\\right) -F\\left( y\\right)2h^{2}+y^{\\prime \\prime \\prime }\\left(\n",
    "c\\right) h^{3} = -y\\left( t\\right) + O(h^2)$\n",
    "\n",
    "Therefore, the first order term of h is eliminated"
   ]
  },
  {
   "cell_type": "markdown",
   "metadata": {
    "collapsed": true
   },
   "source": [
    "By Taylor, we have\n",
    "\\begin{align*}\n",
    "  f(x+h) &= f(x) + hf'(x) + \\frac 12 h^2 f''(x) + O(h^3)\\\\\n",
    "  f(x+2h) &= f(x) + 2hf'(x) + 2 h^2 f''(x) + O(h^3)\n",
    "\\end{align*}\n"
   ]
  },
  {
   "cell_type": "markdown",
   "metadata": {},
   "source": [
    "So \n",
    "$$ \\frac 1h \\bigl(\\alpha f(x) + \\beta f(x+h) + \\gamma f(x+2h)\\bigr) \n",
    "  = \\frac 1h (\\alpha + \\beta + \\gamma)f(x) + (2\\gamma + \\beta)f'(x) + \\frac h2(\\beta + 4\\gamma)f''(x) + O(h^2) $$ \n"
   ]
  },
  {
   "cell_type": "markdown",
   "metadata": {},
   "source": [
    "To have a second order method, we must therefore have $\\alpha+\\beta+\\gamma = 0$, $2\\gamma + \\alpha = 1$ and $\\alpha + 4\\gamma = 0$. And this combined gives us:\n",
    "$$ f'(x) = \\frac{-3}{2} f(x) + 2f(x+h) - \\frac{1}{2}f(x+2h)+ O(h^2)$$"
   ]
  },
  {
   "cell_type": "markdown",
   "metadata": {
    "collapsed": false
   },
   "source": [
    "Euler's method:\n",
    "$y'(t) = f(t,y(t)) \\ and \\ y(t_0)=y_0$, then we have\n",
    "$$y_{n+1} = y_n + hf(t_n,y_n)$$\n",
    "where error is of order 1. Therefore, it's less accurate when h is relatively big."
   ]
  },
  {
   "cell_type": "code",
   "execution_count": null,
   "metadata": {
    "collapsed": false
   },
   "outputs": [],
   "source": []
  },
  {
   "cell_type": "markdown",
   "metadata": {},
   "source": [
    "__Grad Student (Dennis) DUE BY LAST DAY OF CLASS:__  Show that the scheme in \\#8 becomes \n",
    "\\begin{equation*}\n",
    "y_{n+1}=2y_{n}-y_{n-1}+h^{2}F\\left( y\\right) \n",
    "\\end{equation*}\n",
    "where $y_{0}=y\\left( 0\\right) $ and where $y_{1}=y_{0}+v_{0}h+\\frac{1}{2}\n",
    "F\\left( y_{0}\\right) h^{2}.$ Apply it to the harmonic oscillator \n",
    "\\begin{equation*}\n",
    "y^{\\prime \\prime }+y=0,  y\\left( 0\\right) =1,  y^{\\prime }\\left(\n",
    "0\\right) =0\n",
    "\\end{equation*}\n",
    "for $h=0.01.$  "
   ]
  },
  {
   "cell_type": "code",
   "execution_count": null,
   "metadata": {
    "collapsed": false
   },
   "outputs": [],
   "source": []
  },
  {
   "cell_type": "code",
   "execution_count": null,
   "metadata": {
    "collapsed": false
   },
   "outputs": [],
   "source": []
  },
  {
   "cell_type": "code",
   "execution_count": null,
   "metadata": {
    "collapsed": false
   },
   "outputs": [],
   "source": []
  },
  {
   "cell_type": "code",
   "execution_count": null,
   "metadata": {
    "collapsed": false
   },
   "outputs": [],
   "source": []
  }
 ],
 "metadata": {
  "kernelspec": {
   "display_name": "Python 2",
   "language": "python",
   "name": "python2"
  },
  "language_info": {
   "codemirror_mode": {
    "name": "ipython",
    "version": 2
   },
   "file_extension": ".py",
   "mimetype": "text/x-python",
   "name": "python",
   "nbconvert_exporter": "python",
   "pygments_lexer": "ipython2",
   "version": "2.7.10"
  },
  "name": "Assignment6.ipynb"
 },
 "nbformat": 4,
 "nbformat_minor": 0
}
