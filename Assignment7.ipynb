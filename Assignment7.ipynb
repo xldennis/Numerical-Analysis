{
 "cells": [
  {
   "cell_type": "markdown",
   "metadata": {},
   "source": [
    "# Assignment 7:  Final Exam Study Guide\n",
    "\n",
    "The final exam will contain 15 short answer, short calculation\n",
    "problems. All will be similar to the homework, to the assignments, to the\n",
    "midterm, and to examples from the book. I will give you Taylor's Theorem: \n",
    "\n",
    "__Taylor's Theorem:__  If $f\\left( x\\right) $ is $n+1$ times\n",
    "differentiable on an open interval $\\left( a,b\\right) $ and if $p,x\\in\n",
    "\\left( a,b\\right) $ with $x>p,$ then there exists $p\\leq c\\leq x$ such that\n",
    "$$f\\left( x\\right) =f\\left( p\\right) +f^{\\prime }\\left(\n",
    "p\\right) \\left( x-p\\right) +\\ldots +\\frac{f^{\\left( n\\right) }\\left(\n",
    "p\\right) }{n!}\\left( x-p\\right) ^{n}+\\frac{f^{\\left( n+1\\right) }\\left(\n",
    "c\\right) }{(n+1)!}\\left( x-p\\right) ^{n+1} $$\n",
    "\n",
    "Let's first initialize the notebook: "
   ]
  },
  {
   "cell_type": "code",
   "execution_count": 1,
   "metadata": {
    "collapsed": false
   },
   "outputs": [
    {
     "name": "stdout",
     "output_type": "stream",
     "text": [
      "Populating the interactive namespace from numpy and matplotlib\n"
     ]
    }
   ],
   "source": [
    "%pylab inline"
   ]
  },
  {
   "cell_type": "markdown",
   "metadata": {},
   "source": [
    "In what follows, assume that $a,b,r,d$ are the last 4 non-zero\n",
    "digits of your banner enumber _in non-descending order._  That is, _ __0 < a &le; b &le; r &le; d  __ _.\n",
    "\n",
    "Thus, if your enumber is E12345403,  then \n",
    "\n",
    "a = 3,  b = 4,  r = 4, d = 5\n",
    "\n",
    "It is important that __ _d>a_ __.  If not, add 1 to _ __d__ _. Also, remember to import the \\_\\_future\\_\\_. __ _ (NOTE: \"c\" is not a digit of your Enumber!!!) _ __"
   ]
  },
  {
   "cell_type": "code",
   "execution_count": 2,
   "metadata": {
    "collapsed": false
   },
   "outputs": [],
   "source": [
    "from __future__ import division\n",
    "set_printoptions( precision = 6, suppress=True)"
   ]
  },
  {
   "cell_type": "markdown",
   "metadata": {},
   "source": [
    "__Grad Student (Dennis) DUE BY LAST DAY OF CLASS:__  Show that the scheme in \\#8 becomes \n",
    "\\begin{equation*}\n",
    "y_{n+1}=2y_{n}-y_{n-1}+h^{2}F\\left( y\\right) \n",
    "\\end{equation*}\n",
    "\n",
    "where $y_{0}=y\\left( 0\\right) $ and where $y_{1}=y_{0}+v_{0}h+\\frac{1}{2}\n",
    "F\\left( y_{0}\\right) h^{2}.$ Apply it to the harmonic oscillator \n",
    "\n",
    "\\begin{equation*}\n",
    "y^{\\prime \\prime }+y=0,  y\\left( 0\\right) =1,  y^{\\prime }\\left(\n",
    "0\\right) =0\n",
    "\\end{equation*}\n",
    "for $h=0.01.$  "
   ]
  },
  {
   "cell_type": "markdown",
   "metadata": {
    "collapsed": true
   },
   "source": [
    "In Question 8, it's given that \n",
    "\\begin{eqnarray*}\n",
    "y^{\\prime \\prime }&=&F\\left( y\\right) ,   y\\left( 0\\right) =y_{0}, \\\n",
    "y^{\\prime }\\left( 0\\right) =v_{0} \\tag{1} \\\\\n",
    "y\\left( t+2h\\right)  &=&y\\left( t\\right) +y^{\\prime }\\left( t\\right)\n",
    "2h+F\\left( y\\right) \\frac{4h^{2}}{2}+y^{\\prime \\prime \\prime }\\left(\n",
    "c\\right) \\frac{8h^{3}}{6} \\tag{2} \\\\\n",
    "2y\\left( t+h\\right)  &=&2y\\left( t\\right) +y^{\\prime }\\left( t\\right)\n",
    "2h+F\\left( y\\right) \\frac{2h^{2}}{2}+y^{\\prime \\prime \\prime }\\left(\n",
    "c\\right) \\frac{2h^{3}}{6} \\tag{3}\n",
    "\\end{eqnarray*}\n",
    "\n",
    "And we can easily show that \n",
    "\n",
    "$$y\\left( t+2h\\right) -2y\\left( t+h\\right) = -y\\left( t\\right) +F\\left( y\\right)h^{2}+y^{\\prime \\prime \\prime }\\left(\n",
    "c\\right) h^{3}$$\n",
    "\n",
    "Therefore, if we drop off the truncation error h of order 3, the second order derivative is\n",
    "\n",
    "$$y_{n+1}=2y_{n}-y_{n-1}+h^{2}F\\left( y\\right)$$\n"
   ]
  },
  {
   "cell_type": "markdown",
   "metadata": {
    "collapsed": true
   },
   "source": [
    "F(y) is the second order derivative, $y_0$ is initial y, $y'(0)$ is initial $\\frac{dy}{dt}$ and by (3), we have $y_1 = y(t_0 + h) = y\\left( t_0\\right) +y^{\\prime }\\left( t_0\\right) h+F\\left( y\\right) \\frac{h^{2}}{2}+y^{\\prime \\prime \\prime }\\left(c\\right) \\frac{h^{3}}{6}$\n",
    "\n",
    "Dropping off the trucation error of h order 3 term, we get $y_{1}=y_{0}+v_{0}h+\\frac{1}{2} F\\left( y_{0}\\right) h^{2}$\n",
    "\n",
    "Next we implement code to compute $y^{\\prime \\prime }+y=0,  y\\left( 0\\right) =1,  y^{\\prime }\\left(\n",
    "0\\right) =0$\n",
    "\n",
    "Knowing that $F(y) = y^{\\prime \\prime }(t) = -y(t)$ and $y_{n+1}=2y_{n}-y_{n-1}+h^{2}F\\left( y_{n-1}\\right)$"
   ]
  },
  {
   "cell_type": "code",
   "execution_count": 3,
   "metadata": {
    "collapsed": false
   },
   "outputs": [],
   "source": [
    "\n",
    "def f(y0, v0, h, N, Fun):\n",
    "    y = []\n",
    "    yi= 0\n",
    "    for i in range(N):\n",
    "        if i==0:\n",
    "            yi = y0\n",
    "        elif i==1:\n",
    "            yi = y0+v0*h+1/2*F(y0)*h**2 \n",
    "        else:\n",
    "            yi = 2*y[-1]-y[-2]+h**2*Fun(y[-2])\n",
    "        y.append(yi)    \n",
    "    return y\n"
   ]
  },
  {
   "cell_type": "code",
   "execution_count": 4,
   "metadata": {
    "collapsed": false
   },
   "outputs": [
    {
     "data": {
      "text/plain": [
       "<matplotlib.text.Text at 0x107b4b510>"
      ]
     },
     "execution_count": 4,
     "metadata": {},
     "output_type": "execute_result"
    },
    {
     "data": {
      "image/png": "[encoded data removed]",
      "text/plain": [
       "<matplotlib.figure.Figure at 0x107b10a90>"
      ]
     },
     "metadata": {},
     "output_type": "display_data"
    }
   ],
   "source": [
    "#implement \n",
    "F = lambda x: -x\n",
    "y = f(1,0,0.01,100,F)\n",
    "t = linspace(0, 1, 100)\n",
    "plt.plot(t, y)\n",
    "plt.xlabel('T')\n",
    "plt.ylabel('Y')        "
   ]
  },
  {
   "cell_type": "code",
   "execution_count": null,
   "metadata": {
    "collapsed": true
   },
   "outputs": [],
   "source": []
  },
  {
   "cell_type": "code",
   "execution_count": 5,
   "metadata": {
    "collapsed": true
   },
   "outputs": [],
   "source": [
    "a =2; b = c = 4; d = 6"
   ]
  },
  {
   "cell_type": "markdown",
   "metadata": {},
   "source": [
    "### COMPLETE THE FOLLOWING, EITHER WITH TEXT OR COMPUTATIONS OR BOTH\n",
    "\n",
    "<p>&nbsp;</p>\n",
    "\n",
    "__ 1.  Basic Statistics (2 pts):__ \n",
    "If $X$ is a random variable over $\\left( 0,\\infty\n",
    "\\right) $ with probability density function \n",
    "\\begin{equation*}\n",
    "p\\left( x\\right) =e^{-x}\n",
    "\\end{equation*}\n",
    "then what is $\\Pr \\left( a\\leq X\\leq d\\right) .$"
   ]
  },
  {
   "cell_type": "code",
   "execution_count": 6,
   "metadata": {
    "collapsed": false
   },
   "outputs": [
    {
     "name": "stdout",
     "output_type": "stream",
     "text": [
      "the integral is 0.13286\n"
     ]
    }
   ],
   "source": [
    "from scipy import integrate\n",
    "result = integrate.quad(lambda x: exp(-x), a, d)\n",
    "print \"the integral is %.5f\" %result[0]"
   ]
  },
  {
   "cell_type": "code",
   "execution_count": 7,
   "metadata": {
    "collapsed": false
   },
   "outputs": [
    {
     "data": {
      "text/plain": [
       "0.13285653105994635"
      ]
     },
     "execution_count": 7,
     "metadata": {},
     "output_type": "execute_result"
    }
   ],
   "source": [
    "exp(-a)-exp(-d)"
   ]
  },
  {
   "cell_type": "code",
   "execution_count": null,
   "metadata": {
    "collapsed": false
   },
   "outputs": [],
   "source": []
  },
  {
   "cell_type": "markdown",
   "metadata": {},
   "source": [
    "__ 2.  The Central Limit Theorem (3 pts):__ The Earth is (approximately) the interior\n",
    "of an ellipsoid with equation\n",
    "\\begin{equation*}\n",
    "\\frac{x^{2}}{\\left( 6.384\\right) ^{2}}+\\frac{y^{2}}{\\left( 6.384\\right) ^{2}}%\n",
    "+\\frac{z^{2}}{\\left( 6.353\\right) ^{2}}=1\n",
    "\\end{equation*}\n",
    "in thousands of kilometers. Suppose that out of $1,000,000$ uniformly\n",
    "randomly generated points $\\left( x,y,z\\right) $ in the cube $\\left[ -7,7\n",
    "\\right] \\times \\left[ -7,7\\right] \\times \\left[ -7,7\\right] $, there are\n",
    "395,403 trials that satisfy \n",
    "\\begin{equation*}\n",
    "\\frac{x^{2}}{\\left( 6.384\\right) ^{2}}+\\frac{y^{2}}{\\left( 6.384\\right) ^{2}}\n",
    "+\\frac{z^{2}}{\\left( 6.353\\right) ^{2}}\\leq 1\n",
    "\\end{equation*}\n",
    "What is the approximate volume of the earth and what is the standard\n",
    "deviation for this approximation?"
   ]
  },
  {
   "cell_type": "code",
   "execution_count": 65,
   "metadata": {
    "collapsed": false
   },
   "outputs": [
    {
     "name": "stdout",
     "output_type": "stream",
     "text": [
      "approximate volume of the earth is 1084 and standard deviation is 1.34\n"
     ]
    }
   ],
   "source": [
    "N = 1000000\n",
    "x = 395403/N\n",
    "sd = sqrt(x-x**2)/sqrt(N)\n",
    "print \"approximate volume of the earth is %d and standard deviation is %.2f\" %(14**3*x, 14**3*sd)"
   ]
  },
  {
   "cell_type": "markdown",
   "metadata": {
    "collapsed": false
   },
   "source": [
    "注意单位是$10^3$千米，所以再换算体积单位时，要乘以$10^9$\n",
    "Let X be the random variable which is 1 if a uniformly randomly generated point in the box is also in the ellipsoid, and 0 otherwise. Then p (X) = 0.395403 and the expected value of X is \n",
    "\n",
    "$$E (X) = p(x) \\times (x==1) + (1-p(x) \\times  (x==0)) = 0.395403 (1) + (1 -0.395403) (0) = 0.395403$$"
   ]
  },
  {
   "cell_type": "markdown",
   "metadata": {},
   "source": [
    "Since $X^2 = X \\Rightarrow E(x^2) = E(x)$ the variance of X is \n",
    "\n",
    "$$Var(X) = E(x^2) - E(X)^2 = 0.395403 - (0.395403)^2 = 0.23906$$\n",
    "\n",
    "and thus, the standard deviation is\n",
    "\n",
    "$$std (X) = \\sqrt {Var(X)} = \\sqrt {0.23906} = 0.48894$$"
   ]
  },
  {
   "cell_type": "markdown",
   "metadata": {
    "collapsed": false
   },
   "source": []
  },
  {
   "cell_type": "markdown",
   "metadata": {},
   "source": [
    "__ 3.  Newton's Method and its variants (2 pts):__ Use Newton's method to estimate the\n",
    "number $c$ for which $$f\\left( x\\right) =e^{-x^{2}/\\left( 2d^{2}\\right) } $$\n",
    "satisfies the Mean Value Theorem over$ \\left[ -a,b\\right] .$"
   ]
  },
  {
   "cell_type": "code",
   "execution_count": null,
   "metadata": {
    "collapsed": true
   },
   "outputs": [],
   "source": []
  },
  {
   "cell_type": "code",
   "execution_count": 66,
   "metadata": {
    "collapsed": false
   },
   "outputs": [],
   "source": [
    "def f(x):\n",
    "    return exp(-x**2/(2*d**2))\n",
    "\n",
    "def fprime(x): #f is differentiable\n",
    "    return -x/d**2*f(x)\n",
    "\n",
    "def g(x):\n",
    "    return fprime(x) - (f(b)-f(-a))/(b+a) #we wanna find the root of g(x)\n",
    "\n",
    "def gprime(x):\n",
    "    return -f(x)/d**2 - x*fprime(x)/d**2"
   ]
  },
  {
   "cell_type": "code",
   "execution_count": 67,
   "metadata": {
    "collapsed": false
   },
   "outputs": [
    {
     "name": "stdout",
     "output_type": "stream",
     "text": [
      "     xn           xp           |xn-xp|       fprime - slope\n",
      "    0.880191     1.000000     0.119809          0.000015612\n",
      "    0.880771     0.880191     0.000581          0.000000000\n",
      "    0.880771     0.880771     0.000000          0.000000000\n"
     ]
    },
    {
     "data": {
      "text/plain": [
       "[<matplotlib.lines.Line2D at 0x10a616510>]"
      ]
     },
     "execution_count": 67,
     "metadata": {},
     "output_type": "execute_result"
    },
    {
     "data": {
      "image/png": "[encoded data removed]",
      "text/plain": [
       "<matplotlib.figure.Figure at 0x10a9c8690>"
      ]
     },
     "metadata": {},
     "output_type": "display_data"
    }
   ],
   "source": [
    "import matplotlib.pyplot as plt\n",
    "\n",
    "xn = 1\n",
    "xp = xn  \n",
    "print('{:^12s} {:^12s} {:>12s} {:>20s}'.format('xn','xp','|xn-xp|','fprime - slope' ) ) \n",
    "\n",
    "for n in range(1000):\n",
    "    xp = xn\n",
    "    xn = xn - g(xn) / gprime(xn)\n",
    "    \n",
    "    print('{:12.6f} {:12.6f} {:12.6f} {:20.9f}'.format(xn,xp,abs(xn-xp), g(xn))  ) \n",
    "    \n",
    "    if( abs(xn-xp) < 10e-6):\n",
    "        break\n",
    "\n",
    "        \n",
    "xdomain = linspace(-a,b,100)\n",
    "xdomain = linspace(-a,b,100)\n",
    "#plt.ylim(ymax = 2000, ymin = -2000)\n",
    "tan = f(xn)+fprime(xn)*(xdomain-xn)\n",
    "plt.plot(xdomain, f(xdomain))\n",
    "plt.plot(xn,f(xn),'om',xdomain,tan,'--r')\n",
    "plt.plot([-a, b], [f(-a), f(b)], '--g')"
   ]
  },
  {
   "cell_type": "markdown",
   "metadata": {
    "collapsed": false
   },
   "source": [
    "The number is 0.881"
   ]
  },
  {
   "cell_type": "code",
   "execution_count": null,
   "metadata": {
    "collapsed": false
   },
   "outputs": [],
   "source": []
  },
  {
   "cell_type": "markdown",
   "metadata": {},
   "source": [
    "__ 4.  Newton's Method and its variants (5 pts):__ A function $f\\left( x\\right) $ that\n",
    "is a 1-1 map of an interval $\\left[ a,b\\right] $ onto an interval \n",
    "$\\left[ c,d\\right] $ has an _inverse_ $f^{-1}\\left( x\\right) $ that is a 1-1 map\n",
    "of $\\left[ c,d\\right] $ onto $\\left[ a,b\\right] $ defined by \n",
    "\\begin{equation*}\n",
    "y=f^{-1}\\left( x\\right)      \\qquad \\text{  same  as  } \\qquad    x=f\\left( y\\right) \n",
    "\\end{equation*}\n",
    "where $x\\in \\left[ c,d\\right] $ and $y\\in \\left[ a,b\\right] .$ Use Newton's\n",
    "method to develop a method for calculating $f^{-1}\\left( p\\right) $ for a\n",
    "given $p.$ How would it be used to estimate natural logarithms? "
   ]
  },
  {
   "cell_type": "markdown",
   "metadata": {
    "collapsed": false
   },
   "source": [
    "__solution__: to estimate $Y = e^x$, it's equivalent to find such a Y that that $ln \\left (Y \\right) - x = 0$\n",
    "\n",
    "Suppose we want to find $e^5 \\approx 148.413159$\n",
    "\n",
    "Using algorithm below we get an approximate value of 148.096847 "
   ]
  },
  {
   "cell_type": "code",
   "execution_count": 68,
   "metadata": {
    "collapsed": false
   },
   "outputs": [
    {
     "name": "stdout",
     "output_type": "stream",
     "text": [
      "solution value to e^5 is 148.096847\n"
     ]
    },
    {
     "data": {
      "image/png": "[encoded data removed]",
      "text/plain": [
       "<matplotlib.figure.Figure at 0x10a83dc90>"
      ]
     },
     "metadata": {},
     "output_type": "display_data"
    }
   ],
   "source": [
    "def p(x):\n",
    "    return log(x) - 5\n",
    "def prime(u):\n",
    "    return 1/x\n",
    "\n",
    "udomain = linspace(100,200,2000)\n",
    "plt.plot(udomain, p(udomain),udomain,0*udomain)\n",
    "\n",
    "\n",
    "xn = 148 \n",
    "xp = xn  \n",
    "\n",
    "for n in range(100):\n",
    "    xp = xn\n",
    "    xn = xn - p(xn) / prime(xn)    \n",
    "    if( abs(xn-xp) < 10e-6):\n",
    "        break\n",
    "\n",
    "print \"solution value to e^5 is %.6f\" %xn"
   ]
  },
  {
   "cell_type": "code",
   "execution_count": null,
   "metadata": {
    "collapsed": true
   },
   "outputs": [],
   "source": []
  },
  {
   "cell_type": "code",
   "execution_count": null,
   "metadata": {
    "collapsed": true
   },
   "outputs": [],
   "source": []
  },
  {
   "cell_type": "markdown",
   "metadata": {},
   "source": [
    "__ 5.  Fixed Points (3 pts):__ Write a program which uses Newton's method to estimate a nonzero\n",
    "fixed point of \n",
    "\\begin{equation*}\n",
    "f\\left( x\\right) = ae^{bx}-d\n",
    "\\end{equation*}\n",
    "Use the program to estimate the fixed point of $f\\left( x\\right) $."
   ]
  },
  {
   "cell_type": "markdown",
   "metadata": {
    "collapsed": false
   },
   "source": [
    "$g(p) - p = 0$ and p is zero to $f(x) = g(x) - x$"
   ]
  },
  {
   "cell_type": "code",
   "execution_count": 79,
   "metadata": {
    "collapsed": false
   },
   "outputs": [
    {
     "name": "stdout",
     "output_type": "stream",
     "text": [
      "     xn           xp           |xn-xp|        f(xn)\n",
      "    0.286689     0.300000     0.013311     0.295936314\n",
      "    0.286307     0.286689     0.000382     0.286314299\n",
      "    0.286307     0.286307     0.000000     0.286306634\n",
      "The fix point to this function is 0.286307\n"
     ]
    },
    {
     "data": {
      "image/png": "[encoded data removed]",
      "text/plain": [
       "<matplotlib.figure.Figure at 0x10a4cc490>"
      ]
     },
     "metadata": {},
     "output_type": "display_data"
    }
   ],
   "source": [
    "def f(x): \n",
    "    return a*exp(b*x)-d -x\n",
    "def fprime(x): \n",
    "    return a*b*exp(b*x) -1\n",
    "\n",
    "udomain = linspace(0,1,100)\n",
    "plt.plot(udomain, f(udomain),udomain,0*udomain)\n",
    "\n",
    "xn = 0.3\n",
    "xp = xn  \n",
    "print('{:^12s} {:^12s} {:>12s} {:>12s}'.format('xn','xp','|xn-xp|','f(xn)' ) ) \n",
    "\n",
    "for n in range(1000):\n",
    "    xp = xn\n",
    "    xn = xn - f(xn) / fprime(xn) \n",
    "    print('{:12.6f} {:12.6f} {:12.6f} {:15.9f}'.format(xn,xp,abs(xn-xp), (f(xn)+xn) ))           \n",
    "    if( abs(xn-xp) < 10e-6):\n",
    "        break\n",
    "\n",
    "print \"The fix point to this function is %.6f\" %xn"
   ]
  },
  {
   "cell_type": "code",
   "execution_count": null,
   "metadata": {
    "collapsed": true
   },
   "outputs": [],
   "source": []
  },
  {
   "cell_type": "code",
   "execution_count": null,
   "metadata": {
    "collapsed": false
   },
   "outputs": [],
   "source": []
  },
  {
   "cell_type": "markdown",
   "metadata": {},
   "source": [
    "__ 6.  Finite Precision Arithmetic (3 pts):__ What is the difference between roundoff\n",
    "error and truncation error (aka, discretization error)? Are the two concepts\n",
    "independent of each other?"
   ]
  },
  {
   "cell_type": "markdown",
   "metadata": {
    "collapsed": false
   },
   "source": [
    "__Solution:__  \n",
    "1. truncation error: Error made in one step when we replace an infinite process by a finite one. It can be reduced by applying the same approximation to a larger number of smaller intervals or by switching to a better approximation\n",
    "2. roundoff error: Error made by computing with limited precision on one step. It is built into machine and you can hardly get rid of it. \n",
    "\n",
    "They are independent of each other, the total error is combination of these two"
   ]
  },
  {
   "cell_type": "code",
   "execution_count": null,
   "metadata": {
    "collapsed": false
   },
   "outputs": [],
   "source": []
  },
  {
   "cell_type": "code",
   "execution_count": null,
   "metadata": {
    "collapsed": false
   },
   "outputs": [],
   "source": []
  },
  {
   "cell_type": "markdown",
   "metadata": {},
   "source": [
    "__ 7.  Lagrange Interpolation (2 pts):__ Given points $x_{1},\\ldots ,x_{n},$ the\n",
    "quantities \n",
    "\\begin{equation*}\n",
    "\\varphi _{i}\\left( x\\right) =\\prod_{j\\neq i}\\frac{x-x_{j}}{x_{i}-x_{j}}\n",
    "\\end{equation*}\n",
    "are important in a number of contexts, such as, for instance, in Gaussian\n",
    "Quadrature. What is the derivative of the natural logarithm of $\\varphi\n",
    "_{i}\\left( x\\right) ?$"
   ]
  },
  {
   "cell_type": "markdown",
   "metadata": {
    "collapsed": false
   },
   "source": [
    "If we take the natural log of $\\varphi$\n",
    "\n",
    "$$log \\left( \\varphi _{i}\\left( x\\right) \\right) = \\sum^n_j log(x-x_j) - \\sum^n_j log(x_{i}-x_{j})$$\n",
    "\n",
    "Then if we take the derivative, we have\n",
    "\n",
    "$$\\frac{\\varphi _{i}'\\left( x\\right)}{\\varphi _{i}\\left( x\\right) } =\\sum^n_j\\frac{1}{x-x_j}$$\n",
    "\n"
   ]
  },
  {
   "cell_type": "code",
   "execution_count": null,
   "metadata": {
    "collapsed": true
   },
   "outputs": [],
   "source": []
  },
  {
   "cell_type": "code",
   "execution_count": null,
   "metadata": {
    "collapsed": false
   },
   "outputs": [],
   "source": []
  },
  {
   "cell_type": "markdown",
   "metadata": {},
   "source": [
    "__ 8.  Spline Interpolation (2 pts):__ For $k$ arbitrary, define the function \n",
    "\\begin{equation*}\n",
    "f\\left( x\\right) =\\left\\{ \n",
    "\\begin{array}{ccc}\n",
    "ax^{2}-ax+b & if & 0\\leq x\\leq 1 \\\\ \n",
    "d\\left( x-1\\right) ^{2}+k\\left( x-1\\right) +b & if & 1\\leq x\\leq 2\n",
    "\\end{array}\n",
    "\\right. \n",
    "\\end{equation*}\n",
    "For what value of $k$ is $f\\left( x\\right) $ a quadratic spline that is\n",
    "smooth at $x=1? $"
   ]
  },
  {
   "cell_type": "markdown",
   "metadata": {
    "collapsed": false
   },
   "source": [
    "$$f(1_-) = f(1_+) \\quad and \\quad f'(1_-) = f'(1_+)$$"
   ]
  },
  {
   "cell_type": "markdown",
   "metadata": {
    "collapsed": false
   },
   "source": [
    "when k = a = 2, the quadratic spline is smooth at x = 1"
   ]
  },
  {
   "cell_type": "code",
   "execution_count": null,
   "metadata": {
    "collapsed": false
   },
   "outputs": [],
   "source": []
  },
  {
   "cell_type": "code",
   "execution_count": null,
   "metadata": {
    "collapsed": true
   },
   "outputs": [],
   "source": []
  },
  {
   "cell_type": "markdown",
   "metadata": {},
   "source": [
    "__ 9.  Limit Acceleration Using Richardson (5 pts):__ The Euler-Mascheroni constant\n",
    "(aka, Euler's constant) is defined \n",
    "\\begin{equation*}\n",
    "\\gamma =\\lim_{n\\rightarrow \\infty }\\left( \\sum_{k=1}^{n}\\frac{1}{k}-\\ln\n",
    "\\left( n\\right) \\right) \n",
    "\\end{equation*}\n",
    "Use a Richardson's acceleration to find $\\gamma $ accurate to 5 decimal\n",
    "places. "
   ]
  },
  {
   "cell_type": "markdown",
   "metadata": {},
   "source": [
    "$(n + 1) S (n + 1) -nS(n)$ is an accelerated convergence method. "
   ]
  },
  {
   "cell_type": "code",
   "execution_count": 81,
   "metadata": {
    "collapsed": false
   },
   "outputs": [
    {
     "name": "stdout",
     "output_type": "stream",
     "text": [
      "n      n-1      |f(n)-f(n-1)|      f(n)\n",
      "2      1        0.422472           0.5775280146\n",
      "3      2        0.000214           0.5773139068\n",
      "4      3        0.000058           0.5772558091\n",
      "5      4        0.000021           0.5772350016\n",
      "6      5        0.000009           0.5772260953\n"
     ]
    }
   ],
   "source": [
    "def f(n):\n",
    "    result = 0\n",
    "    for i in range(1,n+1):\n",
    "        result += 1/i\n",
    "    return result - log(n)\n",
    "\n",
    "def Richardson(n): #equation(4)\n",
    "    return (n**2*f(n)-2*(n+1)**2*f(n+1)+(n+2)**2*f(n+2))/2\n",
    "\n",
    "tolerance = 10**(-5)\n",
    "\n",
    "fn = f(1)\n",
    "print('{:^0s} {:^13s} {:>12s} {:>9s}'.format('n','n-1','|f(n)-f(n-1)|','f(n)' ) ) \n",
    "\n",
    "for n in range(2,1000):\n",
    "    fp = fn\n",
    "    fn = Richardson(n)\n",
    "    \n",
    "    print('{:0.0f} {:6.0f} {:15.6f} {:22.10f}'.format(n,n-1,abs(fn-fp), fn )  ) \n",
    "    \n",
    "    if( abs(fn-fp) < tolerance):\n",
    "        break"
   ]
  },
  {
   "cell_type": "code",
   "execution_count": null,
   "metadata": {
    "collapsed": false
   },
   "outputs": [],
   "source": []
  },
  {
   "cell_type": "code",
   "execution_count": null,
   "metadata": {
    "collapsed": false
   },
   "outputs": [],
   "source": []
  },
  {
   "cell_type": "markdown",
   "metadata": {},
   "source": [
    "__ 10.  Trapezoidal Rule (5 pts):__ Show that if $f\\left( x\\right) \\geq 0$ and $\n",
    "f^{\\prime \\prime }\\left( x\\right) \\leq 0$ over $\\left[ p,q\\right] ,$ then\n",
    "the best trapezoidal rule approximation over the partition \n",
    "\\begin{equation*}\n",
    "p=x_{0}<x_{1}<x_{2}=q\n",
    "\\end{equation*}\n",
    "occurs when $x_{1}$ is the number $c$ that satisfies the Mean Value Theorem for $\n",
    "f\\left( x\\right) $ over $\\left[ p,q\\right] $. Use this to estimate the area\n",
    "under the curve $y=e^{-x^{2}/\\left( 2d^{2}\\right) } $over$ \\left[ -a,b\n",
    "\\right] $. Notice that you estimated the number $c$ in problem 3."
   ]
  },
  {
   "cell_type": "markdown",
   "metadata": {
    "collapsed": false
   },
   "source": [
    "The trapezoid rule says:\n",
    "\n",
    "$$\\int^q_pf(x)dx \\approx \\frac{\\Delta x_1\\left( f(p)+f(x_1) \\right)}{2} +\\frac{\\Delta x_2\\left( f(x_1)+f(q) \\right)}{2}$$\n",
    "\n",
    "\n"
   ]
  },
  {
   "cell_type": "code",
   "execution_count": 82,
   "metadata": {
    "collapsed": false
   },
   "outputs": [
    {
     "name": "stdout",
     "output_type": "stream",
     "text": [
      "result using trapezoid rule is 5.57924\n"
     ]
    }
   ],
   "source": [
    "eps = 0.880771\n",
    "def f(x):\n",
    "    return exp(-x**2/(2*d**2))\n",
    "new_method = (b-eps)*(f(b)+f(eps))/2 +(eps+a)*(f(-a)+f(eps))/2\n",
    "print \"result using trapezoid rule is %.5f\" %new_method"
   ]
  },
  {
   "cell_type": "markdown",
   "metadata": {},
   "source": [
    "![](http://snag.gy/iecVo.jpg)"
   ]
  },
  {
   "cell_type": "markdown",
   "metadata": {},
   "source": [
    "The area of the two trapezoid is $A(c) = \\frac{f(c) + f(p)}{2}(c-p) + \\frac{f(q) + f(c)}{2}(q-c)$ \n",
    "\n",
    "The maximum occurs when $A'(c) = 0$, which is when\n",
    "\n",
    "$$\\frac{f'(c)}{2}(c-p) + \\frac{f(c) + f(p)}{2} + \\frac{f'(c)}{2}(q-c) - \\frac{f(q) + f(c)}{2} = 0$$\n",
    "\n",
    "And solve this euqation we get $f'(c) = \\frac{f(q) - f(p)}{q-p}$"
   ]
  },
  {
   "cell_type": "code",
   "execution_count": null,
   "metadata": {
    "collapsed": false
   },
   "outputs": [],
   "source": []
  },
  {
   "cell_type": "markdown",
   "metadata": {},
   "source": [
    "__ 11.  Romberg Integration (5 pts):__ Use Romberg integration to estimate the area\n",
    "under the curve $y=e^{-x^{2}/\\left( 2d^{2}\\right) } $over$ \\left[ -a,b \\right] $.  That is, begin with the Trapezoidal rule and then use Richardson extrapolation. "
   ]
  },
  {
   "cell_type": "code",
   "execution_count": 122,
   "metadata": {
    "collapsed": false
   },
   "outputs": [],
   "source": [
    "def f(x):\n",
    "    return exp(-x**2/(2*d**2))\n",
    "\n",
    "def trapezoid(a,b,h):\n",
    "    n = int((b-a)/h)\n",
    "    x0 = a\n",
    "    output =f(a)\n",
    "    for i in range(2,n+1):\n",
    "        x  = x + h\n",
    "        output = output + 2. * f(x)\n",
    "    output = (output + f(b)) * h/2\n",
    "    return output"
   ]
  },
  {
   "cell_type": "code",
   "execution_count": 123,
   "metadata": {
    "collapsed": false
   },
   "outputs": [],
   "source": [
    "def romberg(f, a, b, eps=1e-5):\n",
    "    R = [[(b - a)/2 * (f(a) + f(b))]]  # R[0][0]\n",
    "    n = 1\n",
    "    while True:\n",
    "        h = float(b - a) / 2 ** n\n",
    "        R.append([None] * (n + 1))  # Add an empty row.\n",
    "        R[n][0] = R[n-1][0]/2 + h*sum(f(a+(2*k-1)*h) for k in xrange(1, 2**(n-1)+1))\n",
    "        for m in xrange(1, n+1):\n",
    "            R[n][m] = R[n][m-1] + (R[n][m-1] - R[n-1][m-1]) / (4 ** m - 1)\n",
    "        if abs(R[n][n-1] - R[n][n]) < eps:\n",
    "            return R[n][n]\n",
    "        n += 1"
   ]
  },
  {
   "cell_type": "code",
   "execution_count": 125,
   "metadata": {
    "collapsed": false
   },
   "outputs": [
    {
     "name": "stdout",
     "output_type": "stream",
     "text": [
      "romberg integration gives 5.68603\n"
     ]
    }
   ],
   "source": [
    "result = romberg(lambda x: f(x), -a, b)\n",
    "print \"romberg integration gives %.5f\" %result"
   ]
  },
  {
   "cell_type": "code",
   "execution_count": null,
   "metadata": {
    "collapsed": true
   },
   "outputs": [],
   "source": []
  },
  {
   "cell_type": "code",
   "execution_count": null,
   "metadata": {
    "collapsed": false
   },
   "outputs": [],
   "source": []
  },
  {
   "cell_type": "markdown",
   "metadata": {},
   "source": [
    "__ 12.  Well-conditioning (3 pts):__ Show that $y=x^{c}$ for any $c>0$ is a solution to \n",
    "\\begin{equation*}\n",
    "xyy^{\\prime \\prime }+yy^{\\prime }=x\\left( y^{\\prime }\\right) ^{2},y\\left(\n",
    "0\\right) =0, y\\left( 1\\right) =1\n",
    "\\end{equation*}\n",
    "Use it to explain why this problem is ill-conditioned."
   ]
  },
  {
   "cell_type": "markdown",
   "metadata": {
    "collapsed": false
   },
   "source": [
    "plug in $y = x^c$, noted that $y' = cx^{c-1}$ and $y'' = c(c-1)x^{c-2}$, we get\n",
    "\n",
    "$$\n",
    "\\begin{align*} \n",
    "c(c-1)x^{c-2}x^cx + x^ccx^{c-1} &= x(cx^{c-1})^2 \\\\\n",
    "c^2x^{2c-1} &= c^2x^{2c-1}\\\\\n",
    "\\end{align*}\n",
    "$$"
   ]
  },
  {
   "cell_type": "markdown",
   "metadata": {
    "collapsed": false
   },
   "source": [
    "The absolute error is computed by differencing true value and approximate value. Suppose $y=x^c$ is a solution, then $\\frac{f(x+\\Delta x)-f(x)}{f(x)} \\approx f'(x)\\Delta x = cx^{r-1}\\Delta x$. This implies that for large positive number x, a small error occuring in the computation of x will introduce large __truncation error__ in computing the function. Therefore, the problem is ill-conditioned. "
   ]
  },
  {
   "cell_type": "code",
   "execution_count": null,
   "metadata": {
    "collapsed": false
   },
   "outputs": [],
   "source": []
  },
  {
   "cell_type": "markdown",
   "metadata": {},
   "source": [
    "__ 13.  ODEINT in Scipy(2 pts):__ What solution does ODEINT produce for the problem in #12?  Is this a flaw of ODEINT?  "
   ]
  },
  {
   "cell_type": "code",
   "execution_count": 96,
   "metadata": {
    "collapsed": false
   },
   "outputs": [
    {
     "name": "stderr",
     "output_type": "stream",
     "text": [
      "/Users/dennis/anaconda/lib/python2.7/site-packages/ipykernel/__main__.py:6: RuntimeWarning: invalid value encountered in double_scalars\n"
     ]
    },
    {
     "data": {
      "text/plain": [
       "array([[  0.,   1.],\n",
       "       [ nan,  nan],\n",
       "       [ nan,  nan],\n",
       "       [ nan,  nan],\n",
       "       [ nan,  nan]])"
      ]
     },
     "execution_count": 96,
     "metadata": {},
     "output_type": "execute_result"
    }
   ],
   "source": [
    "from scipy.integrate import odeint\n",
    "\n",
    "def g(y, x):\n",
    "    y0 = y[0]\n",
    "    y1 = y[1]\n",
    "    y2 = (x*y1**2-y0*y1)/(x*y0)\n",
    "    return y1, y2\n",
    "\n",
    "# Initial conditions on y, y' at x=0\n",
    "init = 0.0, 1.0\n",
    "# First integrate from 0 to 2\n",
    "x = np.linspace(0,2,100)\n",
    "sol=odeint(g, init, x)\n",
    "sol[:5,]\n"
   ]
  },
  {
   "cell_type": "markdown",
   "metadata": {},
   "source": [
    "It produces initial value and not-a-number value. "
   ]
  },
  {
   "cell_type": "code",
   "execution_count": null,
   "metadata": {
    "collapsed": false
   },
   "outputs": [],
   "source": []
  },
  {
   "cell_type": "markdown",
   "metadata": {},
   "source": [
    "__ 14.  ODEINT in Scipy (3 pts): __ Find and plot a numerical\n",
    "solution to \n",
    "\\begin{equation*}\n",
    "y^{\\prime \\prime }+ax^{b}y=0,  y\\left( 0\\right) =1,  y^{\\prime }\\left(\n",
    "0\\right) =0\n",
    "\\end{equation*}\n",
    "\n",
    "for $x$ in $[-a,d]$.  "
   ]
  },
  {
   "cell_type": "code",
   "execution_count": 100,
   "metadata": {
    "collapsed": false
   },
   "outputs": [
    {
     "data": {
      "text/plain": [
       "[<matplotlib.lines.Line2D at 0x109dc1090>]"
      ]
     },
     "execution_count": 100,
     "metadata": {},
     "output_type": "execute_result"
    },
    {
     "data": {
      "image/png": "[encoded data removed]",
      "text/plain": [
       "<matplotlib.figure.Figure at 0x108b61b50>"
      ]
     },
     "metadata": {},
     "output_type": "display_data"
    }
   ],
   "source": [
    "def g(y, x):\n",
    "    y0 = y[0]\n",
    "    y1 = y[1]\n",
    "    y2 = -a*x**b*y0\n",
    "    return y1, y2\n",
    "\n",
    "# Initial conditions on y, y' at x=0\n",
    "init = 1.0, 0.0\n",
    "# First integrate from 0 to 2\n",
    "x = np.linspace(-a,d,400)\n",
    "sol=odeint(g, init, x)\n",
    "plt.plot(x, sol[:,0], color='b')\n",
    "\n"
   ]
  },
  {
   "cell_type": "code",
   "execution_count": null,
   "metadata": {
    "collapsed": true
   },
   "outputs": [],
   "source": []
  },
  {
   "cell_type": "code",
   "execution_count": null,
   "metadata": {
    "collapsed": true
   },
   "outputs": [],
   "source": []
  },
  {
   "cell_type": "markdown",
   "metadata": {},
   "source": [
    "__ 15. Pade Approximation (5 pts):__  For what values of $A,B,C,D,$ and $E$ does the function  \n",
    "$$ P(x) = \\frac{A + Bx + Cx^2}{1 + Dx + Ex^2} $$  have the same Taylor polynomial as $$f(x) = d\\cos(bx)$$.  \n",
    "centered at 0.  "
   ]
  },
  {
   "cell_type": "code",
   "execution_count": 118,
   "metadata": {
    "collapsed": false
   },
   "outputs": [],
   "source": [
    "from scipy.misc import pade, factorial"
   ]
  },
  {
   "cell_type": "markdown",
   "metadata": {
    "collapsed": false
   },
   "source": [
    "$\\cos(x) = 1 - \\frac{x^2}{2} + \\frac{x^4}{24}$ \n",
    "\n",
    "$\\cos(6x) = 1 + 0x - \\frac{36x^2}{2} + 0x^3 + \\frac{(6x)^4}{24}$ \n"
   ]
  },
  {
   "cell_type": "code",
   "execution_count": 119,
   "metadata": {
    "collapsed": false
   },
   "outputs": [],
   "source": [
    "coeff = [1,0,-18,0,6**4/24]"
   ]
  },
  {
   "cell_type": "code",
   "execution_count": 120,
   "metadata": {
    "collapsed": false
   },
   "outputs": [
    {
     "data": {
      "text/plain": [
       "(poly1d([-15.,   0.,   1.]), poly1d([ 3.,  0.,  1.]))"
      ]
     },
     "execution_count": 120,
     "metadata": {},
     "output_type": "execute_result"
    }
   ],
   "source": [
    "pade(coeff, 2) #second degree polynomial in the denominator"
   ]
  },
  {
   "cell_type": "markdown",
   "metadata": {
    "collapsed": false
   },
   "source": [
    "$$\\cos(10x) \\approx \\frac{1-15x^2}{1+3x^2}$$\n",
    "\n",
    "$$\n",
    "A = 1 \\\\\n",
    "B = 0 \\\\\n",
    "C = -15 \\\\\n",
    "D = 0 \\\\\n",
    "E = 3 \n",
    "$$"
   ]
  },
  {
   "cell_type": "code",
   "execution_count": null,
   "metadata": {
    "collapsed": true
   },
   "outputs": [],
   "source": []
  }
 ],
 "metadata": {
  "kernelspec": {
   "display_name": "Python 2",
   "language": "python",
   "name": "python2"
  },
  "language_info": {
   "codemirror_mode": {
    "name": "ipython",
    "version": 2
   },
   "file_extension": ".py",
   "mimetype": "text/x-python",
   "name": "python",
   "nbconvert_exporter": "python",
   "pygments_lexer": "ipython2",
   "version": "2.7.10"
  },
  "name": "Assignment7.ipynb"
 },
 "nbformat": 4,
 "nbformat_minor": 0
}
