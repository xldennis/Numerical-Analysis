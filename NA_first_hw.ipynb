{
 "cells": [
  {
   "cell_type": "markdown",
   "metadata": {},
   "source": [
    "This is a written assignment, but you will use a notebook for some steps and can use the notebook for\n",
    "everything if you like. But you turn in the results in class or by scan/photo and dropbox. "
   ]
  },
  {
   "cell_type": "markdown",
   "metadata": {},
   "source": [
    "We are going to verify several statistical ideas for a data set we are going to generate. Let a,b,c,d be the\n",
    "last 4 non-zero digits of your banner enumber. For example, if your Enumber is E99943040, then a=9,\n",
    "b=4, c=3, and d=4. If you only have 3 non-zero digits, then repeat the last one for d. You will be forming\n",
    "numbers using these digits. For example, abc is the number 943, whereas abc12 is 94312. However,\n",
    "abc+12 is the number 943 + 12 = 955. "
   ]
  },
  {
   "cell_type": "markdown",
   "metadata": {},
   "source": [
    "My Enumber is E00404624, and therefore a = 4, b = 6, c = 2, d = 4. "
   ]
  },
  {
   "cell_type": "markdown",
   "metadata": {},
   "source": [
    "Starting with $x_n = abc$. Generate 50 numbers using the formula\n",
    "$$x_n = ab * x_n \\% \\ bcd1$$\n",
    "and then divide each by bcd1 (Note: bcd1 is a 4 digit number, and the equation should be interpreted as\n",
    "“the next” $x_n$ is given by the right hand side in terms of the current $x_n$). In Python, this is implemented\n",
    "as (with digits filled for you)"
   ]
  },
  {
   "cell_type": "code",
   "execution_count": 1,
   "metadata": {
    "collapsed": false
   },
   "outputs": [
    {
     "name": "stdout",
     "output_type": "stream",
     "text": [
      "Populating the interactive namespace from numpy and matplotlib\n"
     ]
    }
   ],
   "source": [
    "from __future__ import division\n",
    "\n",
    "%pylab inline\n",
    "\n",
    "import numpy"
   ]
  },
  {
   "cell_type": "code",
   "execution_count": 2,
   "metadata": {
    "collapsed": false,
    "scrolled": true
   },
   "outputs": [
    {
     "data": {
      "text/plain": [
       "array([ 0.0740266 ,  0.40522352,  0.64028201,  0.45297228,  0.83672488,\n",
       "        0.48934466,  0.50985419,  0.45329274,  0.85146611,  0.16744112,\n",
       "        0.7022913 ,  0.30539978,  0.04838968,  0.22592533,  0.39256529,\n",
       "        0.05800353,  0.66816215,  0.73545906,  0.83111681,  0.23137318,\n",
       "        0.64316616,  0.58564333,  0.93959301,  0.22127864,  0.1788175 ,\n",
       "        0.22560487,  0.37782407,  0.37990707,  0.47572504,  0.88335203,\n",
       "        0.63419324,  0.17288896,  0.95289216,  0.83303958,  0.31982054,\n",
       "        0.71174491,  0.74026598,  0.05223522,  0.40282006,  0.5297228 ,\n",
       "        0.36724884,  0.89344656,  0.0985419 ,  0.53292742,  0.51466111,\n",
       "        0.67441115,  0.02291299,  0.05399776,  0.48389681,  0.25925332])"
      ]
     },
     "execution_count": 2,
     "metadata": {},
     "output_type": "execute_result"
    }
   ],
   "source": [
    "abc = 462\n",
    "xn = abc\n",
    "Data = zeros(50)\n",
    "bcd1 = 6241\n",
    "ab = 46\n",
    "\n",
    "for i in range(50):\n",
    "    Data[i] = xn/bcd1\n",
    "    xn = ab * xn % bcd1\n",
    "\n",
    "Data"
   ]
  },
  {
   "cell_type": "markdown",
   "metadata": {},
   "source": [
    "Algorithms like this are used to generate numbers that are approximately uniformly random. This\n",
    "particular algorithm is the “Linear Congruential generator” and is very old and somewhat unreliable.\n",
    "Sometimes it produces very random numbers, and sometimes not so random. So I do not know how\n",
    "random your results are going to be, if at all! This assignment asks you to calculate several quantities\n",
    "and form an opinion as to how “random” the results are for your generated data:"
   ]
  },
  {
   "cell_type": "markdown",
   "metadata": {},
   "source": [
    "Do each of the following, explaining each step fully. For recording results, only 5 decimal places of\n",
    "accuracy are required. "
   ]
  },
  {
   "cell_type": "code",
   "execution_count": null,
   "metadata": {
    "collapsed": true
   },
   "outputs": [],
   "source": []
  },
  {
   "cell_type": "markdown",
   "metadata": {},
   "source": [
    "[1] (5 points) Write down what you used for abc and for bcd1. Write down the 50 points in your\n",
    "Data in ascending order (smallest to largest). (Hint: see the sort command in Python)"
   ]
  },
  {
   "cell_type": "code",
   "execution_count": 3,
   "metadata": {
    "collapsed": false
   },
   "outputs": [
    {
     "name": "stdout",
     "output_type": "stream",
     "text": [
      "abc is 462\n",
      "bcd1 is 6241\n"
     ]
    },
    {
     "data": {
      "text/plain": [
       "array([ 0.02291299,  0.04838968,  0.05223522,  0.05399776,  0.05800353,\n",
       "        0.0740266 ,  0.0985419 ,  0.16744112,  0.17288896,  0.1788175 ,\n",
       "        0.22127864,  0.22560487,  0.22592533,  0.23137318,  0.25925332,\n",
       "        0.30539978,  0.31982054,  0.36724884,  0.37782407,  0.37990707,\n",
       "        0.39256529,  0.40282006,  0.40522352,  0.45297228,  0.45329274,\n",
       "        0.47572504,  0.48389681,  0.48934466,  0.50985419,  0.51466111,\n",
       "        0.5297228 ,  0.53292742,  0.58564333,  0.63419324,  0.64028201,\n",
       "        0.64316616,  0.66816215,  0.67441115,  0.7022913 ,  0.71174491,\n",
       "        0.73545906,  0.74026598,  0.83111681,  0.83303958,  0.83672488,\n",
       "        0.85146611,  0.88335203,  0.89344656,  0.93959301,  0.95289216])"
      ]
     },
     "execution_count": 3,
     "metadata": {},
     "output_type": "execute_result"
    }
   ],
   "source": [
    "print(\"abc is {abc}\".format(abc=462))\n",
    "\n",
    "print(\"bcd1 is {bcd1}\".format(bcd1=6241))\n",
    "\n",
    "sort(Data)"
   ]
  },
  {
   "cell_type": "code",
   "execution_count": null,
   "metadata": {
    "collapsed": true
   },
   "outputs": [],
   "source": []
  },
  {
   "cell_type": "markdown",
   "metadata": {},
   "source": [
    "[2] (5 points) Calculate the mean and standard deviation of your Data. "
   ]
  },
  {
   "cell_type": "code",
   "execution_count": 4,
   "metadata": {
    "collapsed": false
   },
   "outputs": [
    {
     "name": "stdout",
     "output_type": "stream",
     "text": [
      "mean of Data is 0.465.\n",
      "standard deviation of Data is 0.269.\n"
     ]
    }
   ],
   "source": [
    "print \"mean of Data is %.3f.\" % mean(Data)\n",
    "# print \"He's got %s eyes and %s hair.\" % (my_eyes, my_hair)\n",
    "print \"standard deviation of Data is %.3f.\" % std(Data)"
   ]
  },
  {
   "cell_type": "code",
   "execution_count": null,
   "metadata": {
    "collapsed": true
   },
   "outputs": [],
   "source": []
  },
  {
   "cell_type": "markdown",
   "metadata": {},
   "source": [
    "[3] (5 points) Calculate the variance of your Data."
   ]
  },
  {
   "cell_type": "code",
   "execution_count": 5,
   "metadata": {
    "collapsed": false
   },
   "outputs": [
    {
     "name": "stdout",
     "output_type": "stream",
     "text": [
      "variance of Data is 0.072.\n"
     ]
    }
   ],
   "source": [
    "print \"variance of Data is %.3f.\" % var(Data)"
   ]
  },
  {
   "cell_type": "code",
   "execution_count": null,
   "metadata": {
    "collapsed": true
   },
   "outputs": [],
   "source": []
  },
  {
   "cell_type": "markdown",
   "metadata": {},
   "source": [
    "[4] (5 points) Let X be associated with the numbers in your Data. If each number in Data is equally likely, then explain what we mean by Pr( X = x ). Illustrate with an example from your Data. "
   ]
  },
  {
   "cell_type": "code",
   "execution_count": 6,
   "metadata": {
    "collapsed": false
   },
   "outputs": [
    {
     "data": {
      "text/plain": [
       "array([ 0.83303958,  0.05399776,  0.64316616,  0.83111681,  0.50985419,\n",
       "        0.85146611,  0.5297228 ,  0.0740266 ,  0.05800353,  0.73545906])"
      ]
     },
     "execution_count": 6,
     "metadata": {},
     "output_type": "execute_result"
    }
   ],
   "source": [
    "import random\n",
    "n = 10\n",
    "X = np.random.choice(Data, n, replace=False)\n",
    "X"
   ]
  },
  {
   "cell_type": "code",
   "execution_count": 8,
   "metadata": {
    "collapsed": false
   },
   "outputs": [
    {
     "name": "stdout",
     "output_type": "stream",
     "text": [
      "the computing probability (sample 100000 times) of Data is 0.199.\n"
     ]
    }
   ],
   "source": [
    "count = 0\n",
    "loop_num = 100000\n",
    "for x in range(loop_num):\n",
    "    sample = random.choice(Data)\n",
    "    if sample in X:\n",
    "        count = count + 1\n",
    "prob_loop = count/loop_num\n",
    "print \"the computing probability (sample %d times) of Data is %.3f.\" % (loop_num, prob_loop)"
   ]
  },
  {
   "cell_type": "code",
   "execution_count": 12,
   "metadata": {
    "collapsed": false
   },
   "outputs": [
    {
     "name": "stdout",
     "output_type": "stream",
     "text": [
      "the theoretical probability of Data is 0.200.\n"
     ]
    }
   ],
   "source": [
    "prob_freq = len(X)/len(Data)\n",
    "print \"the theoretical probability of Data is %.3f.\" % prob_freq"
   ]
  },
  {
   "cell_type": "markdown",
   "metadata": {
    "collapsed": true
   },
   "source": [
    "My understanding of Pr( X = x ) is when we sample from the sample space, the chance of sampling that matches what we have in event X. Theoretically, it is the number of elements in X divided by the number of elements in the universal set. As we see the computed probability is very close to theoretical one (0.19815 vs 0.2), given sample size (100000 times) is large enough. "
   ]
  },
  {
   "cell_type": "code",
   "execution_count": null,
   "metadata": {
    "collapsed": true
   },
   "outputs": [],
   "source": []
  },
  {
   "cell_type": "markdown",
   "metadata": {
    "collapsed": true
   },
   "source": [
    "[5] (5 points) Given that each point in Data is equally likely, calculate Pr($X \\geq \\frac{1}{2}$). Explain why it\n",
    "would make no sense for me to ask you for the probability that $x \\geq \\frac{1}{2}$ (x is lowercase).\n",
    "(Hint: #1 might come in handy). "
   ]
  },
  {
   "cell_type": "code",
   "execution_count": 13,
   "metadata": {
    "collapsed": false
   },
   "outputs": [
    {
     "name": "stdout",
     "output_type": "stream",
     "text": [
      "the probability that X is greater and equal than half is 0.440.\n"
     ]
    }
   ],
   "source": [
    "prob_half = len(Data[Data>=0.5])/len(Data)\n",
    "print \"the probability that X is greater and equal than half is %.3f.\" % prob_half"
   ]
  },
  {
   "cell_type": "markdown",
   "metadata": {
    "collapsed": true
   },
   "source": [
    "By convention, upper case variables denote random variables while a particular instantiation of the random variable is denoted as lower case letters. \n",
    "\n",
    "Since lower case x is a non-random, fixed value, $x \\geq \\frac{1}{2}$ can only be 0 or 1. We want to calculate the chance of event based on random sampling. \n",
    "\n",
    "As we see in #1, the lower case x is just the labler (index) while the X is random variable. "
   ]
  },
  {
   "cell_type": "code",
   "execution_count": null,
   "metadata": {
    "collapsed": true
   },
   "outputs": [],
   "source": []
  },
  {
   "cell_type": "markdown",
   "metadata": {
    "collapsed": true
   },
   "source": [
    "[6] (5 points) Explain why the following is a probability density function.\n",
    "\n",
    "$$p(x) = \\left\\{\\begin{matrix}\n",
    "1 & if \\ 0 \\leqslant x \\leqslant 1\\\\ \n",
    "0 & otherwise\n",
    "\\end{matrix}\\right.$$\n",
    "\n",
    "What is its cumulative distribution function?\n",
    " "
   ]
  },
  {
   "cell_type": "markdown",
   "metadata": {
    "collapsed": true
   },
   "source": [
    "It is valid PDF, since: \n",
    "1. it's non-negative\n",
    "2. it integrates to one (proof below)\n",
    "$$\\begin{align*}\n",
    "pr(x) &=\\int_I p(x)d(x) \\\\ \n",
    " &= \\int_0^1 1 d(x) + \\int_{elsewhere}0d(x)\\\\ \n",
    " &= 1-0+0\\\\\n",
    " &= 1\n",
    "\\end{align*}$$"
   ]
  },
  {
   "cell_type": "markdown",
   "metadata": {
    "collapsed": true
   },
   "source": [
    "CDF is calculated on $P(x) =\\int_{-\\infty}^x  p(x)d(x)$\n",
    "\n",
    "we plug in the domain of x and we have: \n",
    "$$P(x)=\n",
    "\\left\\{\\begin{matrix}\n",
    "0 & x < 0\\\\ \n",
    "1 & 0 \\leqslant x \\leqslant 1\\\\ \n",
    "1 & x > 1 \n",
    "\\end{matrix}\\right.$$"
   ]
  },
  {
   "cell_type": "code",
   "execution_count": null,
   "metadata": {
    "collapsed": true
   },
   "outputs": [],
   "source": []
  },
  {
   "cell_type": "markdown",
   "metadata": {
    "collapsed": true
   },
   "source": [
    "[7] (5 points) What is Pr( 1/a < X < 1 )? "
   ]
  },
  {
   "cell_type": "code",
   "execution_count": 14,
   "metadata": {
    "collapsed": false
   },
   "outputs": [
    {
     "name": "stdout",
     "output_type": "stream",
     "text": [
      "the probability that X is greater than 0.2 and smaller than 1 is 0.720.\n"
     ]
    }
   ],
   "source": [
    "a = 4\n",
    "index = ((Data > 1/a) & (Data < 1))\n",
    "prob_a = len(Data[index])/len(Data)\n",
    "print \"the probability that X is greater than %.1f and smaller than 1 is %.3f.\" % (1/a, prob_a)"
   ]
  },
  {
   "cell_type": "code",
   "execution_count": null,
   "metadata": {
    "collapsed": false
   },
   "outputs": [],
   "source": []
  },
  {
   "cell_type": "markdown",
   "metadata": {},
   "source": [
    "[8] (5 points) Calculate the expected value of the probability density function for uniformly random\n",
    "variables, where the density is in #6."
   ]
  },
  {
   "cell_type": "markdown",
   "metadata": {},
   "source": [
    "$$\\begin{align*}\n",
    "\\mu = E(x) &=\\int_I xp(x)d(x) \\\\ \n",
    " &= \\int_0^1 x d(x) + \\int_{elsewhere}0d(x)\\\\ \n",
    " &= \\frac{1^2}{2}-0+0\\\\\n",
    " &= \\frac{1}{2}\n",
    "\\end{align*}$$"
   ]
  },
  {
   "cell_type": "code",
   "execution_count": null,
   "metadata": {
    "collapsed": true
   },
   "outputs": [],
   "source": []
  },
  {
   "cell_type": "markdown",
   "metadata": {},
   "source": [
    "[9] (5 points) Calculate the variance of the probability density function for uniformly random\n",
    "variables, where the density is in #6. "
   ]
  },
  {
   "cell_type": "markdown",
   "metadata": {},
   "source": [
    "$$\\begin{align*}\n",
    "Var(x) &=\\int_I (x-\\mu)^2 p(x)d(x) \\\\ \n",
    " &= \\int_0^1 (x-\\frac{1}{2})^2 d(x) + \\int_{elsewhere}0d(x)\\\\ \n",
    " &= \\frac{1^3}{3} - \\frac{1^2}{2} + \\frac{1}{4}\\\\\n",
    " &= \\frac{1}{12}\n",
    "\\end{align*}$$"
   ]
  },
  {
   "cell_type": "code",
   "execution_count": null,
   "metadata": {
    "collapsed": true
   },
   "outputs": [],
   "source": []
  },
  {
   "cell_type": "markdown",
   "metadata": {},
   "source": [
    "[10] (5 points) How close is the variance of the Data in 2 to the variance of the uniform distribution,\n",
    "whose variance you calculated in #9? In your opinion, how good is the linear congruential\n",
    "random number generator based on your enumber? Feel free to use histograms, other\n",
    "statistics, etcetera to support your conclusions. "
   ]
  },
  {
   "cell_type": "code",
   "execution_count": 15,
   "metadata": {
    "collapsed": false
   },
   "outputs": [
    {
     "name": "stdout",
     "output_type": "stream",
     "text": [
      "the variance of data is 0.072434\n",
      "the variance of the probability density function for uniformly random variables is 0.083333\n"
     ]
    }
   ],
   "source": [
    "print \"the variance of data is %f\" %var(Data) \n",
    "print \"the variance of the probability density function for uniformly random variables is %f\" %float(1/12)"
   ]
  },
  {
   "cell_type": "code",
   "execution_count": 16,
   "metadata": {
    "collapsed": false
   },
   "outputs": [
    {
     "data": {
      "text/plain": [
       "(array([ 7.,  3.,  5.,  6.,  6.,  5.,  5.,  5.,  4.,  4.]),\n",
       " array([ 0.02291299,  0.11591091,  0.20890883,  0.30190675,  0.39490466,\n",
       "         0.48790258,  0.5809005 ,  0.67389841,  0.76689633,  0.85989425,\n",
       "         0.95289216]),\n",
       " <a list of 10 Patch objects>)"
      ]
     },
     "execution_count": 16,
     "metadata": {},
     "output_type": "execute_result"
    },
    {
     "data": {
      "image/png": "[encoded data removed]",
      "text/plain": [
       "<matplotlib.figure.Figure at 0x106879290>"
      ]
     },
     "metadata": {},
     "output_type": "display_data"
    }
   ],
   "source": [
    "import matplotlib.pyplot as plt\n",
    "plt.hist(Data)"
   ]
  },
  {
   "cell_type": "code",
   "execution_count": 17,
   "metadata": {
    "collapsed": false
   },
   "outputs": [
    {
     "data": {
      "text/plain": [
       "(array([ 106.,   83.,  106.,  107.,   86.,  103.,  118.,   94.,   89.,  108.]),\n",
       " array([  1.44371627e-04,   1.00080683e-01,   2.00016995e-01,\n",
       "          2.99953307e-01,   3.99889618e-01,   4.99825930e-01,\n",
       "          5.99762241e-01,   6.99698553e-01,   7.99634865e-01,\n",
       "          8.99571176e-01,   9.99507488e-01]),\n",
       " <a list of 10 Patch objects>)"
      ]
     },
     "execution_count": 17,
     "metadata": {},
     "output_type": "execute_result"
    },
    {
     "data": {
      "image/png": "[encoded data removed]",
      "text/plain": [
       "<matplotlib.figure.Figure at 0x108b78750>"
      ]
     },
     "metadata": {},
     "output_type": "display_data"
    }
   ],
   "source": [
    "n = 1000\n",
    "uniform_data = np.random.uniform(0,1,n)\n",
    "plt.hist(uniform_data)"
   ]
  },
  {
   "cell_type": "markdown",
   "metadata": {},
   "source": [
    "Graphically, our data distribution is somewhat close to uniform distribution"
   ]
  },
  {
   "cell_type": "code",
   "execution_count": 18,
   "metadata": {
    "collapsed": false
   },
   "outputs": [
    {
     "name": "stdout",
     "output_type": "stream",
     "text": [
      "the Kolmogorov Smirnov test statistics is 0.1071 and the p-value is 0.5930\n"
     ]
    }
   ],
   "source": [
    "from scipy import stats\n",
    "statistics, pvalue = stats.kstest(Data, 'uniform')\n",
    "print \"the Kolmogorov Smirnov test statistics is %.4f and the p-value is %.4f\" %(statistics, pvalue)\n"
   ]
  },
  {
   "cell_type": "markdown",
   "metadata": {},
   "source": [
    "Since the null hypothesis of Kolmogorov Smirnov test is that the two distributions are identical. The large p-value implies that we cannot reject the null hypothesis and conlude that the linear congruential random number generator based on my enumber is drawn from uniform distribution. Thus, statistically it is also proved to be a good way to sample uniform distributed data based on E-numbers. "
   ]
  }
 ],
 "metadata": {
  "kernelspec": {
   "display_name": "Python 2",
   "language": "python",
   "name": "python2"
  },
  "language_info": {
   "codemirror_mode": {
    "name": "ipython",
    "version": 2
   },
   "file_extension": ".py",
   "mimetype": "text/x-python",
   "name": "python",
   "nbconvert_exporter": "python",
   "pygments_lexer": "ipython2",
   "version": "2.7.10"
  }
 },
 "nbformat": 4,
 "nbformat_minor": 0
}
