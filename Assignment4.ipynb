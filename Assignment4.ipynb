{
 "cells": [
  {
   "cell_type": "markdown",
   "metadata": {},
   "source": [
    "<h1 align=center>Assignment 4</h1>\n",
    "\n",
    "## Due Monday, November 2, by 11:59:59 p.m. \n",
    "\n",
    "Let _a,b,c,d_ be the last 4 non-zero digits of your Enumber. My Enumber is E00404624, then __a=4, b=6, c=2,__ and __d=4__. In all problems below, consider t to be in the interval [0, 1] :\n",
    "\n",
    "Remember to start by importing the future!!"
   ]
  },
  {
   "cell_type": "code",
   "execution_count": 6,
   "metadata": {
    "collapsed": false
   },
   "outputs": [
    {
     "name": "stdout",
     "output_type": "stream",
     "text": [
      "Populating the interactive namespace from numpy and matplotlib\n"
     ]
    }
   ],
   "source": [
    "%pylab inline\n",
    "from __future__ import division"
   ]
  },
  {
   "cell_type": "code",
   "execution_count": 7,
   "metadata": {
    "collapsed": false
   },
   "outputs": [],
   "source": [
    "a = 4; b = 6; c = 2; d = 4"
   ]
  },
  {
   "cell_type": "markdown",
   "metadata": {},
   "source": [
    "__1.__ (10 points) Find the Lagrange polynomial interpolation of the points\n",
    "\n",
    "$$(0, d), (3, 0), (6, 0), (8, a)$$\n",
    "\n",
    "Expand into standard form ( $y = Ax^3 +Bx^2 +Cx+ D$ ). Show that it passes through each of the given points. What is its derivative? What is its second derivative?"
   ]
  },
  {
   "cell_type": "code",
   "execution_count": 8,
   "metadata": {
    "collapsed": false
   },
   "outputs": [
    {
     "name": "stdout",
     "output_type": "stream",
     "text": [
      "0.0222222222222222*X**3 + 0.0222222222222222*X**2 - 1.6*X + 4.0\n"
     ]
    }
   ],
   "source": [
    "import sympy \n",
    "\n",
    "def LagrangeInterpolator (xdata, ydata):\n",
    "    X=sympy.symbols('X')\n",
    "    assert len(xdata) == len(ydata)\n",
    "    y=float(0.0)\n",
    "    for k in range ( len(xdata) ):\n",
    "        t=float(1.0)\n",
    "        for j in range ( len(xdata) ):\n",
    "            if j != k:\n",
    "                t=t* ( (X-xdata[j]) / float(xdata[k]-xdata[j]) ) # when I put number, OK\n",
    "        y+= t*ydata[k]\n",
    "    return y\n",
    "\n",
    "xdata = [0,3,6,8]\n",
    "ydata = [d,0,0,a]\n",
    "print sympy.simplify(LagrangeInterpolator(xdata,ydata))"
   ]
  },
  {
   "cell_type": "code",
   "execution_count": 9,
   "metadata": {
    "collapsed": false
   },
   "outputs": [
    {
     "data": {
      "text/plain": [
       "poly1d([ 0.02222222,  0.02222222, -1.6       ,  4.        ])"
      ]
     },
     "execution_count": 9,
     "metadata": {},
     "output_type": "execute_result"
    }
   ],
   "source": [
    "from scipy import interpolate\n",
    "x = [0,3,6,8]; w = [d,0,0,a]\n",
    "interpolate.lagrange(x,w) #which are exactly the same as above"
   ]
  },
  {
   "cell_type": "code",
   "execution_count": 10,
   "metadata": {
    "collapsed": true
   },
   "outputs": [],
   "source": [
    "def Lagrange(x, xdata, ydata ):\n",
    "    \" LagrangeInterpolator(x,data)  -> x value predicted from polynomial interpolation of data\"\n",
    "    \n",
    "    n = len(xdata)\n",
    "    assert len(xdata) == len(ydata), \"xdata and ydata must be the same length\"\n",
    "    if( iterable(x) ):\n",
    "        y = zeros(len(x))\n",
    "        phi = ones((n,len(x)))\n",
    "    else:\n",
    "        y = 0\n",
    "        phi = ones(n)\n",
    "    for i in range(n):\n",
    "        phi[i] = prod( [ (x-xdata[j])/(xdata[i]-xdata[j]) for j in range(n) if j!= i ], axis=0 ) \n",
    "        y += ydata[i]*phi[i]\n",
    "    return y"
   ]
  },
  {
   "cell_type": "code",
   "execution_count": 11,
   "metadata": {
    "collapsed": false
   },
   "outputs": [
    {
     "data": {
      "text/plain": [
       "[<matplotlib.lines.Line2D at 0x1097c2050>]"
      ]
     },
     "execution_count": 11,
     "metadata": {},
     "output_type": "execute_result"
    },
    {
     "name": "stderr",
     "output_type": "stream",
     "text": [
      "/Users/dennis/anaconda/lib/python2.7/site-packages/matplotlib/collections.py:590: FutureWarning: elementwise comparison failed; returning scalar instead, but in the future will perform elementwise comparison\n",
      "  if self._edgecolors == str('face'):\n"
     ]
    },
    {
     "data": {
      "image/png": "[encoded data removed]",
      "text/plain": [
       "<matplotlib.figure.Figure at 0x1097b8c10>"
      ]
     },
     "metadata": {},
     "output_type": "display_data"
    }
   ],
   "source": [
    "xdata = [0,3,6,8]\n",
    "ydata = [d,0,0,a]\n",
    "\n",
    "x = linspace(0,10,1000)\n",
    "\n",
    "scatter(xdata,ydata)\n",
    "plot(x,Lagrange(x,xdata,ydata))"
   ]
  },
  {
   "cell_type": "code",
   "execution_count": 12,
   "metadata": {
    "collapsed": false
   },
   "outputs": [
    {
     "name": "stdout",
     "output_type": "stream",
     "text": [
      "the first derivative of function is  0.0666666666666667*X**2 + 0.0444444444444444*X - 1.6\n",
      "the second derivative of function is  0.133333333333333*X + 0.0444444444444444\n"
     ]
    }
   ],
   "source": [
    "y= sympy.simplify(LagrangeInterpolator(xdata,ydata))\n",
    "print \"the first derivative of function is \", sympy.diff(y)\n",
    "\n",
    "print \"the second derivative of function is \", sympy.diff(sympy.diff(y))"
   ]
  },
  {
   "cell_type": "code",
   "execution_count": null,
   "metadata": {
    "collapsed": true
   },
   "outputs": [],
   "source": []
  },
  {
   "cell_type": "markdown",
   "metadata": {},
   "source": [
    "__2.__ (5 points) Find the Barycentric form of Lagrange polynomial interpolation of the points\n",
    "\n",
    "$$(0, d), (3, 0), (6, 0), (8, a)$$\n",
    "\n",
    "Show that it produces the same curve as in 1"
   ]
  },
  {
   "cell_type": "code",
   "execution_count": 13,
   "metadata": {
    "collapsed": false
   },
   "outputs": [
    {
     "name": "stdout",
     "output_type": "stream",
     "text": [
      "X*(X - 8)*(X - 6)*(X - 3)*(0.05/(X - 8) - 0.0416666666666667/X)\n"
     ]
    }
   ],
   "source": [
    "def BarycentricInterpolator(xdata, ydata ):\n",
    "    X=sympy.symbols('X')\n",
    "    assert len(xdata) == len(ydata)\n",
    "    y=float(0.0)\n",
    "    n = len(xdata)\n",
    "    w = ones(n)\n",
    "    for i in range(n):\n",
    "        w[i] = 1/prod([xdata[i] - xdata[j] for j in range(n) if j != i ]) \n",
    "    xMinusxi = X - array(xdata)\n",
    "    phi = prod(xMinusxi)\n",
    "    for i in range ( n ):\n",
    "        y += w[i]/(xMinusxi[i]) *ydata[i]\n",
    "    return phi*y\n",
    "\n",
    "xdata = [0,3,6,8]\n",
    "ydata = [6,0,0,a]\n",
    "print sympy.sympify(BarycentricInterpolator(xdata,ydata))"
   ]
  },
  {
   "cell_type": "code",
   "execution_count": 14,
   "metadata": {
    "collapsed": false
   },
   "outputs": [
    {
     "name": "stderr",
     "output_type": "stream",
     "text": [
      "/Users/dennis/anaconda/lib/python2.7/site-packages/ipykernel/__main__.py:2: RuntimeWarning: divide by zero encountered in true_divide\n",
      "  from ipykernel import kernelapp as app\n",
      "/Users/dennis/anaconda/lib/python2.7/site-packages/ipykernel/__main__.py:2: RuntimeWarning: invalid value encountered in multiply\n",
      "  from ipykernel import kernelapp as app\n"
     ]
    },
    {
     "data": {
      "image/png": "[encoded data removed]",
      "text/plain": [
       "<matplotlib.figure.Figure at 0x10a0a1610>"
      ]
     },
     "metadata": {},
     "output_type": "display_data"
    }
   ],
   "source": [
    "def f(X):\n",
    "    return X*(X - 8)*(X - 6)*(X - 3)*(0.05/(X - 8) - 0.0416666666666667/X)\n",
    "\n",
    "import matplotlib.pyplot as plt\n",
    "xdomain = linspace(0,10,1000)\n",
    "scatter(xdata,ydata)\n",
    "# red dashes, blue squares and green triangles\n",
    "#plt.plot(xdomain, Lagrange(xdomain,xdata,ydata), 'b--', xdomain, f(xdomain), 'r--')\n",
    "line1 = plt.plot(xdomain, Lagrange(xdomain,xdata,ydata), 'g', label='Lagrange')\n",
    "line2 = plt.plot(xdomain, f(xdomain), '--r', label='Barycentric')\n",
    "pylab.legend(loc='upper left')\n",
    "plt.show()"
   ]
  },
  {
   "cell_type": "code",
   "execution_count": null,
   "metadata": {
    "collapsed": true
   },
   "outputs": [],
   "source": []
  },
  {
   "cell_type": "markdown",
   "metadata": {},
   "source": [
    "__3.__ (5 points) Find the Bezier curve of order 3 given by\n",
    "\n",
    "$$r_1(t) = (1-t)^3P_0 +  3(1-t)^2tP_1 + 3(1-t)t^2P_2+t^3P_3$$\n",
    "\n",
    "through the points $P_0 = (0, d) \\ and \\ P_3 = (3, 0)$ with control points $P_1 = (1, a) \\ and \\ P_2 = (2, b)$ Given that $r_1(t) = <x(t), y (t)>$ solve for y as a function of x to obtain y = P (x): \n",
    "1. What is the slope of the tangent line at $P_0$? \n",
    "2. What is the slope of the tangent line at $P_3$? \n",
    "3. What is the slope of the tangent line corresponding to x = 1.5?"
   ]
  },
  {
   "cell_type": "markdown",
   "metadata": {},
   "source": [
    "$((1-t)+t)^3 = 1 \\rightarrow (1-t)^3 +  3(1-t)^2t + 3(1-t)t^2+t^3 =1$\n",
    "\n",
    "whose terms be redefined as \n",
    "$$\n",
    "\\begin{align}\n",
    "B_0(t) &+ B_1(t) + B_2(t) + B_3(t) = 1 \\\\\n",
    "B_0(t) &= (1-t)^3 \\\\\n",
    "B_1(t) &= 3(1-t)^2t \\\\\n",
    "B_2(t) &= 3(1-t)t^2 \\\\\n",
    "B_3(t) &= t^3\n",
    "\\end{align}\n",
    "$$\n",
    "For any given t, the four basis functions will exactly sum to give the x value for that t \n",
    "1. $x(t) = x_0B_0(t) + x_1B_1(t) + x_2B_2(t) + x_3B_3(t)$ \n",
    "2. $y(t) = y_0B_0(t) + y_1B_1(t) + y_2B_2(t) + y_3B_3(t)$\n",
    "\n",
    "And therefore we have\n",
    "\n",
    "$x(t) = 0(1-t)^3 + 3(1-t)^2t + 6(1-t)t^2+ 3t^3 = 3t$\n",
    "$y(t) = 4(1-t)^3 + 12(1-t)^2t + 6(1-t)t^2+ 3t^3 = 3t$"
   ]
  },
  {
   "cell_type": "code",
   "execution_count": 15,
   "metadata": {
    "collapsed": false
   },
   "outputs": [
    {
     "name": "stdout",
     "output_type": "stream",
     "text": [
      "x(t) function is 3*t\n",
      "y(t) function is -10*t**3 + 6*t**2 + 4\n"
     ]
    }
   ],
   "source": [
    "from math import factorial\n",
    "\n",
    "def binomialCoefficient(n, k):\n",
    "    return factorial(n) // (factorial(k) * factorial(n - k))\n",
    "\n",
    "def Beizer_x(xdata):\n",
    "    t=sympy.symbols('t')\n",
    "    n = len(xdata) #order of x\n",
    "    out = float(0.0)\n",
    "    for j in range ( n ):\n",
    "        out += binomialCoefficient(n-1,j)*(1-t)**(n-1-j) * t**j * xdata[j]\n",
    "    return out\n",
    "\n",
    "def Beizer_y(ydata):\n",
    "    t=sympy.symbols('t')\n",
    "    n = len(ydata) #order of x\n",
    "    out = float(0.0)\n",
    "    for j in range ( n ):\n",
    "        out += binomialCoefficient(n-1,j)*(1-t)**(n-1-j) * t**j * ydata[j]\n",
    "    return out\n",
    "\n",
    "xdata = [0,1,2,3]\n",
    "ydata = [d,a,b,0]\n",
    "xt = sympy.simplify(Beizer_x(xdata)) \n",
    "yt = sympy.simplify(Beizer_y(ydata)) \n",
    "print \"x(t) function is\", xt \n",
    "print \"y(t) function is\", yt"
   ]
  },
  {
   "cell_type": "code",
   "execution_count": 16,
   "metadata": {
    "collapsed": false
   },
   "outputs": [
    {
     "name": "stdout",
     "output_type": "stream",
     "text": [
      "the Beizer function is -10*x**3/27 + 2*x**2/3 + 4\n",
      "the first derivative of Beizer function is -10*x**2/9 + 4*x/3\n",
      "slope at P0 [0,4] is  0\n",
      "slope at P3 [3,0] is  -6\n",
      "slope at Point where x = 1.5 is  -0.500000000000000\n"
     ]
    }
   ],
   "source": [
    "#sympy.div(Beizer_y(ydata),Beizer_x(xdata))\n",
    "x=sympy.symbols('x')\n",
    "Beizer_1 = yt.subs('t',x/3) #x = 3t\n",
    "print \"the Beizer function is\", Beizer_1\n",
    "dif_Beizer = sympy.diff(Beizer_1,x)\n",
    "print \"the first derivative of Beizer function is\", dif_Beizer\n",
    "print \"slope at P0 [0,4] is \", dif_Beizer.subs('x',0)\n",
    "print \"slope at P3 [3,0] is \", dif_Beizer.subs('x',3)\n",
    "print \"slope at Point where x = 1.5 is \", dif_Beizer.subs('x',1.5)"
   ]
  },
  {
   "cell_type": "code",
   "execution_count": 17,
   "metadata": {
    "collapsed": false
   },
   "outputs": [],
   "source": [
    "\n",
    "# def make_bezier(xypair):\n",
    "#     n = len(xypair)\n",
    "#     combination = pascal_row(n-1)\n",
    "#     def bezier(ts):\n",
    "#         result = []\n",
    "#         for t in ts:\n",
    "#             tpowers = (t**i in range(n)) #t^n\n",
    "#             upowers = reversed([(1-t)**i for i in range(n)]) #(1-t)^n\n",
    "#             coef = [c*a*b for c,a,b in zip(combination,tpowers,upowers)]\n",
    "#             result.append(tuple(sum([coef*p for coef, p in zip(coefs, ps)])\n",
    "#                                for ps in zip(*xypair))) #Sigma(coef*p)\n",
    "#             return result\n",
    "#         return bezier\n",
    "# def pascal_row(n):\n",
    "#     result = [1]\n",
    "#     x, numerator = 1, n\n",
    "#     for denominator in range(1, n//2+1): #n/2\n",
    "#         print(numerator,denominator,x)\n",
    "#         x *= numerator\n",
    "#         x /= denominator\n",
    "#         result.append(x)\n",
    "#         numerator -= 1\n",
    "#     if n&1 == 0: # n is even\n",
    "#         result.extend(reversed(result[:-1])) #[1,2,3]-->[1, 2, 3, 2, 1]\n",
    "#     else:\n",
    "#         result.extend(reversed(result)) #[1,2] --> [1,2,2,1]\n",
    "#     return result "
   ]
  },
  {
   "cell_type": "code",
   "execution_count": null,
   "metadata": {
    "collapsed": false
   },
   "outputs": [],
   "source": []
  },
  {
   "cell_type": "markdown",
   "metadata": {},
   "source": [
    "__4.__ (5 points) Find the Bezier curve of order 3 given by\n",
    "\n",
    "$$r_2(t) = (1-t)^3Q_0 +  3(1-t)^2tQ_1 + 3(1-t)t^2Q_2+t^3Q_3$$\n",
    "\n",
    "through the points $Q_0 = (3,0) \\ and \\ Q_3 = (6,0)$ with control points $Q_1 = (4, b) \\ and \\ Q_2 = (5, c)$ Given that $r_2(t) = <x(t), y (t)>$ solve for y as a function of x to obtain y = Q (x): \n",
    "1. What is the slope of the tangent line at $Q_0$? \n",
    "2. What is the slope of the tangent line at $Q_3$? \n",
    "3. Show that the second derivative is linear"
   ]
  },
  {
   "cell_type": "code",
   "execution_count": 18,
   "metadata": {
    "collapsed": false
   },
   "outputs": [
    {
     "name": "stdout",
     "output_type": "stream",
     "text": [
      "x(t) function is 3*t + 3\n",
      "y(t) function is 6*t*(2*t**2 - 5*t + 3)\n"
     ]
    }
   ],
   "source": [
    "xdata = [3,4,5,6]\n",
    "ydata = [0,b,c,0]\n",
    "xt = sympy.simplify(Beizer_x(xdata)) \n",
    "yt = sympy.simplify(Beizer_y(ydata)) \n",
    "print \"x(t) function is\", xt \n",
    "print \"y(t) function is\", yt"
   ]
  },
  {
   "cell_type": "code",
   "execution_count": 19,
   "metadata": {
    "collapsed": false
   },
   "outputs": [
    {
     "name": "stdout",
     "output_type": "stream",
     "text": [
      "the Beizer function is 4*x**3/9 - 22*x**2/3 + 38*x - 60\n",
      "the first derivative of Beizer function is 4*x**2/3 - 44*x/3 + 38\n",
      "slope at Q0 [3,0] is  6\n",
      "slope at Q3 [6,0] is  -2\n",
      "the second derivative of Beizer function is 8*x/3 - 44/3 which is linear on x\n"
     ]
    }
   ],
   "source": [
    "#sympy.div(Beizer_y(ydata),Beizer_x(xdata)) \n",
    "Beizer_2 = yt.subs('t',x/3-1) #x = 3t+3\n",
    "print \"the Beizer function is\", sympy.expand(Beizer_2)\n",
    "dif_Beizer = sympy.diff(Beizer_2,x)\n",
    "print \"the first derivative of Beizer function is\", sympy.expand(dif_Beizer)\n",
    "print \"slope at Q0 [3,0] is \", dif_Beizer.subs('x',3)\n",
    "print \"slope at Q3 [6,0] is \", dif_Beizer.subs('x',6)\n",
    "print \"the second derivative of Beizer function is\", sympy.diff(dif_Beizer), \"which is linear on x\""
   ]
  },
  {
   "cell_type": "code",
   "execution_count": null,
   "metadata": {
    "collapsed": true
   },
   "outputs": [],
   "source": []
  },
  {
   "cell_type": "markdown",
   "metadata": {},
   "source": [
    "__5.__ (5 points) Find the Bezier curve of order 2 given by\n",
    "\n",
    "$$r_3(t) = (1-t)^2R_0 +  2(1-t)tR_1 + t^2R_2$$\n",
    "\n",
    "through the points $R_0 = (6,0) \\ and \\ R_2 = (8,a)$ with control points $R_1 = (7, d)$ Given that $r_3(t) = <x(t), y (t)>$ solve for y as a function of x to obtain y = R(x): \n",
    "1. What is the slope of the tangent line at $R_0$? \n",
    "2. What is the slope of the tangent line at $R_2$? \n",
    "3. Calculate the second derivative and explain why the concavity cannot change (inflect) between x = 6 and x = 8"
   ]
  },
  {
   "cell_type": "code",
   "execution_count": 20,
   "metadata": {
    "collapsed": false
   },
   "outputs": [
    {
     "name": "stdout",
     "output_type": "stream",
     "text": [
      "x(t) function is 2*t + 6\n",
      "y(t) function is 4*t*(-t + 2)\n"
     ]
    }
   ],
   "source": [
    "xdata = [6,7,8]\n",
    "ydata = [0,d,a]\n",
    "xt = sympy.simplify(Beizer_x(xdata)) \n",
    "yt = sympy.simplify(Beizer_y(ydata)) \n",
    "print \"x(t) function is\", xt \n",
    "print \"y(t) function is\", yt"
   ]
  },
  {
   "cell_type": "code",
   "execution_count": 21,
   "metadata": {
    "collapsed": false
   },
   "outputs": [
    {
     "name": "stdout",
     "output_type": "stream",
     "text": [
      "the Beizer function is -x**2 + 16*x - 60\n",
      "the first derivative of Beizer function is -2*x + 16\n",
      "slope at R0 [6,0] is  4\n",
      "slope at R2 [8,4] is  0\n",
      "the second derivative of Beizer function is -2 which is constant over x\n"
     ]
    }
   ],
   "source": [
    "sympy.div(Beizer_y(ydata),Beizer_x(xdata))\n",
    "Beizer_3 = yt.subs('t',x/2-3) #x = 2t+6\n",
    "print \"the Beizer function is\", sympy.expand(Beizer_3)\n",
    "dif_Beizer = sympy.diff(Beizer_3,x)\n",
    "print \"the first derivative of Beizer function is\", sympy.expand(dif_Beizer)\n",
    "print \"slope at R0 [6,0] is \", dif_Beizer.subs('x',6)\n",
    "print \"slope at R2 [8,4] is \", dif_Beizer.subs('x',8)\n",
    "print \"the second derivative of Beizer function is\", sympy.diff(dif_Beizer), \"which is constant over x\"\n"
   ]
  },
  {
   "cell_type": "markdown",
   "metadata": {},
   "source": [
    "__Concavity Theorem__: If the function f is twice differentiable at x=c, then the graph of f is: \n",
    "1. concave upward at $(c, f(c))$ if $f^{''}(c)<0$\n",
    "2. concave downward at $(c, f(c))$ if $f^{''}(c)>0$\n",
    "\n",
    "Since second order derivative remains to be positive over all x, it's concave downward in between x= 6 and x =8\n",
    "\n",
    "Therefore, no change of concavity happened. "
   ]
  },
  {
   "cell_type": "code",
   "execution_count": null,
   "metadata": {
    "collapsed": false
   },
   "outputs": [],
   "source": []
  },
  {
   "cell_type": "markdown",
   "metadata": {},
   "source": [
    "__6.__ (5 points) In 3, 4, and 5, solve for t as a function of x resulting in t = P (x), t = Q (x), and t = R (x) in each of 3,4,5, respectively.\n",
    "\n",
    "Define the function\n",
    "$$\n",
    "f(x) = \\left\\{\\begin{matrix}\n",
    "P(x) & over & 0\\leq x < 3\\\\ \n",
    "Q(x) & over & 3\\leq x < 6\\\\ \n",
    "R(x) & over & 6\\leq x \\leq 8\n",
    "\\end{matrix}\\right.\n",
    "$$\n",
    "\n",
    "1. Over what range of x-values is f (x) continuous? \n",
    "2. Over what range of x-values is f (x) differentiable (i.e., smooth) ? Explain fully. \n",
    "3. In what sense would you consider f (x) to be an example of a B-spline?"
   ]
  },
  {
   "cell_type": "code",
   "execution_count": 22,
   "metadata": {
    "collapsed": false
   },
   "outputs": [],
   "source": [
    "def r_1(x):\n",
    "    return -10*x**3/27 + 2*x**2/3 + 4\n",
    "def r_2(x):\n",
    "    return 6*(x/3 - 1)*(-5*x/3 + 2*(x/3 - 1)**2 + 8)\n",
    "def r_3(x):\n",
    "    return 4*(-x/2 + 5)*(x/2 - 3)\n",
    "# def f(x):\n",
    "#     conds = [(x>=0) and (x<3), (x>=3) and (x<6), (x>=6) and (x<=8)]\n",
    "#     funcs = [lambda x: -10*x**3/27 + 2*x**2/3 + 4, \n",
    "#              lambda x: 6*(x/3 - 1)*(-5*x/3 + 2*(x/3 - 1)**2 + 8), \n",
    "#              lambda x: 4*(-x/2 + 5)*(x/2 - 3)]\n",
    "#     return numpy.piecewise(x, conds, funcs)"
   ]
  },
  {
   "cell_type": "code",
   "execution_count": 23,
   "metadata": {
    "collapsed": false
   },
   "outputs": [
    {
     "data": {
      "image/png": "[encoded data removed]",
      "text/plain": [
       "<matplotlib.figure.Figure at 0x10a4442d0>"
      ]
     },
     "metadata": {},
     "output_type": "display_data"
    }
   ],
   "source": [
    "xdomain = linspace(0,10,1000)\n",
    "x1 = xdomain[np.all([xdomain >=0, xdomain < 3], axis=0)] \n",
    "line1 = plt.plot(x1, r_1(x1), 'g', label='r_1')\n",
    "x2 = xdomain[np.all([xdomain >=3, xdomain <6], axis=0)] \n",
    "line2 = plt.plot(x2, r_2(x2), 'b', label='r_2')\n",
    "x3 = xdomain[np.all([xdomain >=6, xdomain <8], axis=0)] \n",
    "line3 = plt.plot(x3, r_3(x3), 'r', label='r_3')\n",
    "pylab.legend(loc='lower left')\n",
    "plt.show()"
   ]
  },
  {
   "cell_type": "markdown",
   "metadata": {
    "collapsed": false
   },
   "source": [
    "f(x) is continuous over 0 and 8 but not differentiable at x = 3 and x =6 (differentiable elsewhere).\n",
    "\n",
    "$f^{'}(3^-) = -6 \\ and \\ f^{'}(3^+) = 6$, left and right derivatives are not equal $\\Rightarrow$ f(x) is not differentiable at x = 3\n",
    "\n",
    "$f^{'}(6^-) = -2 \\ and \\ f^{'}(6^+) = 4$, left and right derivatives are not equal $\\Rightarrow$ f(x) is not differentiable at x = 6"
   ]
  },
  {
   "cell_type": "markdown",
   "metadata": {},
   "source": [
    "Bezier Curve: \n",
    "1. There is __no local control__ (change of one control point affects the whole curve)\n",
    "2. Degree of curve is fixed by the number of control points\n",
    "\n",
    "B-Splines\n",
    "1. Each control point is associated with a __unique basis function__\n",
    "2. Each point affects the shape of the curve over a range of parameter values where the basis\n",
    "function is non-zero\n",
    "3. A k degree B-spline curve definted by n+1 control points will consist n-k+1 Bezier curves\n",
    "4. internal knots are distinct its derivatives are continuous up to the derivative of degree n-1\n",
    "\n",
    "Therefore, since f(x) is not continuous to the derivative of degree 2, we can say f(x) is quadratic spline (B-spline, n=2)."
   ]
  },
  {
   "cell_type": "code",
   "execution_count": null,
   "metadata": {
    "collapsed": true
   },
   "outputs": [],
   "source": []
  },
  {
   "cell_type": "markdown",
   "metadata": {},
   "source": [
    "__7.__ (10 points ) In 1978, Dr. Edwin Catmull of the New York Institute\n",
    "of Technology along with Jim Clark generalized B-spline surfaces into\n",
    "the concept of subdivision surfaces. The next year, Catmull was hired\n",
    "by CGL (the computer graphics lab), where he began developing the\n",
    "RenderMan software tool, leading eventually to the formation of Pixar\n",
    "Studios and the \"Pixar Braintrust\" headed by Catmull. Pixa's mathematical\n",
    "(computer science) algorithms and research group have wonmany awards (including an Academy Award in 2005 for the algorithm\n",
    "itself). Catmull remains the president of Pixar and is also a frequent\n",
    "speaker at mathematical conferences on the mathematics of subdivision\n",
    "surfaces.\n",
    "\n",
    "Subdivision surfaces are generalizations of the subdivision curves. Below\n",
    "is the Chaikinís algorithm for a simple subdivision curve.\n",
    "\n",
    "    Each iteration begins with a piecewise linear curve:\n",
    "        1) Insert new vertices at the midpoints of the line segments\n",
    "        2) Average successive vertices (clockwise if closed curve)\n",
    "        \n",
    "Notice that each \"average\" in step 2 involves an old vertex and a new\n",
    "vertex. In the limit (which occurs quickly even Pixar only uses 2\n",
    "or 3 iterations most of the time, with no more than 5 that I know of),\n",
    "the set of points is a smooth curve \"controlled\" by the original cage.\n",
    "Your job is to iterate it 3 times beginning with the \"cage\"\n",
    "\n",
    "$$(0, d), (3, 0), (6, 0), (8, a)$$\n",
    "\n",
    "which is the piecewise linear function denoted by the 4 points (note:\n",
    "these become the control points of the curve). You then should produce\n",
    "a graph (plot) of the resulting subdivision points along with its original\n",
    "control \"cage\" Note: If you desire, you can add as many points as you\n",
    "want to the original cage."
   ]
  },
  {
   "cell_type": "code",
   "execution_count": 213,
   "metadata": {
    "collapsed": false
   },
   "outputs": [],
   "source": [
    "xdata = [0,3,6,8]\n",
    "ydata = [d,0,0,a]\n"
   ]
  },
  {
   "cell_type": "code",
   "execution_count": 214,
   "metadata": {
    "collapsed": false
   },
   "outputs": [],
   "source": [
    "def subdivision(xdata,ydata):\n",
    "    n = len(xdata)\n",
    "    temp_x = [(xdata[i]+xdata[i+1])/2 for i in range(n-1)]\n",
    "    temp_y = [(ydata[j]+ydata[j+1])/2 for j in range(n-1)]\n",
    "    for i in range(n-1):\n",
    "        xdata.insert(2*i+1, temp_x[i]) \n",
    "        ydata.insert(2*i+1, temp_y[i]) \n",
    "    m = len(xdata)\n",
    "    xnew = [(xdata[i]+xdata[i+1])/2 for i in range(m-1)]\n",
    "    ynew = [(ydata[i]+ydata[i+1])/2 for i in range(m-1)]\n",
    "    return xnew, ynew"
   ]
  },
  {
   "cell_type": "code",
   "execution_count": 215,
   "metadata": {
    "collapsed": false
   },
   "outputs": [
    {
     "data": {
      "image/png": "[encoded data removed]",
      "text/plain": [
       "<matplotlib.figure.Figure at 0x10a665510>"
      ]
     },
     "metadata": {},
     "output_type": "display_data"
    },
    {
     "data": {
      "image/png": "[encoded data removed]",
      "text/plain": [
       "<matplotlib.figure.Figure at 0x10a8cd150>"
      ]
     },
     "metadata": {},
     "output_type": "display_data"
    },
    {
     "data": {
      "image/png": "[encoded data removed]",
      "text/plain": [
       "<matplotlib.figure.Figure at 0x10b3af810>"
      ]
     },
     "metadata": {},
     "output_type": "display_data"
    },
    {
     "data": {
      "image/png": "[encoded data removed]",
      "text/plain": [
       "<matplotlib.figure.Figure at 0x10c29d290>"
      ]
     },
     "metadata": {},
     "output_type": "display_data"
    }
   ],
   "source": [
    "import random\n",
    "from matplotlib.patches import Polygon\n",
    "\n",
    "\n",
    "for i in range(4):\n",
    "    points=zip(xdata,ydata)\n",
    "    color = \"#%06x\" % random.randint(0, 0xFFFFFF)\n",
    "    plt.scatter(xdata,ydata,s=5)\n",
    "    pylab.gca().add_patch(patches.Polygon(points,closed=False,fill=False,edgecolor= color))\n",
    "    pylab.show()\n",
    "    xdata, ydata = subdivision(xdata,ydata)\n",
    "\n"
   ]
  },
  {
   "cell_type": "code",
   "execution_count": null,
   "metadata": {
    "collapsed": true
   },
   "outputs": [],
   "source": []
  },
  {
   "cell_type": "markdown",
   "metadata": {},
   "source": [
    "__8.__ ( 5 points ) Repeat exercise 7 using the following algorithm.\n",
    "\n",
    "    Each iteration begins with a piecewise linear curve:\n",
    "        \n",
    "   1. Insert new vertices at the midpoints of the line segments.\n",
    "   2. For successive pairs of vertices (clockwise if closed curve)Add $\\frac{1}{4}$ times the first to $\\frac{3}{4}$ times the second"
   ]
  },
  {
   "cell_type": "code",
   "execution_count": 220,
   "metadata": {
    "collapsed": false
   },
   "outputs": [],
   "source": [
    "xdata = [0,3,6,8]\n",
    "ydata = [d,0,0,a]"
   ]
  },
  {
   "cell_type": "code",
   "execution_count": 221,
   "metadata": {
    "collapsed": false
   },
   "outputs": [],
   "source": [
    "def subdivision2(xdata,ydata):\n",
    "    n = len(xdata)\n",
    "    temp_x = [(xdata[i]+xdata[i+1])/2 for i in range(n-1)]\n",
    "    temp_y = [(ydata[j]+ydata[j+1])/2 for j in range(n-1)]\n",
    "    for i in range(n-1):\n",
    "        xdata.insert(2*i+1, temp_x[i]) \n",
    "        ydata.insert(2*i+1, temp_y[i]) \n",
    "    m = len(xdata)\n",
    "    Qx = [(3/4*xdata[i]+1/4*xdata[i+1])for i in range(m-1)]\n",
    "    Rx = [(1/4*xdata[i]+3/4*xdata[i+1])for i in range(m-1)]\n",
    "    Qy = [(3/4*ydata[i]+1/4*ydata[i+1])for i in range(m-1)]\n",
    "    Ry = [(1/4*ydata[i]+3/4*ydata[i+1])for i in range(m-1)]\n",
    "    xnew = [j for i in zip(Qx,Rx) for j in i]\n",
    "    ynew = [j for i in zip(Qy,Ry) for j in i]\n",
    "    return xnew,ynew"
   ]
  },
  {
   "cell_type": "code",
   "execution_count": 222,
   "metadata": {
    "collapsed": false
   },
   "outputs": [
    {
     "data": {
      "image/png": "[encoded data removed]",
      "text/plain": [
       "<matplotlib.figure.Figure at 0x10c1b6d10>"
      ]
     },
     "metadata": {},
     "output_type": "display_data"
    },
    {
     "data": {
      "image/png": "[encoded data removed]",
      "text/plain": [
       "<matplotlib.figure.Figure at 0x10a0d17d0>"
      ]
     },
     "metadata": {},
     "output_type": "display_data"
    },
    {
     "data": {
      "image/png": "[encoded data removed]",
      "text/plain": [
       "<matplotlib.figure.Figure at 0x10c1a6cd0>"
      ]
     },
     "metadata": {},
     "output_type": "display_data"
    },
    {
     "data": {
      "image/png": "[encoded data removed]",
      "text/plain": [
       "<matplotlib.figure.Figure at 0x10b6a3b50>"
      ]
     },
     "metadata": {},
     "output_type": "display_data"
    }
   ],
   "source": [
    "\n",
    "for i in range(4):\n",
    "    points=zip(xdata,ydata)\n",
    "    color = \"#%06x\" % random.randint(0, 0xFFFFFF)\n",
    "    plt.scatter(xdata,ydata,s=5)\n",
    "    pylab.gca().add_patch(patches.Polygon(points,closed=False,fill=False,edgecolor= color))\n",
    "    pylab.show()\n",
    "    xdata, ydata = subdivision2(xdata,ydata)\n",
    "\n"
   ]
  },
  {
   "cell_type": "code",
   "execution_count": null,
   "metadata": {
    "collapsed": false
   },
   "outputs": [],
   "source": []
  }
 ],
 "metadata": {
  "kernelspec": {
   "display_name": "Python 2",
   "language": "python",
   "name": "python2"
  },
  "language_info": {
   "codemirror_mode": {
    "name": "ipython",
    "version": 2
   },
   "file_extension": ".py",
   "mimetype": "text/x-python",
   "name": "python",
   "nbconvert_exporter": "python",
   "pygments_lexer": "ipython2",
   "version": "2.7.10"
  }
 },
 "nbformat": 4,
 "nbformat_minor": 0
}
